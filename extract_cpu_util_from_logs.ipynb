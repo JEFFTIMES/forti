{
  "nbformat": 4,
  "nbformat_minor": 0,
  "metadata": {
    "colab": {
      "provenance": [],
      "authorship_tag": "ABX9TyOD5QU+AfvzJwwJlazr//sf",
      "include_colab_link": true
    },
    "kernelspec": {
      "name": "python3",
      "display_name": "Python 3"
    },
    "language_info": {
      "name": "python"
    }
  },
  "cells": [
    {
      "cell_type": "markdown",
      "metadata": {
        "id": "view-in-github",
        "colab_type": "text"
      },
      "source": [
        "<a href=\"https://colab.research.google.com/github/JEFFTIMES/forti/blob/master/extract_cpu_util_from_logs.ipynb\" target=\"_parent\"><img src=\"https://colab.research.google.com/assets/colab-badge.svg\" alt=\"Open In Colab\"/></a>"
      ]
    },
    {
      "cell_type": "code",
      "execution_count": 1,
      "metadata": {
        "colab": {
          "base_uri": "https://localhost:8080/"
        },
        "id": "Gg69uvhyndiR",
        "outputId": "66cd2687-ec2f-486a-d5a7-6fd3f6799018"
      },
      "outputs": [
        {
          "output_type": "stream",
          "name": "stdout",
          "text": [
            "Mounted at /content/drive\n"
          ]
        }
      ],
      "source": [
        "from google.colab import drive\n",
        "drive.mount('/content/drive')"
      ]
    },
    {
      "source": [
        "with open('/content/drive/My Drive/Fortinet/fortinet_log_commands_3300E_PROD.cmd_20250117-235905_merged_logs.txt', 'r') as file:\n",
        "  content = file.read()\n",
        "  print(content)  # or do something else with the file content"
      ],
      "cell_type": "code",
      "metadata": {
        "id": "xItyGByKpDl0"
      },
      "execution_count": null,
      "outputs": []
    },
    {
      "source": [
        "from google.colab import drive\n",
        "drive.mount('/content/drive')\n",
        "\n",
        "# Verify if the file exists in the expected location\n",
        "from pathlib import Path\n",
        "file_path = Path('/content/drive/My Drive/Fortinet/fortinet_log_commands_3300E_PROD.cmd_20250117-235905_merged_logs.txt')\n",
        "\n",
        "if file_path.exists():\n",
        "  with open(file_path, 'r') as file:\n",
        "    content = file.read()\n",
        "    print(content)  # or do something else with the file content\n",
        "else:\n",
        "  print(f\"Error: File not found at {file_path}\")\n",
        "  print(\"Please double-check the file path and ensure the file exists in your Google Drive.\")\n",
        "  # Consider listing files in the directory for debugging\n",
        "  # print(f\"Files in the directory: {os.listdir(file_path.parent)}\") # Use os.listdir for directory listing"
      ],
      "cell_type": "code",
      "metadata": {
        "id": "T-FbcCcfqHnd"
      },
      "execution_count": null,
      "outputs": []
    },
    {
      "cell_type": "code",
      "source": [
        "len(content)\n",
        "lines = content.split('\\n')\n",
        "len(lines)\n",
        "\n",
        "cpu_utilization = []\n",
        "for line in lines:\n",
        "  if line.startswith('CPU'):\n",
        "    cpu_utilization.append(line)\n",
        "len(cpu_utilization)\n",
        "\n"
      ],
      "metadata": {
        "colab": {
          "base_uri": "https://localhost:8080/"
        },
        "id": "7cV--XECq9QA",
        "outputId": "3c58801b-604e-45fd-b812-a29a386c02cd"
      },
      "execution_count": 16,
      "outputs": [
        {
          "output_type": "execute_result",
          "data": {
            "text/plain": [
              "3626"
            ]
          },
          "metadata": {},
          "execution_count": 16
        }
      ]
    },
    {
      "cell_type": "code",
      "source": [
        "cpu_utilization[0:49]"
      ],
      "metadata": {
        "colab": {
          "base_uri": "https://localhost:8080/"
        },
        "id": "7uLsWxiXr_ci",
        "outputId": "dc9e1917-cd5e-4191-c11c-537ed4560f40"
      },
      "execution_count": 20,
      "outputs": [
        {
          "output_type": "execute_result",
          "data": {
            "text/plain": [
              "['CPU states: 4% user 2% system 0% nice 92% idle 0% iowait 0% irq 2% softirq',\n",
              " 'CPU0 states: 5% user 2% system 0% nice 89% idle 0% iowait 0% irq 4% softirq',\n",
              " 'CPU1 states: 24% user 11% system 0% nice 62% idle 0% iowait 0% irq 3% softirq',\n",
              " 'CPU2 states: 4% user 2% system 0% nice 92% idle 0% iowait 0% irq 2% softirq',\n",
              " 'CPU3 states: 0% user 0% system 0% nice 97% idle 0% iowait 0% irq 3% softirq',\n",
              " 'CPU4 states: 3% user 3% system 0% nice 85% idle 0% iowait 1% irq 8% softirq',\n",
              " 'CPU5 states: 4% user 1% system 0% nice 92% idle 0% iowait 0% irq 3% softirq',\n",
              " 'CPU6 states: 5% user 1% system 0% nice 92% idle 0% iowait 0% irq 2% softirq',\n",
              " 'CPU7 states: 2% user 2% system 0% nice 94% idle 0% iowait 0% irq 2% softirq',\n",
              " 'CPU8 states: 3% user 1% system 0% nice 94% idle 0% iowait 0% irq 2% softirq',\n",
              " 'CPU9 states: 9% user 2% system 0% nice 86% idle 0% iowait 0% irq 3% softirq',\n",
              " 'CPU10 states: 2% user 2% system 0% nice 91% idle 0% iowait 0% irq 5% softirq',\n",
              " 'CPU11 states: 2% user 2% system 0% nice 90% idle 0% iowait 0% irq 6% softirq',\n",
              " 'CPU12 states: 4% user 0% system 0% nice 94% idle 0% iowait 0% irq 2% softirq',\n",
              " 'CPU13 states: 2% user 0% system 0% nice 96% idle 0% iowait 0% irq 2% softirq',\n",
              " 'CPU14 states: 4% user 1% system 0% nice 91% idle 0% iowait 0% irq 4% softirq',\n",
              " 'CPU15 states: 3% user 1% system 0% nice 94% idle 0% iowait 0% irq 2% softirq',\n",
              " 'CPU16 states: 3% user 2% system 0% nice 93% idle 0% iowait 0% irq 2% softirq',\n",
              " 'CPU17 states: 2% user 1% system 0% nice 92% idle 0% iowait 0% irq 5% softirq',\n",
              " 'CPU18 states: 1% user 1% system 0% nice 96% idle 0% iowait 0% irq 2% softirq',\n",
              " 'CPU19 states: 7% user 2% system 0% nice 83% idle 0% iowait 1% irq 7% softirq',\n",
              " 'CPU20 states: 6% user 3% system 0% nice 89% idle 0% iowait 0% irq 2% softirq',\n",
              " 'CPU21 states: 3% user 1% system 0% nice 94% idle 0% iowait 0% irq 2% softirq',\n",
              " 'CPU22 states: 1% user 1% system 0% nice 94% idle 0% iowait 0% irq 4% softirq',\n",
              " 'CPU23 states: 4% user 4% system 0% nice 84% idle 0% iowait 1% irq 7% softirq',\n",
              " 'CPU24 states: 3% user 0% system 0% nice 97% idle 0% iowait 0% irq 0% softirq',\n",
              " 'CPU25 states: 3% user 0% system 0% nice 97% idle 0% iowait 0% irq 0% softirq',\n",
              " 'CPU26 states: 3% user 1% system 0% nice 96% idle 0% iowait 0% irq 0% softirq',\n",
              " 'CPU27 states: 2% user 1% system 0% nice 97% idle 0% iowait 0% irq 0% softirq',\n",
              " 'CPU28 states: 5% user 2% system 0% nice 93% idle 0% iowait 0% irq 0% softirq',\n",
              " 'CPU29 states: 3% user 2% system 0% nice 95% idle 0% iowait 0% irq 0% softirq',\n",
              " 'CPU30 states: 3% user 2% system 0% nice 95% idle 0% iowait 0% irq 0% softirq',\n",
              " 'CPU31 states: 2% user 1% system 0% nice 97% idle 0% iowait 0% irq 0% softirq',\n",
              " 'CPU32 states: 2% user 2% system 0% nice 96% idle 0% iowait 0% irq 0% softirq',\n",
              " 'CPU33 states: 1% user 1% system 0% nice 98% idle 0% iowait 0% irq 0% softirq',\n",
              " 'CPU34 states: 0% user 1% system 0% nice 99% idle 0% iowait 0% irq 0% softirq',\n",
              " 'CPU35 states: 0% user 1% system 0% nice 99% idle 0% iowait 0% irq 0% softirq',\n",
              " 'CPU36 states: 4% user 2% system 0% nice 94% idle 0% iowait 0% irq 0% softirq',\n",
              " 'CPU37 states: 2% user 1% system 0% nice 97% idle 0% iowait 0% irq 0% softirq',\n",
              " 'CPU38 states: 7% user 1% system 0% nice 92% idle 0% iowait 0% irq 0% softirq',\n",
              " 'CPU39 states: 3% user 1% system 0% nice 96% idle 0% iowait 0% irq 0% softirq',\n",
              " 'CPU40 states: 10% user 1% system 0% nice 89% idle 0% iowait 0% irq 0% softirq',\n",
              " 'CPU41 states: 1% user 1% system 0% nice 98% idle 0% iowait 0% irq 0% softirq',\n",
              " 'CPU42 states: 2% user 3% system 0% nice 95% idle 0% iowait 0% irq 0% softirq',\n",
              " 'CPU43 states: 2% user 1% system 0% nice 97% idle 0% iowait 0% irq 0% softirq',\n",
              " 'CPU44 states: 3% user 2% system 0% nice 95% idle 0% iowait 0% irq 0% softirq',\n",
              " 'CPU45 states: 0% user 1% system 0% nice 99% idle 0% iowait 0% irq 0% softirq',\n",
              " 'CPU46 states: 2% user 1% system 0% nice 97% idle 0% iowait 0% irq 0% softirq',\n",
              " 'CPU47 states: 3% user 0% system 0% nice 97% idle 0% iowait 0% irq 0% softirq']"
            ]
          },
          "metadata": {},
          "execution_count": 20
        }
      ]
    },
    {
      "cell_type": "code",
      "source": [
        "len(cpu_utilization)/49"
      ],
      "metadata": {
        "colab": {
          "base_uri": "https://localhost:8080/"
        },
        "id": "wEq-8VkDsg0u",
        "outputId": "0199d372-500f-4d7e-ba13-dbff8847c1f0"
      },
      "execution_count": 21,
      "outputs": [
        {
          "output_type": "execute_result",
          "data": {
            "text/plain": [
              "74.0"
            ]
          },
          "metadata": {},
          "execution_count": 21
        }
      ]
    },
    {
      "cell_type": "code",
      "source": [
        "batches = [cpu_utilization[i:i+49] for i in range(0, len(cpu_utilization), 49)]\n"
      ],
      "metadata": {
        "id": "ujriG7uBtBRR"
      },
      "execution_count": null,
      "outputs": []
    },
    {
      "cell_type": "code",
      "source": [
        "len(batches[0])"
      ],
      "metadata": {
        "colab": {
          "base_uri": "https://localhost:8080/"
        },
        "id": "HZLlWDCYtw13",
        "outputId": "970abd66-2be7-4309-a372-d1eb9616f020"
      },
      "execution_count": 27,
      "outputs": [
        {
          "output_type": "execute_result",
          "data": {
            "text/plain": [
              "49"
            ]
          },
          "metadata": {},
          "execution_count": 27
        }
      ]
    },
    {
      "cell_type": "code",
      "source": [
        "averages = [batches[i][0]  for i in range(len(batches))]"
      ],
      "metadata": {
        "id": "7JJqhCyPthry"
      },
      "execution_count": 31,
      "outputs": []
    },
    {
      "cell_type": "code",
      "source": [
        "averages"
      ],
      "metadata": {
        "id": "t2FjXS58uLkB"
      },
      "execution_count": null,
      "outputs": []
    },
    {
      "cell_type": "code",
      "source": [
        "per_cpu_utilization = [batches[i][1:] for i in range(len(batches))]"
      ],
      "metadata": {
        "id": "zgNg3OkGup2S"
      },
      "execution_count": 33,
      "outputs": []
    },
    {
      "cell_type": "code",
      "source": [
        "per_cpu_utilization[0]"
      ],
      "metadata": {
        "colab": {
          "base_uri": "https://localhost:8080/"
        },
        "id": "eU2o2HDnu5BK",
        "outputId": "93be7a71-867a-4537-c935-857d243ed087"
      },
      "execution_count": 7,
      "outputs": [
        {
          "output_type": "execute_result",
          "data": {
            "text/plain": [
              "['CPU0 states: 5% user 2% system 0% nice 89% idle 0% iowait 0% irq 4% softirq',\n",
              " 'CPU1 states: 24% user 11% system 0% nice 62% idle 0% iowait 0% irq 3% softirq',\n",
              " 'CPU2 states: 4% user 2% system 0% nice 92% idle 0% iowait 0% irq 2% softirq',\n",
              " 'CPU3 states: 0% user 0% system 0% nice 97% idle 0% iowait 0% irq 3% softirq',\n",
              " 'CPU4 states: 3% user 3% system 0% nice 85% idle 0% iowait 1% irq 8% softirq',\n",
              " 'CPU5 states: 4% user 1% system 0% nice 92% idle 0% iowait 0% irq 3% softirq',\n",
              " 'CPU6 states: 5% user 1% system 0% nice 92% idle 0% iowait 0% irq 2% softirq',\n",
              " 'CPU7 states: 2% user 2% system 0% nice 94% idle 0% iowait 0% irq 2% softirq',\n",
              " 'CPU8 states: 3% user 1% system 0% nice 94% idle 0% iowait 0% irq 2% softirq',\n",
              " 'CPU9 states: 9% user 2% system 0% nice 86% idle 0% iowait 0% irq 3% softirq',\n",
              " 'CPU10 states: 2% user 2% system 0% nice 91% idle 0% iowait 0% irq 5% softirq',\n",
              " 'CPU11 states: 2% user 2% system 0% nice 90% idle 0% iowait 0% irq 6% softirq',\n",
              " 'CPU12 states: 4% user 0% system 0% nice 94% idle 0% iowait 0% irq 2% softirq',\n",
              " 'CPU13 states: 2% user 0% system 0% nice 96% idle 0% iowait 0% irq 2% softirq',\n",
              " 'CPU14 states: 4% user 1% system 0% nice 91% idle 0% iowait 0% irq 4% softirq',\n",
              " 'CPU15 states: 3% user 1% system 0% nice 94% idle 0% iowait 0% irq 2% softirq',\n",
              " 'CPU16 states: 3% user 2% system 0% nice 93% idle 0% iowait 0% irq 2% softirq',\n",
              " 'CPU17 states: 2% user 1% system 0% nice 92% idle 0% iowait 0% irq 5% softirq',\n",
              " 'CPU18 states: 1% user 1% system 0% nice 96% idle 0% iowait 0% irq 2% softirq',\n",
              " 'CPU19 states: 7% user 2% system 0% nice 83% idle 0% iowait 1% irq 7% softirq',\n",
              " 'CPU20 states: 6% user 3% system 0% nice 89% idle 0% iowait 0% irq 2% softirq',\n",
              " 'CPU21 states: 3% user 1% system 0% nice 94% idle 0% iowait 0% irq 2% softirq',\n",
              " 'CPU22 states: 1% user 1% system 0% nice 94% idle 0% iowait 0% irq 4% softirq',\n",
              " 'CPU23 states: 4% user 4% system 0% nice 84% idle 0% iowait 1% irq 7% softirq',\n",
              " 'CPU24 states: 3% user 0% system 0% nice 97% idle 0% iowait 0% irq 0% softirq',\n",
              " 'CPU25 states: 3% user 0% system 0% nice 97% idle 0% iowait 0% irq 0% softirq',\n",
              " 'CPU26 states: 3% user 1% system 0% nice 96% idle 0% iowait 0% irq 0% softirq',\n",
              " 'CPU27 states: 2% user 1% system 0% nice 97% idle 0% iowait 0% irq 0% softirq',\n",
              " 'CPU28 states: 5% user 2% system 0% nice 93% idle 0% iowait 0% irq 0% softirq',\n",
              " 'CPU29 states: 3% user 2% system 0% nice 95% idle 0% iowait 0% irq 0% softirq',\n",
              " 'CPU30 states: 3% user 2% system 0% nice 95% idle 0% iowait 0% irq 0% softirq',\n",
              " 'CPU31 states: 2% user 1% system 0% nice 97% idle 0% iowait 0% irq 0% softirq',\n",
              " 'CPU32 states: 2% user 2% system 0% nice 96% idle 0% iowait 0% irq 0% softirq',\n",
              " 'CPU33 states: 1% user 1% system 0% nice 98% idle 0% iowait 0% irq 0% softirq',\n",
              " 'CPU34 states: 0% user 1% system 0% nice 99% idle 0% iowait 0% irq 0% softirq',\n",
              " 'CPU35 states: 0% user 1% system 0% nice 99% idle 0% iowait 0% irq 0% softirq',\n",
              " 'CPU36 states: 4% user 2% system 0% nice 94% idle 0% iowait 0% irq 0% softirq',\n",
              " 'CPU37 states: 2% user 1% system 0% nice 97% idle 0% iowait 0% irq 0% softirq',\n",
              " 'CPU38 states: 7% user 1% system 0% nice 92% idle 0% iowait 0% irq 0% softirq',\n",
              " 'CPU39 states: 3% user 1% system 0% nice 96% idle 0% iowait 0% irq 0% softirq',\n",
              " 'CPU40 states: 10% user 1% system 0% nice 89% idle 0% iowait 0% irq 0% softirq',\n",
              " 'CPU41 states: 1% user 1% system 0% nice 98% idle 0% iowait 0% irq 0% softirq',\n",
              " 'CPU42 states: 2% user 3% system 0% nice 95% idle 0% iowait 0% irq 0% softirq',\n",
              " 'CPU43 states: 2% user 1% system 0% nice 97% idle 0% iowait 0% irq 0% softirq',\n",
              " 'CPU44 states: 3% user 2% system 0% nice 95% idle 0% iowait 0% irq 0% softirq',\n",
              " 'CPU45 states: 0% user 1% system 0% nice 99% idle 0% iowait 0% irq 0% softirq',\n",
              " 'CPU46 states: 2% user 1% system 0% nice 97% idle 0% iowait 0% irq 0% softirq',\n",
              " 'CPU47 states: 3% user 0% system 0% nice 97% idle 0% iowait 0% irq 0% softirq']"
            ]
          },
          "metadata": {},
          "execution_count": 7
        }
      ]
    },
    {
      "cell_type": "code",
      "source": [
        "def extract_idle(line_of_states:str) -> str:\n",
        "  items = line_of_states.split(' ')\n",
        "  cpu_id = items[0]\n",
        "  idle = items[8]\n",
        "  return ' '.join((cpu_id, idle))\n",
        "\n",
        "extract_idle(per_cpu_utilization[0][0])"
      ],
      "metadata": {
        "colab": {
          "base_uri": "https://localhost:8080/",
          "height": 35
        },
        "id": "sezXXf6yv5Qi",
        "outputId": "f6841ec8-4426-4763-b6bf-e5eeab206046"
      },
      "execution_count": 8,
      "outputs": [
        {
          "output_type": "execute_result",
          "data": {
            "text/plain": [
              "'CPU0 89%'"
            ],
            "application/vnd.google.colaboratory.intrinsic+json": {
              "type": "string"
            }
          },
          "metadata": {},
          "execution_count": 8
        }
      ]
    },
    {
      "cell_type": "code",
      "source": [
        "def extract_a_batch_of_cpu_idle(batch:list) -> list:\n",
        "  return [extract_idle(line) for line in batch]\n",
        "\n",
        "extract_a_batch_of_cpu_idle(per_cpu_utilization[0])"
      ],
      "metadata": {
        "colab": {
          "base_uri": "https://localhost:8080/"
        },
        "id": "Yi8t7nnixyf5",
        "outputId": "b5c74f8f-8ecb-4e2b-8347-e89306459263"
      },
      "execution_count": 9,
      "outputs": [
        {
          "output_type": "execute_result",
          "data": {
            "text/plain": [
              "['CPU0 89%',\n",
              " 'CPU1 62%',\n",
              " 'CPU2 92%',\n",
              " 'CPU3 97%',\n",
              " 'CPU4 85%',\n",
              " 'CPU5 92%',\n",
              " 'CPU6 92%',\n",
              " 'CPU7 94%',\n",
              " 'CPU8 94%',\n",
              " 'CPU9 86%',\n",
              " 'CPU10 91%',\n",
              " 'CPU11 90%',\n",
              " 'CPU12 94%',\n",
              " 'CPU13 96%',\n",
              " 'CPU14 91%',\n",
              " 'CPU15 94%',\n",
              " 'CPU16 93%',\n",
              " 'CPU17 92%',\n",
              " 'CPU18 96%',\n",
              " 'CPU19 83%',\n",
              " 'CPU20 89%',\n",
              " 'CPU21 94%',\n",
              " 'CPU22 94%',\n",
              " 'CPU23 84%',\n",
              " 'CPU24 97%',\n",
              " 'CPU25 97%',\n",
              " 'CPU26 96%',\n",
              " 'CPU27 97%',\n",
              " 'CPU28 93%',\n",
              " 'CPU29 95%',\n",
              " 'CPU30 95%',\n",
              " 'CPU31 97%',\n",
              " 'CPU32 96%',\n",
              " 'CPU33 98%',\n",
              " 'CPU34 99%',\n",
              " 'CPU35 99%',\n",
              " 'CPU36 94%',\n",
              " 'CPU37 97%',\n",
              " 'CPU38 92%',\n",
              " 'CPU39 96%',\n",
              " 'CPU40 89%',\n",
              " 'CPU41 98%',\n",
              " 'CPU42 95%',\n",
              " 'CPU43 97%',\n",
              " 'CPU44 95%',\n",
              " 'CPU45 99%',\n",
              " 'CPU46 97%',\n",
              " 'CPU47 97%']"
            ]
          },
          "metadata": {},
          "execution_count": 9
        }
      ]
    },
    {
      "cell_type": "code",
      "source": [
        "def extract_cpu_idle_for_all_batches(batches:list) -> list:\n",
        "  return [extract_a_batch_of_cpu_idle(batch) for batch in batches]\n",
        "\n",
        "cpu_idle_for_all_batches = extract_cpu_idle_for_all_batches(per_cpu_utilization)\n"
      ],
      "metadata": {
        "id": "AEQ3b7gyyDcf"
      },
      "execution_count": 10,
      "outputs": []
    },
    {
      "cell_type": "code",
      "source": [
        "from pathlib import Path\n",
        "\n",
        "logs_path = Path('/content/drive/My Drive/Fortinet/')\n",
        "\n",
        "for filepath in logs_path.rglob(\"*_merged_logs.txt\"):\n",
        "    print(filepath)\n",
        "    # Perform your loading/processing of the file here\n"
      ],
      "metadata": {
        "colab": {
          "base_uri": "https://localhost:8080/"
        },
        "id": "Xvank9-v0pfZ",
        "outputId": "7086af57-fa25-453d-ed96-dbe1d3a96138"
      },
      "execution_count": 48,
      "outputs": [
        {
          "output_type": "stream",
          "name": "stdout",
          "text": [
            "/content/drive/My Drive/Fortinet/fortinet_log_commands_3300E_PROD.cmd_20250117-235905_merged_logs.txt\n",
            "/content/drive/My Drive/Fortinet/fortinet_log_commands_3300E_PROD.cmd_20250118-235903_merged_logs.txt\n",
            "/content/drive/My Drive/Fortinet/fortinet_log_commands_3300E_PROD.cmd_20250119-235903_merged_logs.txt\n",
            "/content/drive/My Drive/Fortinet/fortinet_log_commands_3300E_PROD.cmd_20250120-235903_merged_logs.txt\n",
            "/content/drive/My Drive/Fortinet/fortinet_log_commands_3300E_PROD.cmd_20250121-235904_merged_logs.txt\n",
            "/content/drive/My Drive/Fortinet/fortinet_log_commands_3300E_PROD.cmd_20250122-235904_merged_logs.txt\n"
          ]
        }
      ]
    },
    {
      "source": [
        "from google.colab import drive\n",
        "drive.mount('/content/drive')\n",
        "\n",
        "# Verify if the file exists in the expected location\n",
        "from pathlib import Path\n",
        "logs_path = Path('/content/drive/My Drive/Fortinet/')\n",
        "\n",
        "days = []\n",
        "\n",
        "for file_path in logs_path.rglob(\"*_merged_logs.txt\"):\n",
        "    if file_path.exists():\n",
        "        with open(file_path, 'r') as file:\n",
        "\n",
        "            content = file.read()\n",
        "            print(f'log chars: {len(content)}')\n",
        "\n",
        "            lines = content.split('\\n')\n",
        "            print(f'log lines: {len(lines)}')\n",
        "\n",
        "            cpu_utilization = [ line for line in lines if line.startswith('CPU')]\n",
        "            print(f'cpu utilization lines: {len(cpu_utilization)}')\n",
        "\n",
        "            batches = [cpu_utilization[i:i+49] for i in range(0, len(cpu_utilization), 49)]\n",
        "            print(f'batches: {len(batches)}')\n",
        "\n",
        "            averages = [batches[i][0]  for i in range(len(batches))]\n",
        "            print(f'averages: {averages}')\n",
        "\n",
        "            per_cpu_utilization = [batches[i][1:] for i in range(len(batches))]\n",
        "            print(f'per_cpu_utilization[0]: {per_cpu_utilization[0]}')\n",
        "\n",
        "            cpu_idle_for_all_batches = extract_cpu_idle_for_all_batches(per_cpu_utilization)\n",
        "            print(f'cpu_idle_for_all_batches[0]: {cpu_idle_for_all_batches[0]}')\n",
        "\n",
        "            days.append(cpu_idle_for_all_batches)\n",
        "\n",
        "    else:\n",
        "        print(f\"Error: File not found at {file_path}\")\n",
        "        print(\"Please double-check the file path and ensure the file exists in your Google Drive.\")\n",
        ""
      ],
      "cell_type": "code",
      "metadata": {
        "colab": {
          "base_uri": "https://localhost:8080/"
        },
        "id": "E6XHXfKi1IHj",
        "outputId": "97b5ed92-2398-48cb-ee89-3f36fb622892"
      },
      "execution_count": 11,
      "outputs": [
        {
          "output_type": "stream",
          "name": "stdout",
          "text": [
            "Drive already mounted at /content/drive; to attempt to forcibly remount, call drive.mount(\"/content/drive\", force_remount=True).\n",
            "log chars: 3701939\n",
            "log lines: 72299\n",
            "cpu utilization lines: 3626\n",
            "batches: 74\n",
            "averages: ['CPU states: 4% user 2% system 0% nice 92% idle 0% iowait 0% irq 2% softirq', 'CPU states: 4% user 2% system 0% nice 93% idle 0% iowait 0% irq 1% softirq', 'CPU states: 3% user 1% system 0% nice 95% idle 0% iowait 0% irq 1% softirq', 'CPU states: 3% user 2% system 0% nice 94% idle 0% iowait 0% irq 1% softirq', 'CPU states: 3% user 2% system 0% nice 94% idle 0% iowait 0% irq 1% softirq', 'CPU states: 2% user 1% system 0% nice 96% idle 0% iowait 0% irq 1% softirq', 'CPU states: 2% user 2% system 0% nice 95% idle 0% iowait 0% irq 1% softirq', 'CPU states: 3% user 1% system 0% nice 94% idle 0% iowait 0% irq 2% softirq', 'CPU states: 3% user 1% system 0% nice 94% idle 0% iowait 0% irq 2% softirq', 'CPU states: 11% user 2% system 0% nice 86% idle 0% iowait 0% irq 1% softirq', 'CPU states: 3% user 2% system 0% nice 93% idle 0% iowait 0% irq 2% softirq', 'CPU states: 3% user 2% system 0% nice 93% idle 0% iowait 0% irq 2% softirq', 'CPU states: 3% user 2% system 0% nice 93% idle 0% iowait 0% irq 2% softirq', 'CPU states: 2% user 2% system 0% nice 95% idle 0% iowait 0% irq 1% softirq', 'CPU states: 2% user 2% system 0% nice 95% idle 0% iowait 0% irq 1% softirq', 'CPU states: 2% user 2% system 0% nice 95% idle 0% iowait 0% irq 1% softirq', 'CPU states: 3% user 2% system 0% nice 93% idle 0% iowait 0% irq 2% softirq', 'CPU states: 2% user 1% system 0% nice 95% idle 0% iowait 0% irq 2% softirq', 'CPU states: 3% user 2% system 0% nice 94% idle 0% iowait 0% irq 1% softirq', 'CPU states: 3% user 2% system 0% nice 94% idle 0% iowait 0% irq 1% softirq', 'CPU states: 3% user 2% system 0% nice 94% idle 0% iowait 0% irq 1% softirq', 'CPU states: 3% user 1% system 0% nice 95% idle 0% iowait 0% irq 1% softirq', 'CPU states: 3% user 2% system 0% nice 94% idle 0% iowait 0% irq 1% softirq', 'CPU states: 4% user 2% system 0% nice 93% idle 0% iowait 0% irq 1% softirq', 'CPU states: 4% user 2% system 0% nice 92% idle 0% iowait 0% irq 2% softirq', 'CPU states: 3% user 2% system 0% nice 94% idle 0% iowait 0% irq 1% softirq', 'CPU states: 5% user 2% system 0% nice 91% idle 0% iowait 0% irq 2% softirq', 'CPU states: 5% user 3% system 0% nice 90% idle 0% iowait 0% irq 2% softirq', 'CPU states: 4% user 3% system 0% nice 91% idle 0% iowait 0% irq 2% softirq', 'CPU states: 5% user 3% system 0% nice 90% idle 0% iowait 0% irq 2% softirq', 'CPU states: 6% user 4% system 0% nice 87% idle 0% iowait 0% irq 3% softirq', 'CPU states: 7% user 3% system 0% nice 87% idle 0% iowait 0% irq 3% softirq', 'CPU states: 8% user 5% system 0% nice 83% idle 0% iowait 0% irq 4% softirq', 'CPU states: 8% user 6% system 0% nice 82% idle 0% iowait 0% irq 4% softirq', 'CPU states: 9% user 6% system 0% nice 79% idle 0% iowait 1% irq 5% softirq', 'CPU states: 9% user 7% system 0% nice 78% idle 0% iowait 1% irq 5% softirq', 'CPU states: 10% user 6% system 0% nice 78% idle 0% iowait 1% irq 5% softirq', 'CPU states: 9% user 7% system 0% nice 78% idle 0% iowait 1% irq 5% softirq', 'CPU states: 10% user 6% system 0% nice 78% idle 0% iowait 1% irq 5% softirq', 'CPU states: 9% user 6% system 0% nice 79% idle 0% iowait 1% irq 5% softirq', 'CPU states: 9% user 6% system 0% nice 79% idle 0% iowait 1% irq 5% softirq', 'CPU states: 10% user 6% system 0% nice 78% idle 0% iowait 1% irq 5% softirq', 'CPU states: 10% user 6% system 0% nice 78% idle 0% iowait 1% irq 5% softirq', 'CPU states: 9% user 6% system 0% nice 79% idle 0% iowait 1% irq 5% softirq', 'CPU states: 10% user 7% system 0% nice 77% idle 0% iowait 1% irq 5% softirq', 'CPU states: 9% user 6% system 0% nice 80% idle 0% iowait 0% irq 5% softirq', 'CPU states: 8% user 6% system 0% nice 81% idle 0% iowait 0% irq 5% softirq', 'CPU states: 8% user 5% system 0% nice 83% idle 0% iowait 0% irq 4% softirq', 'CPU states: 7% user 4% system 0% nice 86% idle 0% iowait 0% irq 3% softirq', 'CPU states: 8% user 4% system 0% nice 84% idle 0% iowait 0% irq 4% softirq', 'CPU states: 8% user 5% system 0% nice 83% idle 0% iowait 0% irq 4% softirq', 'CPU states: 8% user 4% system 0% nice 84% idle 0% iowait 0% irq 4% softirq', 'CPU states: 8% user 6% system 0% nice 81% idle 0% iowait 0% irq 5% softirq', 'CPU states: 9% user 5% system 0% nice 81% idle 0% iowait 1% irq 4% softirq', 'CPU states: 9% user 6% system 0% nice 80% idle 0% iowait 0% irq 5% softirq', 'CPU states: 8% user 7% system 0% nice 80% idle 0% iowait 0% irq 5% softirq', 'CPU states: 9% user 6% system 0% nice 80% idle 0% iowait 1% irq 4% softirq', 'CPU states: 8% user 5% system 0% nice 83% idle 0% iowait 0% irq 4% softirq', 'CPU states: 8% user 6% system 0% nice 82% idle 0% iowait 0% irq 4% softirq', 'CPU states: 8% user 5% system 0% nice 83% idle 0% iowait 0% irq 4% softirq', 'CPU states: 7% user 4% system 0% nice 86% idle 0% iowait 0% irq 3% softirq', 'CPU states: 7% user 5% system 0% nice 84% idle 0% iowait 0% irq 4% softirq', 'CPU states: 7% user 4% system 0% nice 86% idle 0% iowait 0% irq 3% softirq', 'CPU states: 6% user 4% system 0% nice 87% idle 0% iowait 0% irq 3% softirq', 'CPU states: 6% user 3% system 0% nice 88% idle 0% iowait 0% irq 3% softirq', 'CPU states: 6% user 5% system 0% nice 86% idle 0% iowait 0% irq 3% softirq', 'CPU states: 5% user 3% system 0% nice 89% idle 0% iowait 0% irq 3% softirq', 'CPU states: 4% user 3% system 0% nice 90% idle 0% iowait 0% irq 3% softirq', 'CPU states: 4% user 2% system 0% nice 92% idle 0% iowait 0% irq 2% softirq', 'CPU states: 5% user 3% system 0% nice 89% idle 0% iowait 0% irq 3% softirq', 'CPU states: 4% user 3% system 0% nice 90% idle 0% iowait 0% irq 3% softirq', 'CPU states: 4% user 3% system 0% nice 90% idle 0% iowait 0% irq 3% softirq', 'CPU states: 4% user 3% system 0% nice 91% idle 0% iowait 0% irq 2% softirq', 'CPU states: 4% user 3% system 0% nice 91% idle 0% iowait 0% irq 2% softirq']\n",
            "per_cpu_utilization[0]: ['CPU0 states: 5% user 2% system 0% nice 89% idle 0% iowait 0% irq 4% softirq', 'CPU1 states: 24% user 11% system 0% nice 62% idle 0% iowait 0% irq 3% softirq', 'CPU2 states: 4% user 2% system 0% nice 92% idle 0% iowait 0% irq 2% softirq', 'CPU3 states: 0% user 0% system 0% nice 97% idle 0% iowait 0% irq 3% softirq', 'CPU4 states: 3% user 3% system 0% nice 85% idle 0% iowait 1% irq 8% softirq', 'CPU5 states: 4% user 1% system 0% nice 92% idle 0% iowait 0% irq 3% softirq', 'CPU6 states: 5% user 1% system 0% nice 92% idle 0% iowait 0% irq 2% softirq', 'CPU7 states: 2% user 2% system 0% nice 94% idle 0% iowait 0% irq 2% softirq', 'CPU8 states: 3% user 1% system 0% nice 94% idle 0% iowait 0% irq 2% softirq', 'CPU9 states: 9% user 2% system 0% nice 86% idle 0% iowait 0% irq 3% softirq', 'CPU10 states: 2% user 2% system 0% nice 91% idle 0% iowait 0% irq 5% softirq', 'CPU11 states: 2% user 2% system 0% nice 90% idle 0% iowait 0% irq 6% softirq', 'CPU12 states: 4% user 0% system 0% nice 94% idle 0% iowait 0% irq 2% softirq', 'CPU13 states: 2% user 0% system 0% nice 96% idle 0% iowait 0% irq 2% softirq', 'CPU14 states: 4% user 1% system 0% nice 91% idle 0% iowait 0% irq 4% softirq', 'CPU15 states: 3% user 1% system 0% nice 94% idle 0% iowait 0% irq 2% softirq', 'CPU16 states: 3% user 2% system 0% nice 93% idle 0% iowait 0% irq 2% softirq', 'CPU17 states: 2% user 1% system 0% nice 92% idle 0% iowait 0% irq 5% softirq', 'CPU18 states: 1% user 1% system 0% nice 96% idle 0% iowait 0% irq 2% softirq', 'CPU19 states: 7% user 2% system 0% nice 83% idle 0% iowait 1% irq 7% softirq', 'CPU20 states: 6% user 3% system 0% nice 89% idle 0% iowait 0% irq 2% softirq', 'CPU21 states: 3% user 1% system 0% nice 94% idle 0% iowait 0% irq 2% softirq', 'CPU22 states: 1% user 1% system 0% nice 94% idle 0% iowait 0% irq 4% softirq', 'CPU23 states: 4% user 4% system 0% nice 84% idle 0% iowait 1% irq 7% softirq', 'CPU24 states: 3% user 0% system 0% nice 97% idle 0% iowait 0% irq 0% softirq', 'CPU25 states: 3% user 0% system 0% nice 97% idle 0% iowait 0% irq 0% softirq', 'CPU26 states: 3% user 1% system 0% nice 96% idle 0% iowait 0% irq 0% softirq', 'CPU27 states: 2% user 1% system 0% nice 97% idle 0% iowait 0% irq 0% softirq', 'CPU28 states: 5% user 2% system 0% nice 93% idle 0% iowait 0% irq 0% softirq', 'CPU29 states: 3% user 2% system 0% nice 95% idle 0% iowait 0% irq 0% softirq', 'CPU30 states: 3% user 2% system 0% nice 95% idle 0% iowait 0% irq 0% softirq', 'CPU31 states: 2% user 1% system 0% nice 97% idle 0% iowait 0% irq 0% softirq', 'CPU32 states: 2% user 2% system 0% nice 96% idle 0% iowait 0% irq 0% softirq', 'CPU33 states: 1% user 1% system 0% nice 98% idle 0% iowait 0% irq 0% softirq', 'CPU34 states: 0% user 1% system 0% nice 99% idle 0% iowait 0% irq 0% softirq', 'CPU35 states: 0% user 1% system 0% nice 99% idle 0% iowait 0% irq 0% softirq', 'CPU36 states: 4% user 2% system 0% nice 94% idle 0% iowait 0% irq 0% softirq', 'CPU37 states: 2% user 1% system 0% nice 97% idle 0% iowait 0% irq 0% softirq', 'CPU38 states: 7% user 1% system 0% nice 92% idle 0% iowait 0% irq 0% softirq', 'CPU39 states: 3% user 1% system 0% nice 96% idle 0% iowait 0% irq 0% softirq', 'CPU40 states: 10% user 1% system 0% nice 89% idle 0% iowait 0% irq 0% softirq', 'CPU41 states: 1% user 1% system 0% nice 98% idle 0% iowait 0% irq 0% softirq', 'CPU42 states: 2% user 3% system 0% nice 95% idle 0% iowait 0% irq 0% softirq', 'CPU43 states: 2% user 1% system 0% nice 97% idle 0% iowait 0% irq 0% softirq', 'CPU44 states: 3% user 2% system 0% nice 95% idle 0% iowait 0% irq 0% softirq', 'CPU45 states: 0% user 1% system 0% nice 99% idle 0% iowait 0% irq 0% softirq', 'CPU46 states: 2% user 1% system 0% nice 97% idle 0% iowait 0% irq 0% softirq', 'CPU47 states: 3% user 0% system 0% nice 97% idle 0% iowait 0% irq 0% softirq']\n",
            "cpu_idle_for_all_batches[0]: ['CPU0 89%', 'CPU1 62%', 'CPU2 92%', 'CPU3 97%', 'CPU4 85%', 'CPU5 92%', 'CPU6 92%', 'CPU7 94%', 'CPU8 94%', 'CPU9 86%', 'CPU10 91%', 'CPU11 90%', 'CPU12 94%', 'CPU13 96%', 'CPU14 91%', 'CPU15 94%', 'CPU16 93%', 'CPU17 92%', 'CPU18 96%', 'CPU19 83%', 'CPU20 89%', 'CPU21 94%', 'CPU22 94%', 'CPU23 84%', 'CPU24 97%', 'CPU25 97%', 'CPU26 96%', 'CPU27 97%', 'CPU28 93%', 'CPU29 95%', 'CPU30 95%', 'CPU31 97%', 'CPU32 96%', 'CPU33 98%', 'CPU34 99%', 'CPU35 99%', 'CPU36 94%', 'CPU37 97%', 'CPU38 92%', 'CPU39 96%', 'CPU40 89%', 'CPU41 98%', 'CPU42 95%', 'CPU43 97%', 'CPU44 95%', 'CPU45 99%', 'CPU46 97%', 'CPU47 97%']\n",
            "log chars: 4800769\n",
            "log lines: 93793\n",
            "cpu utilization lines: 4704\n",
            "batches: 96\n",
            "averages: ['CPU states: 3% user 2% system 0% nice 93% idle 0% iowait 0% irq 2% softirq', 'CPU states: 3% user 2% system 0% nice 92% idle 0% iowait 0% irq 3% softirq', 'CPU states: 4% user 2% system 0% nice 91% idle 0% iowait 0% irq 3% softirq', 'CPU states: 3% user 2% system 0% nice 94% idle 0% iowait 0% irq 1% softirq', 'CPU states: 4% user 2% system 0% nice 93% idle 0% iowait 0% irq 1% softirq', 'CPU states: 3% user 2% system 0% nice 94% idle 0% iowait 0% irq 1% softirq', 'CPU states: 4% user 2% system 0% nice 92% idle 0% iowait 0% irq 2% softirq', 'CPU states: 3% user 2% system 0% nice 93% idle 0% iowait 0% irq 2% softirq', 'CPU states: 3% user 0% system 0% nice 96% idle 0% iowait 0% irq 1% softirq', 'CPU states: 3% user 1% system 0% nice 94% idle 0% iowait 0% irq 2% softirq', 'CPU states: 3% user 1% system 0% nice 94% idle 0% iowait 0% irq 2% softirq', 'CPU states: 2% user 2% system 0% nice 95% idle 0% iowait 0% irq 1% softirq', 'CPU states: 3% user 1% system 0% nice 95% idle 0% iowait 0% irq 1% softirq', 'CPU states: 3% user 1% system 0% nice 95% idle 0% iowait 0% irq 1% softirq', 'CPU states: 3% user 2% system 0% nice 92% idle 0% iowait 0% irq 3% softirq', 'CPU states: 4% user 2% system 0% nice 92% idle 0% iowait 0% irq 2% softirq', 'CPU states: 3% user 2% system 0% nice 93% idle 0% iowait 0% irq 2% softirq', 'CPU states: 3% user 2% system 0% nice 93% idle 0% iowait 0% irq 2% softirq', 'CPU states: 3% user 1% system 0% nice 94% idle 0% iowait 0% irq 2% softirq', 'CPU states: 3% user 2% system 0% nice 93% idle 0% iowait 0% irq 2% softirq', 'CPU states: 4% user 2% system 0% nice 93% idle 0% iowait 0% irq 1% softirq', 'CPU states: 2% user 1% system 0% nice 96% idle 0% iowait 0% irq 1% softirq', 'CPU states: 3% user 2% system 0% nice 94% idle 0% iowait 0% irq 1% softirq', 'CPU states: 3% user 0% system 0% nice 96% idle 0% iowait 0% irq 1% softirq', 'CPU states: 3% user 2% system 0% nice 94% idle 0% iowait 0% irq 1% softirq', 'CPU states: 3% user 2% system 0% nice 94% idle 0% iowait 0% irq 1% softirq', 'CPU states: 3% user 1% system 0% nice 95% idle 0% iowait 0% irq 1% softirq', 'CPU states: 3% user 2% system 0% nice 94% idle 0% iowait 0% irq 1% softirq', 'CPU states: 2% user 1% system 0% nice 96% idle 0% iowait 0% irq 1% softirq', 'CPU states: 2% user 1% system 0% nice 96% idle 0% iowait 0% irq 1% softirq', 'CPU states: 3% user 2% system 0% nice 94% idle 0% iowait 0% irq 1% softirq', 'CPU states: 2% user 1% system 0% nice 96% idle 0% iowait 0% irq 1% softirq', 'CPU states: 3% user 2% system 0% nice 93% idle 0% iowait 0% irq 2% softirq', 'CPU states: 3% user 1% system 0% nice 95% idle 0% iowait 0% irq 1% softirq', 'CPU states: 3% user 2% system 0% nice 93% idle 0% iowait 0% irq 2% softirq', 'CPU states: 2% user 1% system 0% nice 96% idle 0% iowait 0% irq 1% softirq', 'CPU states: 3% user 2% system 0% nice 94% idle 0% iowait 0% irq 1% softirq', 'CPU states: 2% user 1% system 0% nice 95% idle 0% iowait 0% irq 2% softirq', 'CPU states: 2% user 1% system 0% nice 95% idle 0% iowait 0% irq 2% softirq', 'CPU states: 3% user 1% system 0% nice 95% idle 0% iowait 0% irq 1% softirq', 'CPU states: 3% user 1% system 0% nice 95% idle 0% iowait 0% irq 1% softirq', 'CPU states: 2% user 2% system 0% nice 95% idle 0% iowait 0% irq 1% softirq', 'CPU states: 2% user 1% system 0% nice 96% idle 0% iowait 0% irq 1% softirq', 'CPU states: 3% user 2% system 0% nice 94% idle 0% iowait 0% irq 1% softirq', 'CPU states: 3% user 2% system 0% nice 94% idle 0% iowait 0% irq 1% softirq', 'CPU states: 3% user 1% system 0% nice 95% idle 0% iowait 0% irq 1% softirq', 'CPU states: 2% user 1% system 0% nice 96% idle 0% iowait 0% irq 1% softirq', 'CPU states: 2% user 2% system 0% nice 95% idle 0% iowait 0% irq 1% softirq', 'CPU states: 2% user 2% system 0% nice 95% idle 0% iowait 0% irq 1% softirq', 'CPU states: 3% user 2% system 0% nice 94% idle 0% iowait 0% irq 1% softirq', 'CPU states: 3% user 2% system 0% nice 94% idle 0% iowait 0% irq 1% softirq', 'CPU states: 3% user 2% system 0% nice 94% idle 0% iowait 0% irq 1% softirq', 'CPU states: 3% user 1% system 0% nice 95% idle 0% iowait 0% irq 1% softirq', 'CPU states: 2% user 1% system 0% nice 96% idle 0% iowait 0% irq 1% softirq', 'CPU states: 3% user 2% system 0% nice 94% idle 0% iowait 0% irq 1% softirq', 'CPU states: 3% user 2% system 0% nice 94% idle 0% iowait 0% irq 1% softirq', 'CPU states: 3% user 2% system 0% nice 94% idle 0% iowait 0% irq 1% softirq', 'CPU states: 3% user 1% system 0% nice 95% idle 0% iowait 0% irq 1% softirq', 'CPU states: 3% user 1% system 0% nice 95% idle 0% iowait 0% irq 1% softirq', 'CPU states: 3% user 1% system 0% nice 95% idle 0% iowait 0% irq 1% softirq', 'CPU states: 4% user 1% system 0% nice 94% idle 0% iowait 0% irq 1% softirq', 'CPU states: 3% user 2% system 0% nice 94% idle 0% iowait 0% irq 1% softirq', 'CPU states: 3% user 2% system 0% nice 94% idle 0% iowait 0% irq 1% softirq', 'CPU states: 3% user 1% system 0% nice 95% idle 0% iowait 0% irq 1% softirq', 'CPU states: 3% user 1% system 0% nice 95% idle 0% iowait 0% irq 1% softirq', 'CPU states: 3% user 1% system 0% nice 95% idle 0% iowait 0% irq 1% softirq', 'CPU states: 3% user 2% system 0% nice 94% idle 0% iowait 0% irq 1% softirq', 'CPU states: 3% user 2% system 0% nice 94% idle 0% iowait 0% irq 1% softirq', 'CPU states: 3% user 2% system 0% nice 94% idle 0% iowait 0% irq 1% softirq', 'CPU states: 3% user 2% system 0% nice 94% idle 0% iowait 0% irq 1% softirq', 'CPU states: 3% user 1% system 0% nice 95% idle 0% iowait 0% irq 1% softirq', 'CPU states: 3% user 1% system 0% nice 95% idle 0% iowait 0% irq 1% softirq', 'CPU states: 4% user 2% system 0% nice 93% idle 0% iowait 0% irq 1% softirq', 'CPU states: 3% user 2% system 0% nice 94% idle 0% iowait 0% irq 1% softirq', 'CPU states: 3% user 1% system 0% nice 95% idle 0% iowait 0% irq 1% softirq', 'CPU states: 3% user 1% system 0% nice 95% idle 0% iowait 0% irq 1% softirq', 'CPU states: 4% user 1% system 0% nice 94% idle 0% iowait 0% irq 1% softirq', 'CPU states: 3% user 2% system 0% nice 94% idle 0% iowait 0% irq 1% softirq', 'CPU states: 4% user 2% system 0% nice 93% idle 0% iowait 0% irq 1% softirq', 'CPU states: 3% user 1% system 0% nice 95% idle 0% iowait 0% irq 1% softirq', 'CPU states: 3% user 2% system 0% nice 94% idle 0% iowait 0% irq 1% softirq', 'CPU states: 3% user 2% system 0% nice 94% idle 0% iowait 0% irq 1% softirq', 'CPU states: 4% user 2% system 0% nice 93% idle 0% iowait 0% irq 1% softirq', 'CPU states: 3% user 2% system 0% nice 94% idle 0% iowait 0% irq 1% softirq', 'CPU states: 4% user 2% system 0% nice 93% idle 0% iowait 0% irq 1% softirq', 'CPU states: 3% user 1% system 0% nice 95% idle 0% iowait 0% irq 1% softirq', 'CPU states: 3% user 2% system 0% nice 94% idle 0% iowait 0% irq 1% softirq', 'CPU states: 4% user 2% system 0% nice 93% idle 0% iowait 0% irq 1% softirq', 'CPU states: 3% user 2% system 0% nice 94% idle 0% iowait 0% irq 1% softirq', 'CPU states: 3% user 2% system 0% nice 93% idle 0% iowait 0% irq 2% softirq', 'CPU states: 3% user 1% system 0% nice 95% idle 0% iowait 0% irq 1% softirq', 'CPU states: 3% user 2% system 0% nice 94% idle 0% iowait 0% irq 1% softirq', 'CPU states: 4% user 1% system 0% nice 94% idle 0% iowait 0% irq 1% softirq', 'CPU states: 3% user 1% system 0% nice 94% idle 0% iowait 0% irq 2% softirq', 'CPU states: 4% user 2% system 0% nice 92% idle 0% iowait 0% irq 2% softirq', 'CPU states: 3% user 2% system 0% nice 94% idle 0% iowait 0% irq 1% softirq']\n",
            "per_cpu_utilization[0]: ['CPU0 states: 4% user 2% system 0% nice 91% idle 0% iowait 0% irq 3% softirq', 'CPU1 states: 3% user 2% system 0% nice 91% idle 0% iowait 0% irq 4% softirq', 'CPU2 states: 5% user 7% system 0% nice 80% idle 0% iowait 1% irq 7% softirq', 'CPU3 states: 2% user 2% system 0% nice 89% idle 0% iowait 1% irq 6% softirq', 'CPU4 states: 8% user 5% system 0% nice 78% idle 0% iowait 1% irq 8% softirq', 'CPU5 states: 3% user 2% system 0% nice 91% idle 0% iowait 0% irq 4% softirq', 'CPU6 states: 7% user 3% system 0% nice 87% idle 0% iowait 0% irq 3% softirq', 'CPU7 states: 8% user 6% system 0% nice 77% idle 0% iowait 1% irq 8% softirq', 'CPU8 states: 8% user 3% system 0% nice 86% idle 0% iowait 0% irq 3% softirq', 'CPU9 states: 2% user 2% system 0% nice 91% idle 0% iowait 0% irq 5% softirq', 'CPU10 states: 4% user 3% system 0% nice 90% idle 0% iowait 0% irq 3% softirq', 'CPU11 states: 1% user 2% system 0% nice 91% idle 0% iowait 0% irq 6% softirq', 'CPU12 states: 2% user 1% system 0% nice 94% idle 0% iowait 0% irq 3% softirq', 'CPU13 states: 5% user 6% system 0% nice 82% idle 0% iowait 0% irq 7% softirq', 'CPU14 states: 1% user 2% system 0% nice 94% idle 0% iowait 0% irq 3% softirq', 'CPU15 states: 2% user 2% system 0% nice 92% idle 0% iowait 0% irq 4% softirq', 'CPU16 states: 3% user 2% system 0% nice 90% idle 0% iowait 0% irq 5% softirq', 'CPU17 states: 3% user 3% system 0% nice 89% idle 0% iowait 0% irq 5% softirq', 'CPU18 states: 7% user 5% system 0% nice 75% idle 0% iowait 2% irq 11% softirq', 'CPU19 states: 1% user 1% system 0% nice 92% idle 0% iowait 1% irq 5% softirq', 'CPU20 states: 3% user 3% system 0% nice 89% idle 0% iowait 0% irq 5% softirq', 'CPU21 states: 2% user 2% system 0% nice 92% idle 0% iowait 0% irq 4% softirq', 'CPU22 states: 5% user 3% system 0% nice 87% idle 0% iowait 0% irq 5% softirq', 'CPU23 states: 4% user 3% system 0% nice 83% idle 0% iowait 1% irq 9% softirq', 'CPU24 states: 2% user 1% system 0% nice 97% idle 0% iowait 0% irq 0% softirq', 'CPU25 states: 2% user 1% system 0% nice 97% idle 0% iowait 0% irq 0% softirq', 'CPU26 states: 2% user 1% system 0% nice 97% idle 0% iowait 0% irq 0% softirq', 'CPU27 states: 1% user 1% system 0% nice 98% idle 0% iowait 0% irq 0% softirq', 'CPU28 states: 3% user 1% system 0% nice 96% idle 0% iowait 0% irq 0% softirq', 'CPU29 states: 1% user 1% system 0% nice 98% idle 0% iowait 0% irq 0% softirq', 'CPU30 states: 4% user 2% system 0% nice 94% idle 0% iowait 0% irq 0% softirq', 'CPU31 states: 3% user 2% system 0% nice 95% idle 0% iowait 0% irq 0% softirq', 'CPU32 states: 3% user 1% system 0% nice 96% idle 0% iowait 0% irq 0% softirq', 'CPU33 states: 3% user 1% system 0% nice 96% idle 0% iowait 0% irq 0% softirq', 'CPU34 states: 2% user 1% system 0% nice 97% idle 0% iowait 0% irq 0% softirq', 'CPU35 states: 0% user 0% system 0% nice 99% idle 0% iowait 1% irq 0% softirq', 'CPU36 states: 3% user 1% system 0% nice 96% idle 0% iowait 0% irq 0% softirq', 'CPU37 states: 1% user 1% system 0% nice 98% idle 0% iowait 0% irq 0% softirq', 'CPU38 states: 2% user 1% system 0% nice 97% idle 0% iowait 0% irq 0% softirq', 'CPU39 states: 7% user 0% system 0% nice 93% idle 0% iowait 0% irq 0% softirq', 'CPU40 states: 3% user 1% system 0% nice 96% idle 0% iowait 0% irq 0% softirq', 'CPU41 states: 1% user 1% system 0% nice 98% idle 0% iowait 0% irq 0% softirq', 'CPU42 states: 2% user 1% system 0% nice 97% idle 0% iowait 0% irq 0% softirq', 'CPU43 states: 1% user 1% system 0% nice 98% idle 0% iowait 0% irq 0% softirq', 'CPU44 states: 1% user 1% system 0% nice 98% idle 0% iowait 0% irq 0% softirq', 'CPU45 states: 0% user 1% system 0% nice 99% idle 0% iowait 0% irq 0% softirq', 'CPU46 states: 8% user 1% system 0% nice 91% idle 0% iowait 0% irq 0% softirq', 'CPU47 states: 2% user 1% system 0% nice 97% idle 0% iowait 0% irq 0% softirq']\n",
            "cpu_idle_for_all_batches[0]: ['CPU0 91%', 'CPU1 91%', 'CPU2 80%', 'CPU3 89%', 'CPU4 78%', 'CPU5 91%', 'CPU6 87%', 'CPU7 77%', 'CPU8 86%', 'CPU9 91%', 'CPU10 90%', 'CPU11 91%', 'CPU12 94%', 'CPU13 82%', 'CPU14 94%', 'CPU15 92%', 'CPU16 90%', 'CPU17 89%', 'CPU18 75%', 'CPU19 92%', 'CPU20 89%', 'CPU21 92%', 'CPU22 87%', 'CPU23 83%', 'CPU24 97%', 'CPU25 97%', 'CPU26 97%', 'CPU27 98%', 'CPU28 96%', 'CPU29 98%', 'CPU30 94%', 'CPU31 95%', 'CPU32 96%', 'CPU33 96%', 'CPU34 97%', 'CPU35 99%', 'CPU36 96%', 'CPU37 98%', 'CPU38 97%', 'CPU39 93%', 'CPU40 96%', 'CPU41 98%', 'CPU42 97%', 'CPU43 98%', 'CPU44 98%', 'CPU45 99%', 'CPU46 91%', 'CPU47 97%']\n",
            "log chars: 4800768\n",
            "log lines: 93793\n",
            "cpu utilization lines: 4704\n",
            "batches: 96\n",
            "averages: ['CPU states: 3% user 2% system 0% nice 94% idle 0% iowait 0% irq 1% softirq', 'CPU states: 3% user 2% system 0% nice 94% idle 0% iowait 0% irq 1% softirq', 'CPU states: 3% user 1% system 0% nice 95% idle 0% iowait 0% irq 1% softirq', 'CPU states: 3% user 1% system 0% nice 94% idle 0% iowait 0% irq 2% softirq', 'CPU states: 3% user 1% system 0% nice 93% idle 0% iowait 0% irq 3% softirq', 'CPU states: 3% user 1% system 0% nice 94% idle 0% iowait 0% irq 2% softirq', 'CPU states: 2% user 1% system 0% nice 96% idle 0% iowait 0% irq 1% softirq', 'CPU states: 2% user 1% system 0% nice 94% idle 0% iowait 0% irq 3% softirq', 'CPU states: 3% user 1% system 0% nice 93% idle 0% iowait 0% irq 3% softirq', 'CPU states: 3% user 1% system 0% nice 93% idle 0% iowait 0% irq 3% softirq', 'CPU states: 3% user 1% system 0% nice 94% idle 0% iowait 0% irq 2% softirq', 'CPU states: 3% user 1% system 0% nice 95% idle 0% iowait 0% irq 1% softirq', 'CPU states: 3% user 2% system 0% nice 94% idle 0% iowait 0% irq 1% softirq', 'CPU states: 2% user 1% system 0% nice 95% idle 0% iowait 0% irq 2% softirq', 'CPU states: 3% user 1% system 0% nice 94% idle 0% iowait 0% irq 2% softirq', 'CPU states: 3% user 1% system 0% nice 94% idle 0% iowait 0% irq 2% softirq', 'CPU states: 3% user 1% system 0% nice 94% idle 0% iowait 0% irq 2% softirq', 'CPU states: 2% user 0% system 0% nice 96% idle 0% iowait 0% irq 2% softirq', 'CPU states: 2% user 2% system 0% nice 94% idle 0% iowait 0% irq 2% softirq', 'CPU states: 2% user 1% system 0% nice 95% idle 0% iowait 0% irq 2% softirq', 'CPU states: 3% user 2% system 0% nice 93% idle 0% iowait 0% irq 2% softirq', 'CPU states: 2% user 1% system 0% nice 95% idle 0% iowait 0% irq 2% softirq', 'CPU states: 3% user 2% system 0% nice 93% idle 0% iowait 0% irq 2% softirq', 'CPU states: 2% user 1% system 0% nice 95% idle 0% iowait 0% irq 2% softirq', 'CPU states: 2% user 2% system 0% nice 94% idle 0% iowait 0% irq 2% softirq', 'CPU states: 2% user 1% system 0% nice 96% idle 0% iowait 0% irq 1% softirq', 'CPU states: 2% user 2% system 0% nice 95% idle 0% iowait 0% irq 1% softirq', 'CPU states: 3% user 1% system 0% nice 95% idle 0% iowait 0% irq 1% softirq', 'CPU states: 2% user 1% system 0% nice 96% idle 0% iowait 0% irq 1% softirq', 'CPU states: 2% user 1% system 0% nice 96% idle 0% iowait 0% irq 1% softirq', 'CPU states: 2% user 1% system 0% nice 96% idle 0% iowait 0% irq 1% softirq', 'CPU states: 2% user 1% system 0% nice 96% idle 0% iowait 0% irq 1% softirq', 'CPU states: 3% user 1% system 0% nice 94% idle 0% iowait 0% irq 2% softirq', 'CPU states: 2% user 2% system 0% nice 94% idle 0% iowait 0% irq 2% softirq', 'CPU states: 2% user 2% system 0% nice 94% idle 0% iowait 0% irq 2% softirq', 'CPU states: 2% user 2% system 0% nice 95% idle 0% iowait 0% irq 1% softirq', 'CPU states: 3% user 1% system 0% nice 95% idle 0% iowait 0% irq 1% softirq', 'CPU states: 3% user 2% system 0% nice 94% idle 0% iowait 0% irq 1% softirq', 'CPU states: 2% user 1% system 0% nice 96% idle 0% iowait 0% irq 1% softirq', 'CPU states: 2% user 1% system 0% nice 96% idle 0% iowait 0% irq 1% softirq', 'CPU states: 2% user 1% system 0% nice 96% idle 0% iowait 0% irq 1% softirq', 'CPU states: 4% user 0% system 0% nice 95% idle 0% iowait 0% irq 1% softirq', 'CPU states: 2% user 1% system 0% nice 96% idle 0% iowait 0% irq 1% softirq', 'CPU states: 2% user 1% system 0% nice 96% idle 0% iowait 0% irq 1% softirq', 'CPU states: 3% user 1% system 0% nice 95% idle 0% iowait 0% irq 1% softirq', 'CPU states: 3% user 1% system 0% nice 95% idle 0% iowait 0% irq 1% softirq', 'CPU states: 3% user 2% system 0% nice 94% idle 0% iowait 0% irq 1% softirq', 'CPU states: 3% user 1% system 0% nice 95% idle 0% iowait 0% irq 1% softirq', 'CPU states: 3% user 1% system 0% nice 94% idle 0% iowait 0% irq 2% softirq', 'CPU states: 3% user 1% system 0% nice 94% idle 0% iowait 0% irq 2% softirq', 'CPU states: 3% user 2% system 0% nice 93% idle 0% iowait 0% irq 2% softirq', 'CPU states: 3% user 1% system 0% nice 94% idle 0% iowait 0% irq 2% softirq', 'CPU states: 3% user 1% system 0% nice 94% idle 0% iowait 0% irq 2% softirq', 'CPU states: 3% user 1% system 0% nice 94% idle 0% iowait 0% irq 2% softirq', 'CPU states: 3% user 2% system 0% nice 93% idle 0% iowait 0% irq 2% softirq', 'CPU states: 3% user 2% system 0% nice 94% idle 0% iowait 0% irq 1% softirq', 'CPU states: 3% user 2% system 0% nice 93% idle 0% iowait 0% irq 2% softirq', 'CPU states: 3% user 2% system 0% nice 94% idle 0% iowait 0% irq 1% softirq', 'CPU states: 3% user 1% system 0% nice 95% idle 0% iowait 0% irq 1% softirq', 'CPU states: 3% user 2% system 0% nice 93% idle 0% iowait 0% irq 2% softirq', 'CPU states: 3% user 1% system 0% nice 94% idle 0% iowait 0% irq 2% softirq', 'CPU states: 3% user 1% system 0% nice 95% idle 0% iowait 0% irq 1% softirq', 'CPU states: 3% user 2% system 0% nice 93% idle 0% iowait 0% irq 2% softirq', 'CPU states: 3% user 2% system 0% nice 94% idle 0% iowait 0% irq 1% softirq', 'CPU states: 3% user 1% system 0% nice 94% idle 0% iowait 0% irq 2% softirq', 'CPU states: 3% user 2% system 0% nice 93% idle 0% iowait 0% irq 2% softirq', 'CPU states: 3% user 2% system 0% nice 94% idle 0% iowait 0% irq 1% softirq', 'CPU states: 3% user 2% system 0% nice 93% idle 0% iowait 0% irq 2% softirq', 'CPU states: 3% user 2% system 0% nice 93% idle 0% iowait 0% irq 2% softirq', 'CPU states: 3% user 2% system 0% nice 93% idle 0% iowait 0% irq 2% softirq', 'CPU states: 3% user 1% system 0% nice 94% idle 0% iowait 0% irq 2% softirq', 'CPU states: 3% user 1% system 0% nice 94% idle 0% iowait 0% irq 2% softirq', 'CPU states: 4% user 2% system 0% nice 92% idle 0% iowait 0% irq 2% softirq', 'CPU states: 3% user 2% system 0% nice 93% idle 0% iowait 0% irq 2% softirq', 'CPU states: 3% user 2% system 0% nice 94% idle 0% iowait 0% irq 1% softirq', 'CPU states: 4% user 2% system 0% nice 93% idle 0% iowait 0% irq 1% softirq', 'CPU states: 4% user 1% system 0% nice 94% idle 0% iowait 0% irq 1% softirq', 'CPU states: 3% user 1% system 0% nice 95% idle 0% iowait 0% irq 1% softirq', 'CPU states: 3% user 2% system 0% nice 94% idle 0% iowait 0% irq 1% softirq', 'CPU states: 3% user 1% system 0% nice 95% idle 0% iowait 0% irq 1% softirq', 'CPU states: 3% user 1% system 0% nice 95% idle 0% iowait 0% irq 1% softirq', 'CPU states: 3% user 2% system 0% nice 94% idle 0% iowait 0% irq 1% softirq', 'CPU states: 3% user 2% system 0% nice 94% idle 0% iowait 0% irq 1% softirq', 'CPU states: 3% user 1% system 0% nice 95% idle 0% iowait 0% irq 1% softirq', 'CPU states: 4% user 2% system 0% nice 93% idle 0% iowait 0% irq 1% softirq', 'CPU states: 3% user 2% system 0% nice 94% idle 0% iowait 0% irq 1% softirq', 'CPU states: 3% user 1% system 0% nice 95% idle 0% iowait 0% irq 1% softirq', 'CPU states: 3% user 2% system 0% nice 94% idle 0% iowait 0% irq 1% softirq', 'CPU states: 3% user 2% system 0% nice 94% idle 0% iowait 0% irq 1% softirq', 'CPU states: 3% user 2% system 0% nice 94% idle 0% iowait 0% irq 1% softirq', 'CPU states: 3% user 1% system 0% nice 95% idle 0% iowait 0% irq 1% softirq', 'CPU states: 3% user 2% system 0% nice 93% idle 0% iowait 0% irq 2% softirq', 'CPU states: 3% user 2% system 0% nice 93% idle 0% iowait 0% irq 2% softirq', 'CPU states: 3% user 1% system 0% nice 95% idle 0% iowait 0% irq 1% softirq', 'CPU states: 3% user 2% system 0% nice 94% idle 0% iowait 0% irq 1% softirq', 'CPU states: 3% user 2% system 0% nice 94% idle 0% iowait 0% irq 1% softirq']\n",
            "per_cpu_utilization[0]: ['CPU0 states: 3% user 3% system 0% nice 83% idle 0% iowait 2% irq 9% softirq', 'CPU1 states: 4% user 2% system 0% nice 92% idle 0% iowait 0% irq 2% softirq', 'CPU2 states: 1% user 1% system 0% nice 95% idle 0% iowait 1% irq 2% softirq', 'CPU3 states: 1% user 1% system 0% nice 93% idle 0% iowait 1% irq 4% softirq', 'CPU4 states: 4% user 4% system 0% nice 84% idle 0% iowait 1% irq 7% softirq', 'CPU5 states: 3% user 1% system 0% nice 94% idle 0% iowait 0% irq 2% softirq', 'CPU6 states: 6% user 2% system 0% nice 89% idle 0% iowait 0% irq 3% softirq', 'CPU7 states: 2% user 2% system 0% nice 94% idle 0% iowait 0% irq 2% softirq', 'CPU8 states: 2% user 2% system 0% nice 94% idle 0% iowait 0% irq 2% softirq', 'CPU9 states: 4% user 2% system 0% nice 92% idle 0% iowait 0% irq 2% softirq', 'CPU10 states: 4% user 4% system 0% nice 90% idle 0% iowait 0% irq 2% softirq', 'CPU11 states: 2% user 2% system 0% nice 92% idle 0% iowait 0% irq 4% softirq', 'CPU12 states: 5% user 3% system 0% nice 89% idle 0% iowait 0% irq 3% softirq', 'CPU13 states: 5% user 5% system 0% nice 86% idle 0% iowait 0% irq 4% softirq', 'CPU14 states: 3% user 5% system 0% nice 90% idle 0% iowait 0% irq 2% softirq', 'CPU15 states: 2% user 2% system 0% nice 94% idle 0% iowait 0% irq 2% softirq', 'CPU16 states: 2% user 5% system 0% nice 90% idle 0% iowait 0% irq 3% softirq', 'CPU17 states: 4% user 3% system 0% nice 90% idle 0% iowait 0% irq 3% softirq', 'CPU18 states: 0% user 3% system 0% nice 93% idle 0% iowait 1% irq 3% softirq', 'CPU19 states: 2% user 3% system 0% nice 91% idle 0% iowait 1% irq 3% softirq', 'CPU20 states: 1% user 2% system 0% nice 96% idle 0% iowait 0% irq 1% softirq', 'CPU21 states: 3% user 2% system 0% nice 90% idle 0% iowait 0% irq 5% softirq', 'CPU22 states: 7% user 2% system 0% nice 89% idle 0% iowait 0% irq 2% softirq', 'CPU23 states: 3% user 2% system 0% nice 88% idle 0% iowait 1% irq 6% softirq', 'CPU24 states: 2% user 3% system 0% nice 95% idle 0% iowait 0% irq 0% softirq', 'CPU25 states: 0% user 2% system 0% nice 98% idle 0% iowait 0% irq 0% softirq', 'CPU26 states: 1% user 2% system 0% nice 97% idle 0% iowait 0% irq 0% softirq', 'CPU27 states: 0% user 2% system 0% nice 98% idle 0% iowait 0% irq 0% softirq', 'CPU28 states: 3% user 2% system 0% nice 95% idle 0% iowait 0% irq 0% softirq', 'CPU29 states: 2% user 1% system 0% nice 97% idle 0% iowait 0% irq 0% softirq', 'CPU30 states: 2% user 1% system 0% nice 97% idle 0% iowait 0% irq 0% softirq', 'CPU31 states: 1% user 1% system 0% nice 98% idle 0% iowait 0% irq 0% softirq', 'CPU32 states: 5% user 1% system 0% nice 94% idle 0% iowait 0% irq 0% softirq', 'CPU33 states: 1% user 1% system 0% nice 98% idle 0% iowait 0% irq 0% softirq', 'CPU34 states: 5% user 1% system 0% nice 94% idle 0% iowait 0% irq 0% softirq', 'CPU35 states: 2% user 1% system 0% nice 97% idle 0% iowait 0% irq 0% softirq', 'CPU36 states: 1% user 1% system 0% nice 98% idle 0% iowait 0% irq 0% softirq', 'CPU37 states: 3% user 0% system 0% nice 97% idle 0% iowait 0% irq 0% softirq', 'CPU38 states: 2% user 0% system 0% nice 98% idle 0% iowait 0% irq 0% softirq', 'CPU39 states: 1% user 1% system 0% nice 98% idle 0% iowait 0% irq 0% softirq', 'CPU40 states: 3% user 2% system 0% nice 95% idle 0% iowait 0% irq 0% softirq', 'CPU41 states: 1% user 1% system 0% nice 98% idle 0% iowait 0% irq 0% softirq', 'CPU42 states: 6% user 1% system 0% nice 93% idle 0% iowait 0% irq 0% softirq', 'CPU43 states: 3% user 0% system 0% nice 97% idle 0% iowait 0% irq 0% softirq', 'CPU44 states: 6% user 0% system 0% nice 94% idle 0% iowait 0% irq 0% softirq', 'CPU45 states: 1% user 0% system 0% nice 99% idle 0% iowait 0% irq 0% softirq', 'CPU46 states: 2% user 1% system 0% nice 97% idle 0% iowait 0% irq 0% softirq', 'CPU47 states: 1% user 0% system 0% nice 99% idle 0% iowait 0% irq 0% softirq']\n",
            "cpu_idle_for_all_batches[0]: ['CPU0 83%', 'CPU1 92%', 'CPU2 95%', 'CPU3 93%', 'CPU4 84%', 'CPU5 94%', 'CPU6 89%', 'CPU7 94%', 'CPU8 94%', 'CPU9 92%', 'CPU10 90%', 'CPU11 92%', 'CPU12 89%', 'CPU13 86%', 'CPU14 90%', 'CPU15 94%', 'CPU16 90%', 'CPU17 90%', 'CPU18 93%', 'CPU19 91%', 'CPU20 96%', 'CPU21 90%', 'CPU22 89%', 'CPU23 88%', 'CPU24 95%', 'CPU25 98%', 'CPU26 97%', 'CPU27 98%', 'CPU28 95%', 'CPU29 97%', 'CPU30 97%', 'CPU31 98%', 'CPU32 94%', 'CPU33 98%', 'CPU34 94%', 'CPU35 97%', 'CPU36 98%', 'CPU37 97%', 'CPU38 98%', 'CPU39 98%', 'CPU40 95%', 'CPU41 98%', 'CPU42 93%', 'CPU43 97%', 'CPU44 94%', 'CPU45 99%', 'CPU46 97%', 'CPU47 99%']\n",
            "log chars: 4802746\n",
            "log lines: 93793\n",
            "cpu utilization lines: 4704\n",
            "batches: 96\n",
            "averages: ['CPU states: 3% user 1% system 0% nice 94% idle 0% iowait 0% irq 2% softirq', 'CPU states: 3% user 1% system 0% nice 94% idle 0% iowait 0% irq 2% softirq', 'CPU states: 3% user 2% system 0% nice 92% idle 0% iowait 0% irq 3% softirq', 'CPU states: 3% user 2% system 0% nice 93% idle 0% iowait 0% irq 2% softirq', 'CPU states: 3% user 2% system 0% nice 94% idle 0% iowait 0% irq 1% softirq', 'CPU states: 3% user 2% system 0% nice 93% idle 0% iowait 0% irq 2% softirq', 'CPU states: 3% user 1% system 0% nice 95% idle 0% iowait 0% irq 1% softirq', 'CPU states: 3% user 2% system 0% nice 94% idle 0% iowait 0% irq 1% softirq', 'CPU states: 3% user 2% system 0% nice 93% idle 0% iowait 0% irq 2% softirq', 'CPU states: 3% user 1% system 0% nice 95% idle 0% iowait 0% irq 1% softirq', 'CPU states: 3% user 1% system 0% nice 95% idle 0% iowait 0% irq 1% softirq', 'CPU states: 3% user 2% system 0% nice 94% idle 0% iowait 0% irq 1% softirq', 'CPU states: 3% user 1% system 0% nice 94% idle 0% iowait 0% irq 2% softirq', 'CPU states: 3% user 2% system 0% nice 94% idle 0% iowait 0% irq 1% softirq', 'CPU states: 3% user 1% system 0% nice 93% idle 0% iowait 0% irq 3% softirq', 'CPU states: 3% user 2% system 0% nice 93% idle 0% iowait 0% irq 2% softirq', 'CPU states: 4% user 2% system 0% nice 92% idle 0% iowait 0% irq 2% softirq', 'CPU states: 3% user 2% system 0% nice 94% idle 0% iowait 0% irq 1% softirq', 'CPU states: 3% user 1% system 0% nice 95% idle 0% iowait 0% irq 1% softirq', 'CPU states: 2% user 1% system 0% nice 96% idle 0% iowait 0% irq 1% softirq', 'CPU states: 2% user 2% system 0% nice 94% idle 0% iowait 0% irq 2% softirq', 'CPU states: 2% user 2% system 0% nice 95% idle 0% iowait 0% irq 1% softirq', 'CPU states: 3% user 0% system 0% nice 96% idle 0% iowait 0% irq 1% softirq', 'CPU states: 2% user 1% system 0% nice 96% idle 0% iowait 0% irq 1% softirq', 'CPU states: 2% user 2% system 0% nice 95% idle 0% iowait 0% irq 1% softirq', 'CPU states: 2% user 1% system 0% nice 96% idle 0% iowait 0% irq 1% softirq', 'CPU states: 2% user 1% system 0% nice 96% idle 0% iowait 0% irq 1% softirq', 'CPU states: 2% user 0% system 0% nice 97% idle 0% iowait 0% irq 1% softirq', 'CPU states: 2% user 1% system 0% nice 96% idle 0% iowait 0% irq 1% softirq', 'CPU states: 3% user 2% system 0% nice 94% idle 0% iowait 0% irq 1% softirq', 'CPU states: 2% user 0% system 0% nice 97% idle 0% iowait 0% irq 1% softirq', 'CPU states: 2% user 1% system 0% nice 96% idle 0% iowait 0% irq 1% softirq', 'CPU states: 2% user 1% system 0% nice 96% idle 0% iowait 0% irq 1% softirq', 'CPU states: 2% user 1% system 0% nice 95% idle 0% iowait 0% irq 2% softirq', 'CPU states: 2% user 1% system 0% nice 96% idle 0% iowait 0% irq 1% softirq', 'CPU states: 2% user 1% system 0% nice 96% idle 0% iowait 0% irq 1% softirq', 'CPU states: 2% user 2% system 0% nice 95% idle 0% iowait 0% irq 1% softirq', 'CPU states: 3% user 2% system 0% nice 94% idle 0% iowait 0% irq 1% softirq', 'CPU states: 2% user 2% system 0% nice 95% idle 0% iowait 0% irq 1% softirq', 'CPU states: 2% user 1% system 0% nice 96% idle 0% iowait 0% irq 1% softirq', 'CPU states: 4% user 2% system 0% nice 93% idle 0% iowait 0% irq 1% softirq', 'CPU states: 3% user 1% system 0% nice 95% idle 0% iowait 0% irq 1% softirq', 'CPU states: 3% user 1% system 0% nice 95% idle 0% iowait 0% irq 1% softirq', 'CPU states: 3% user 1% system 0% nice 95% idle 0% iowait 0% irq 1% softirq', 'CPU states: 3% user 2% system 0% nice 94% idle 0% iowait 0% irq 1% softirq', 'CPU states: 3% user 1% system 0% nice 95% idle 0% iowait 0% irq 1% softirq', 'CPU states: 3% user 1% system 0% nice 95% idle 0% iowait 0% irq 1% softirq', 'CPU states: 4% user 1% system 0% nice 94% idle 0% iowait 0% irq 1% softirq', 'CPU states: 5% user 2% system 0% nice 91% idle 0% iowait 0% irq 2% softirq', 'CPU states: 4% user 3% system 0% nice 91% idle 0% iowait 0% irq 2% softirq', 'CPU states: 6% user 3% system 0% nice 89% idle 0% iowait 0% irq 2% softirq', 'CPU states: 7% user 7% system 0% nice 83% idle 0% iowait 0% irq 3% softirq', 'CPU states: 8% user 4% system 0% nice 85% idle 0% iowait 0% irq 3% softirq', 'CPU states: 10% user 5% system 0% nice 81% idle 0% iowait 0% irq 4% softirq', 'CPU states: 10% user 6% system 0% nice 79% idle 0% iowait 1% irq 4% softirq', 'CPU states: 9% user 5% system 0% nice 82% idle 0% iowait 0% irq 4% softirq', 'CPU states: 11% user 6% system 0% nice 77% idle 0% iowait 1% irq 5% softirq', 'CPU states: 14% user 7% system 0% nice 73% idle 0% iowait 1% irq 5% softirq', 'CPU states: 11% user 6% system 0% nice 77% idle 0% iowait 1% irq 5% softirq', 'CPU states: 11% user 6% system 0% nice 78% idle 0% iowait 1% irq 4% softirq', 'CPU states: 12% user 7% system 0% nice 74% idle 0% iowait 1% irq 6% softirq', 'CPU states: 11% user 6% system 0% nice 77% idle 0% iowait 1% irq 5% softirq', 'CPU states: 11% user 5% system 0% nice 78% idle 0% iowait 1% irq 5% softirq', 'CPU states: 11% user 5% system 0% nice 78% idle 0% iowait 1% irq 5% softirq', 'CPU states: 12% user 6% system 0% nice 76% idle 0% iowait 1% irq 5% softirq', 'CPU states: 11% user 7% system 0% nice 75% idle 0% iowait 1% irq 6% softirq', 'CPU states: 10% user 6% system 0% nice 78% idle 0% iowait 1% irq 5% softirq', 'CPU states: 11% user 7% system 0% nice 77% idle 0% iowait 1% irq 4% softirq', 'CPU states: 10% user 6% system 0% nice 79% idle 0% iowait 1% irq 4% softirq', 'CPU states: 10% user 6% system 0% nice 79% idle 0% iowait 1% irq 4% softirq', 'CPU states: 9% user 5% system 0% nice 81% idle 0% iowait 1% irq 4% softirq', 'CPU states: 9% user 5% system 0% nice 82% idle 0% iowait 0% irq 4% softirq', 'CPU states: 10% user 6% system 0% nice 80% idle 0% iowait 0% irq 4% softirq', 'CPU states: 10% user 6% system 0% nice 79% idle 0% iowait 1% irq 4% softirq', 'CPU states: 9% user 6% system 0% nice 79% idle 0% iowait 1% irq 5% softirq', 'CPU states: 9% user 6% system 0% nice 80% idle 0% iowait 1% irq 4% softirq', 'CPU states: 12% user 7% system 0% nice 75% idle 0% iowait 1% irq 5% softirq', 'CPU states: 11% user 7% system 0% nice 76% idle 0% iowait 1% irq 5% softirq', 'CPU states: 10% user 5% system 0% nice 80% idle 0% iowait 1% irq 4% softirq', 'CPU states: 9% user 6% system 0% nice 80% idle 0% iowait 1% irq 4% softirq', 'CPU states: 10% user 6% system 0% nice 79% idle 0% iowait 1% irq 4% softirq', 'CPU states: 10% user 6% system 0% nice 79% idle 0% iowait 1% irq 4% softirq', 'CPU states: 11% user 6% system 0% nice 78% idle 0% iowait 1% irq 4% softirq', 'CPU states: 10% user 4% system 0% nice 81% idle 0% iowait 1% irq 4% softirq', 'CPU states: 9% user 4% system 0% nice 82% idle 0% iowait 1% irq 4% softirq', 'CPU states: 8% user 5% system 0% nice 83% idle 0% iowait 0% irq 4% softirq', 'CPU states: 9% user 4% system 0% nice 84% idle 0% iowait 0% irq 3% softirq', 'CPU states: 6% user 4% system 1% nice 86% idle 0% iowait 0% irq 3% softirq', 'CPU states: 6% user 4% system 0% nice 87% idle 0% iowait 0% irq 3% softirq', 'CPU states: 7% user 4% system 0% nice 85% idle 0% iowait 0% irq 4% softirq', 'CPU states: 6% user 3% system 0% nice 89% idle 0% iowait 0% irq 2% softirq', 'CPU states: 5% user 3% system 0% nice 90% idle 0% iowait 0% irq 2% softirq', 'CPU states: 6% user 3% system 0% nice 88% idle 0% iowait 0% irq 3% softirq', 'CPU states: 4% user 3% system 0% nice 91% idle 0% iowait 0% irq 2% softirq', 'CPU states: 4% user 2% system 0% nice 92% idle 0% iowait 0% irq 2% softirq', 'CPU states: 4% user 2% system 0% nice 92% idle 0% iowait 0% irq 2% softirq']\n",
            "per_cpu_utilization[0]: ['CPU0 states: 3% user 0% system 0% nice 91% idle 0% iowait 1% irq 5% softirq', 'CPU1 states: 2% user 0% system 0% nice 95% idle 0% iowait 0% irq 3% softirq', 'CPU2 states: 12% user 1% system 0% nice 82% idle 0% iowait 1% irq 4% softirq', 'CPU3 states: 1% user 1% system 0% nice 92% idle 0% iowait 1% irq 5% softirq', 'CPU4 states: 2% user 0% system 0% nice 87% idle 0% iowait 1% irq 10% softirq', 'CPU5 states: 3% user 1% system 0% nice 87% idle 0% iowait 1% irq 8% softirq', 'CPU6 states: 3% user 0% system 0% nice 93% idle 0% iowait 0% irq 4% softirq', 'CPU7 states: 2% user 1% system 0% nice 94% idle 0% iowait 0% irq 3% softirq', 'CPU8 states: 3% user 2% system 0% nice 91% idle 0% iowait 0% irq 4% softirq', 'CPU9 states: 2% user 0% system 0% nice 95% idle 0% iowait 0% irq 3% softirq', 'CPU10 states: 4% user 1% system 0% nice 91% idle 0% iowait 0% irq 4% softirq', 'CPU11 states: 2% user 1% system 0% nice 89% idle 0% iowait 1% irq 7% softirq', 'CPU12 states: 4% user 1% system 0% nice 91% idle 0% iowait 0% irq 4% softirq', 'CPU13 states: 4% user 1% system 0% nice 91% idle 0% iowait 0% irq 4% softirq', 'CPU14 states: 5% user 2% system 0% nice 89% idle 0% iowait 0% irq 4% softirq', 'CPU15 states: 4% user 4% system 0% nice 88% idle 0% iowait 0% irq 4% softirq', 'CPU16 states: 5% user 2% system 0% nice 89% idle 0% iowait 0% irq 4% softirq', 'CPU17 states: 4% user 0% system 0% nice 92% idle 0% iowait 0% irq 4% softirq', 'CPU18 states: 1% user 0% system 0% nice 92% idle 0% iowait 1% irq 6% softirq', 'CPU19 states: 18% user 14% system 0% nice 62% idle 0% iowait 1% irq 5% softirq', 'CPU20 states: 6% user 2% system 0% nice 87% idle 0% iowait 0% irq 5% softirq', 'CPU21 states: 1% user 1% system 0% nice 93% idle 0% iowait 0% irq 5% softirq', 'CPU22 states: 4% user 0% system 0% nice 92% idle 0% iowait 0% irq 4% softirq', 'CPU23 states: 2% user 3% system 0% nice 90% idle 0% iowait 0% irq 5% softirq', 'CPU24 states: 2% user 0% system 0% nice 98% idle 0% iowait 0% irq 0% softirq', 'CPU25 states: 1% user 0% system 0% nice 99% idle 0% iowait 0% irq 0% softirq', 'CPU26 states: 4% user 2% system 0% nice 94% idle 0% iowait 0% irq 0% softirq', 'CPU27 states: 2% user 0% system 0% nice 98% idle 0% iowait 0% irq 0% softirq', 'CPU28 states: 5% user 3% system 0% nice 92% idle 0% iowait 0% irq 0% softirq', 'CPU29 states: 1% user 0% system 0% nice 99% idle 0% iowait 0% irq 0% softirq', 'CPU30 states: 1% user 1% system 0% nice 98% idle 0% iowait 0% irq 0% softirq', 'CPU31 states: 4% user 0% system 0% nice 96% idle 0% iowait 0% irq 0% softirq', 'CPU32 states: 9% user 0% system 0% nice 91% idle 0% iowait 0% irq 0% softirq', 'CPU33 states: 2% user 0% system 0% nice 98% idle 0% iowait 0% irq 0% softirq', 'CPU34 states: 1% user 0% system 0% nice 98% idle 0% iowait 1% irq 0% softirq', 'CPU35 states: 1% user 0% system 0% nice 98% idle 0% iowait 1% irq 0% softirq', 'CPU36 states: 6% user 0% system 0% nice 94% idle 0% iowait 0% irq 0% softirq', 'CPU37 states: 2% user 0% system 0% nice 98% idle 0% iowait 0% irq 0% softirq', 'CPU38 states: 1% user 1% system 0% nice 98% idle 0% iowait 0% irq 0% softirq', 'CPU39 states: 3% user 0% system 0% nice 97% idle 0% iowait 0% irq 0% softirq', 'CPU40 states: 2% user 1% system 0% nice 97% idle 0% iowait 0% irq 0% softirq', 'CPU41 states: 2% user 0% system 0% nice 98% idle 0% iowait 0% irq 0% softirq', 'CPU42 states: 4% user 0% system 0% nice 96% idle 0% iowait 0% irq 0% softirq', 'CPU43 states: 2% user 0% system 0% nice 98% idle 0% iowait 0% irq 0% softirq', 'CPU44 states: 2% user 0% system 0% nice 98% idle 0% iowait 0% irq 0% softirq', 'CPU45 states: 2% user 0% system 0% nice 98% idle 0% iowait 0% irq 0% softirq', 'CPU46 states: 5% user 0% system 0% nice 95% idle 0% iowait 0% irq 0% softirq', 'CPU47 states: 1% user 0% system 0% nice 99% idle 0% iowait 0% irq 0% softirq']\n",
            "cpu_idle_for_all_batches[0]: ['CPU0 91%', 'CPU1 95%', 'CPU2 82%', 'CPU3 92%', 'CPU4 87%', 'CPU5 87%', 'CPU6 93%', 'CPU7 94%', 'CPU8 91%', 'CPU9 95%', 'CPU10 91%', 'CPU11 89%', 'CPU12 91%', 'CPU13 91%', 'CPU14 89%', 'CPU15 88%', 'CPU16 89%', 'CPU17 92%', 'CPU18 92%', 'CPU19 62%', 'CPU20 87%', 'CPU21 93%', 'CPU22 92%', 'CPU23 90%', 'CPU24 98%', 'CPU25 99%', 'CPU26 94%', 'CPU27 98%', 'CPU28 92%', 'CPU29 99%', 'CPU30 98%', 'CPU31 96%', 'CPU32 91%', 'CPU33 98%', 'CPU34 98%', 'CPU35 98%', 'CPU36 94%', 'CPU37 98%', 'CPU38 98%', 'CPU39 97%', 'CPU40 97%', 'CPU41 98%', 'CPU42 96%', 'CPU43 98%', 'CPU44 98%', 'CPU45 98%', 'CPU46 95%', 'CPU47 99%']\n",
            "log chars: 4803054\n",
            "log lines: 93793\n",
            "cpu utilization lines: 4704\n",
            "batches: 96\n",
            "averages: ['CPU states: 3% user 2% system 0% nice 92% idle 0% iowait 0% irq 3% softirq', 'CPU states: 3% user 2% system 0% nice 93% idle 0% iowait 0% irq 2% softirq', 'CPU states: 4% user 2% system 0% nice 91% idle 0% iowait 0% irq 3% softirq', 'CPU states: 4% user 2% system 0% nice 92% idle 0% iowait 0% irq 2% softirq', 'CPU states: 4% user 2% system 0% nice 92% idle 0% iowait 0% irq 2% softirq', 'CPU states: 3% user 2% system 0% nice 94% idle 0% iowait 0% irq 1% softirq', 'CPU states: 4% user 2% system 0% nice 92% idle 0% iowait 0% irq 2% softirq', 'CPU states: 3% user 2% system 0% nice 93% idle 0% iowait 0% irq 2% softirq', 'CPU states: 4% user 2% system 0% nice 93% idle 0% iowait 0% irq 1% softirq', 'CPU states: 4% user 2% system 0% nice 92% idle 0% iowait 0% irq 2% softirq', 'CPU states: 3% user 2% system 0% nice 94% idle 0% iowait 0% irq 1% softirq', 'CPU states: 3% user 2% system 0% nice 94% idle 0% iowait 0% irq 1% softirq', 'CPU states: 3% user 2% system 0% nice 93% idle 0% iowait 0% irq 2% softirq', 'CPU states: 3% user 2% system 0% nice 94% idle 0% iowait 0% irq 1% softirq', 'CPU states: 4% user 2% system 0% nice 91% idle 0% iowait 0% irq 3% softirq', 'CPU states: 4% user 3% system 0% nice 90% idle 0% iowait 0% irq 3% softirq', 'CPU states: 4% user 2% system 0% nice 92% idle 0% iowait 0% irq 2% softirq', 'CPU states: 3% user 1% system 0% nice 94% idle 0% iowait 0% irq 2% softirq', 'CPU states: 3% user 2% system 0% nice 93% idle 0% iowait 0% irq 2% softirq', 'CPU states: 3% user 1% system 0% nice 94% idle 0% iowait 0% irq 2% softirq', 'CPU states: 3% user 2% system 0% nice 93% idle 0% iowait 0% irq 2% softirq', 'CPU states: 3% user 1% system 0% nice 95% idle 0% iowait 0% irq 1% softirq', 'CPU states: 3% user 2% system 0% nice 94% idle 0% iowait 0% irq 1% softirq', 'CPU states: 3% user 2% system 0% nice 94% idle 0% iowait 0% irq 1% softirq', 'CPU states: 3% user 1% system 0% nice 95% idle 0% iowait 0% irq 1% softirq', 'CPU states: 3% user 1% system 0% nice 95% idle 0% iowait 0% irq 1% softirq', 'CPU states: 2% user 1% system 0% nice 96% idle 0% iowait 0% irq 1% softirq', 'CPU states: 2% user 1% system 0% nice 96% idle 0% iowait 0% irq 1% softirq', 'CPU states: 2% user 2% system 0% nice 95% idle 0% iowait 0% irq 1% softirq', 'CPU states: 3% user 1% system 0% nice 95% idle 0% iowait 0% irq 1% softirq', 'CPU states: 3% user 2% system 0% nice 93% idle 0% iowait 0% irq 2% softirq', 'CPU states: 2% user 0% system 0% nice 97% idle 0% iowait 0% irq 1% softirq', 'CPU states: 3% user 2% system 0% nice 94% idle 0% iowait 0% irq 1% softirq', 'CPU states: 3% user 2% system 0% nice 93% idle 0% iowait 0% irq 2% softirq', 'CPU states: 3% user 2% system 0% nice 93% idle 0% iowait 0% irq 2% softirq', 'CPU states: 2% user 1% system 0% nice 96% idle 0% iowait 0% irq 1% softirq', 'CPU states: 2% user 2% system 0% nice 95% idle 0% iowait 0% irq 1% softirq', 'CPU states: 3% user 2% system 0% nice 94% idle 0% iowait 0% irq 1% softirq', 'CPU states: 2% user 1% system 0% nice 95% idle 0% iowait 0% irq 2% softirq', 'CPU states: 2% user 1% system 0% nice 96% idle 0% iowait 0% irq 1% softirq', 'CPU states: 2% user 2% system 0% nice 95% idle 0% iowait 0% irq 1% softirq', 'CPU states: 3% user 0% system 0% nice 96% idle 0% iowait 0% irq 1% softirq', 'CPU states: 3% user 2% system 0% nice 94% idle 0% iowait 0% irq 1% softirq', 'CPU states: 3% user 1% system 0% nice 95% idle 0% iowait 0% irq 1% softirq', 'CPU states: 3% user 2% system 0% nice 94% idle 0% iowait 0% irq 1% softirq', 'CPU states: 3% user 2% system 0% nice 94% idle 0% iowait 0% irq 1% softirq', 'CPU states: 4% user 2% system 0% nice 92% idle 0% iowait 0% irq 2% softirq', 'CPU states: 3% user 2% system 0% nice 94% idle 0% iowait 0% irq 1% softirq', 'CPU states: 4% user 2% system 0% nice 93% idle 0% iowait 0% irq 1% softirq', 'CPU states: 5% user 2% system 0% nice 91% idle 0% iowait 0% irq 2% softirq', 'CPU states: 6% user 3% system 0% nice 89% idle 0% iowait 0% irq 2% softirq', 'CPU states: 7% user 3% system 0% nice 87% idle 0% iowait 0% irq 3% softirq', 'CPU states: 7% user 3% system 0% nice 87% idle 0% iowait 0% irq 3% softirq', 'CPU states: 9% user 4% system 0% nice 83% idle 0% iowait 0% irq 4% softirq', 'CPU states: 9% user 6% system 0% nice 80% idle 0% iowait 0% irq 5% softirq', 'CPU states: 9% user 5% system 0% nice 82% idle 0% iowait 0% irq 4% softirq', 'CPU states: 10% user 5% system 0% nice 79% idle 0% iowait 1% irq 5% softirq', 'CPU states: 10% user 6% system 0% nice 79% idle 0% iowait 1% irq 4% softirq', 'CPU states: 11% user 6% system 0% nice 77% idle 0% iowait 1% irq 5% softirq', 'CPU states: 11% user 6% system 0% nice 77% idle 0% iowait 1% irq 5% softirq', 'CPU states: 11% user 5% system 0% nice 78% idle 0% iowait 1% irq 5% softirq', 'CPU states: 11% user 7% system 0% nice 76% idle 0% iowait 1% irq 5% softirq', 'CPU states: 11% user 7% system 0% nice 76% idle 0% iowait 1% irq 5% softirq', 'CPU states: 11% user 5% system 0% nice 78% idle 0% iowait 1% irq 5% softirq', 'CPU states: 11% user 6% system 0% nice 77% idle 0% iowait 1% irq 5% softirq', 'CPU states: 10% user 5% system 0% nice 79% idle 0% iowait 1% irq 5% softirq', 'CPU states: 10% user 6% system 0% nice 79% idle 0% iowait 1% irq 4% softirq', 'CPU states: 10% user 6% system 0% nice 78% idle 0% iowait 1% irq 5% softirq', 'CPU states: 13% user 8% system 0% nice 72% idle 0% iowait 1% irq 6% softirq', 'CPU states: 9% user 5% system 0% nice 81% idle 0% iowait 1% irq 4% softirq', 'CPU states: 8% user 5% system 0% nice 83% idle 0% iowait 0% irq 4% softirq', 'CPU states: 9% user 4% system 0% nice 83% idle 0% iowait 0% irq 4% softirq', 'CPU states: 10% user 6% system 0% nice 79% idle 0% iowait 1% irq 4% softirq', 'CPU states: 11% user 6% system 0% nice 77% idle 0% iowait 1% irq 5% softirq', 'CPU states: 11% user 6% system 0% nice 77% idle 0% iowait 1% irq 5% softirq', 'CPU states: 11% user 6% system 0% nice 77% idle 0% iowait 1% irq 5% softirq', 'CPU states: 12% user 7% system 0% nice 75% idle 0% iowait 1% irq 5% softirq', 'CPU states: 10% user 5% system 0% nice 79% idle 0% iowait 1% irq 5% softirq', 'CPU states: 10% user 6% system 0% nice 78% idle 0% iowait 1% irq 5% softirq', 'CPU states: 11% user 6% system 0% nice 77% idle 0% iowait 1% irq 5% softirq', 'CPU states: 10% user 6% system 0% nice 78% idle 0% iowait 1% irq 5% softirq', 'CPU states: 11% user 6% system 0% nice 77% idle 0% iowait 1% irq 5% softirq', 'CPU states: 10% user 5% system 0% nice 79% idle 0% iowait 1% irq 5% softirq', 'CPU states: 9% user 5% system 0% nice 81% idle 0% iowait 1% irq 4% softirq', 'CPU states: 9% user 4% system 0% nice 83% idle 0% iowait 0% irq 4% softirq', 'CPU states: 8% user 5% system 0% nice 83% idle 0% iowait 0% irq 4% softirq', 'CPU states: 8% user 5% system 0% nice 83% idle 0% iowait 0% irq 4% softirq', 'CPU states: 7% user 4% system 0% nice 85% idle 0% iowait 0% irq 4% softirq', 'CPU states: 7% user 6% system 0% nice 83% idle 0% iowait 0% irq 4% softirq', 'CPU states: 6% user 4% system 0% nice 86% idle 0% iowait 0% irq 4% softirq', 'CPU states: 5% user 3% system 0% nice 89% idle 0% iowait 0% irq 3% softirq', 'CPU states: 5% user 3% system 0% nice 89% idle 0% iowait 0% irq 3% softirq', 'CPU states: 4% user 3% system 0% nice 91% idle 0% iowait 0% irq 2% softirq', 'CPU states: 4% user 3% system 0% nice 91% idle 0% iowait 0% irq 2% softirq', 'CPU states: 5% user 3% system 0% nice 89% idle 0% iowait 0% irq 3% softirq', 'CPU states: 4% user 3% system 0% nice 91% idle 0% iowait 0% irq 2% softirq']\n",
            "per_cpu_utilization[0]: ['CPU0 states: 5% user 3% system 0% nice 83% idle 0% iowait 1% irq 8% softirq', 'CPU1 states: 4% user 3% system 0% nice 89% idle 0% iowait 0% irq 4% softirq', 'CPU2 states: 1% user 2% system 0% nice 90% idle 0% iowait 1% irq 6% softirq', 'CPU3 states: 2% user 2% system 0% nice 87% idle 0% iowait 2% irq 7% softirq', 'CPU4 states: 3% user 3% system 0% nice 80% idle 0% iowait 2% irq 12% softirq', 'CPU5 states: 2% user 2% system 0% nice 92% idle 0% iowait 0% irq 4% softirq', 'CPU6 states: 4% user 4% system 0% nice 86% idle 0% iowait 0% irq 6% softirq', 'CPU7 states: 4% user 3% system 0% nice 89% idle 0% iowait 0% irq 4% softirq', 'CPU8 states: 3% user 3% system 0% nice 89% idle 0% iowait 0% irq 5% softirq', 'CPU9 states: 2% user 4% system 0% nice 90% idle 0% iowait 0% irq 4% softirq', 'CPU10 states: 7% user 5% system 0% nice 77% idle 0% iowait 1% irq 10% softirq', 'CPU11 states: 4% user 2% system 0% nice 86% idle 0% iowait 1% irq 7% softirq', 'CPU12 states: 8% user 4% system 0% nice 82% idle 0% iowait 0% irq 6% softirq', 'CPU13 states: 2% user 3% system 0% nice 91% idle 0% iowait 0% irq 4% softirq', 'CPU14 states: 4% user 3% system 0% nice 86% idle 0% iowait 1% irq 6% softirq', 'CPU15 states: 4% user 4% system 0% nice 88% idle 0% iowait 0% irq 4% softirq', 'CPU16 states: 4% user 2% system 0% nice 89% idle 0% iowait 0% irq 5% softirq', 'CPU17 states: 2% user 3% system 0% nice 91% idle 0% iowait 0% irq 4% softirq', 'CPU18 states: 2% user 2% system 0% nice 87% idle 0% iowait 1% irq 8% softirq', 'CPU19 states: 0% user 2% system 0% nice 93% idle 0% iowait 1% irq 4% softirq', 'CPU20 states: 3% user 2% system 0% nice 89% idle 0% iowait 0% irq 6% softirq', 'CPU21 states: 5% user 3% system 0% nice 90% idle 0% iowait 0% irq 2% softirq', 'CPU22 states: 4% user 5% system 0% nice 84% idle 0% iowait 1% irq 6% softirq', 'CPU23 states: 10% user 7% system 0% nice 74% idle 0% iowait 1% irq 8% softirq', 'CPU24 states: 3% user 2% system 0% nice 95% idle 0% iowait 0% irq 0% softirq', 'CPU25 states: 0% user 1% system 0% nice 99% idle 0% iowait 0% irq 0% softirq', 'CPU26 states: 3% user 2% system 0% nice 95% idle 0% iowait 0% irq 0% softirq', 'CPU27 states: 1% user 1% system 0% nice 98% idle 0% iowait 0% irq 0% softirq', 'CPU28 states: 3% user 1% system 0% nice 96% idle 0% iowait 0% irq 0% softirq', 'CPU29 states: 2% user 2% system 0% nice 96% idle 0% iowait 0% irq 0% softirq', 'CPU30 states: 8% user 2% system 0% nice 90% idle 0% iowait 0% irq 0% softirq', 'CPU31 states: 3% user 1% system 0% nice 96% idle 0% iowait 0% irq 0% softirq', 'CPU32 states: 4% user 1% system 0% nice 95% idle 0% iowait 0% irq 0% softirq', 'CPU33 states: 3% user 2% system 0% nice 95% idle 0% iowait 0% irq 0% softirq', 'CPU34 states: 7% user 2% system 0% nice 90% idle 0% iowait 1% irq 0% softirq', 'CPU35 states: 2% user 1% system 0% nice 96% idle 0% iowait 1% irq 0% softirq', 'CPU36 states: 4% user 2% system 0% nice 94% idle 0% iowait 0% irq 0% softirq', 'CPU37 states: 2% user 3% system 0% nice 95% idle 0% iowait 0% irq 0% softirq', 'CPU38 states: 2% user 1% system 0% nice 97% idle 0% iowait 0% irq 0% softirq', 'CPU39 states: 1% user 1% system 0% nice 98% idle 0% iowait 0% irq 0% softirq', 'CPU40 states: 2% user 2% system 0% nice 96% idle 0% iowait 0% irq 0% softirq', 'CPU41 states: 1% user 2% system 0% nice 97% idle 0% iowait 0% irq 0% softirq', 'CPU42 states: 9% user 2% system 0% nice 89% idle 0% iowait 0% irq 0% softirq', 'CPU43 states: 2% user 1% system 0% nice 97% idle 0% iowait 0% irq 0% softirq', 'CPU44 states: 2% user 1% system 0% nice 97% idle 0% iowait 0% irq 0% softirq', 'CPU45 states: 3% user 1% system 0% nice 96% idle 0% iowait 0% irq 0% softirq', 'CPU46 states: 5% user 2% system 0% nice 93% idle 0% iowait 0% irq 0% softirq', 'CPU47 states: 3% user 2% system 0% nice 95% idle 0% iowait 0% irq 0% softirq']\n",
            "cpu_idle_for_all_batches[0]: ['CPU0 83%', 'CPU1 89%', 'CPU2 90%', 'CPU3 87%', 'CPU4 80%', 'CPU5 92%', 'CPU6 86%', 'CPU7 89%', 'CPU8 89%', 'CPU9 90%', 'CPU10 77%', 'CPU11 86%', 'CPU12 82%', 'CPU13 91%', 'CPU14 86%', 'CPU15 88%', 'CPU16 89%', 'CPU17 91%', 'CPU18 87%', 'CPU19 93%', 'CPU20 89%', 'CPU21 90%', 'CPU22 84%', 'CPU23 74%', 'CPU24 95%', 'CPU25 99%', 'CPU26 95%', 'CPU27 98%', 'CPU28 96%', 'CPU29 96%', 'CPU30 90%', 'CPU31 96%', 'CPU32 95%', 'CPU33 95%', 'CPU34 90%', 'CPU35 96%', 'CPU36 94%', 'CPU37 95%', 'CPU38 97%', 'CPU39 98%', 'CPU40 96%', 'CPU41 97%', 'CPU42 89%', 'CPU43 97%', 'CPU44 97%', 'CPU45 96%', 'CPU46 93%', 'CPU47 95%']\n",
            "log chars: 4803126\n",
            "log lines: 93794\n",
            "cpu utilization lines: 4704\n",
            "batches: 96\n",
            "averages: ['CPU states: 4% user 2% system 0% nice 91% idle 0% iowait 0% irq 3% softirq', 'CPU states: 4% user 3% system 0% nice 89% idle 0% iowait 0% irq 4% softirq', 'CPU states: 3% user 2% system 0% nice 92% idle 0% iowait 0% irq 3% softirq', 'CPU states: 5% user 3% system 0% nice 89% idle 0% iowait 0% irq 3% softirq', 'CPU states: 4% user 3% system 0% nice 91% idle 0% iowait 0% irq 2% softirq', 'CPU states: 3% user 2% system 0% nice 93% idle 0% iowait 0% irq 2% softirq', 'CPU states: 4% user 2% system 0% nice 92% idle 0% iowait 0% irq 2% softirq', 'CPU states: 3% user 2% system 0% nice 93% idle 0% iowait 0% irq 2% softirq', 'CPU states: 3% user 2% system 0% nice 93% idle 0% iowait 0% irq 2% softirq', 'CPU states: 3% user 2% system 0% nice 93% idle 0% iowait 0% irq 2% softirq', 'CPU states: 4% user 2% system 0% nice 92% idle 0% iowait 0% irq 2% softirq', 'CPU states: 3% user 2% system 0% nice 93% idle 0% iowait 0% irq 2% softirq', 'CPU states: 4% user 2% system 0% nice 92% idle 0% iowait 0% irq 2% softirq', 'CPU states: 4% user 2% system 0% nice 92% idle 0% iowait 0% irq 2% softirq', 'CPU states: 3% user 2% system 0% nice 92% idle 0% iowait 0% irq 3% softirq', 'CPU states: 3% user 2% system 0% nice 92% idle 0% iowait 0% irq 3% softirq', 'CPU states: 4% user 3% system 0% nice 90% idle 0% iowait 0% irq 3% softirq', 'CPU states: 4% user 3% system 0% nice 90% idle 0% iowait 0% irq 3% softirq', 'CPU states: 3% user 2% system 0% nice 92% idle 0% iowait 0% irq 3% softirq', 'CPU states: 3% user 2% system 0% nice 93% idle 0% iowait 0% irq 2% softirq', 'CPU states: 4% user 2% system 0% nice 92% idle 0% iowait 0% irq 2% softirq', 'CPU states: 3% user 2% system 0% nice 93% idle 0% iowait 0% irq 2% softirq', 'CPU states: 3% user 2% system 0% nice 93% idle 0% iowait 0% irq 2% softirq', 'CPU states: 3% user 1% system 0% nice 95% idle 0% iowait 0% irq 1% softirq', 'CPU states: 3% user 2% system 0% nice 94% idle 0% iowait 0% irq 1% softirq', 'CPU states: 4% user 2% system 0% nice 93% idle 0% iowait 0% irq 1% softirq', 'CPU states: 3% user 2% system 0% nice 93% idle 0% iowait 0% irq 2% softirq', 'CPU states: 3% user 2% system 0% nice 93% idle 0% iowait 0% irq 2% softirq', 'CPU states: 3% user 2% system 0% nice 93% idle 0% iowait 0% irq 2% softirq', 'CPU states: 3% user 2% system 0% nice 93% idle 0% iowait 0% irq 2% softirq', 'CPU states: 3% user 2% system 0% nice 94% idle 0% iowait 0% irq 1% softirq', 'CPU states: 3% user 1% system 0% nice 94% idle 0% iowait 0% irq 2% softirq', 'CPU states: 3% user 2% system 0% nice 93% idle 0% iowait 0% irq 2% softirq', 'CPU states: 4% user 3% system 0% nice 91% idle 0% iowait 0% irq 2% softirq', 'CPU states: 3% user 1% system 0% nice 94% idle 0% iowait 0% irq 2% softirq', 'CPU states: 2% user 2% system 0% nice 94% idle 0% iowait 0% irq 2% softirq', 'CPU states: 3% user 2% system 0% nice 93% idle 0% iowait 0% irq 2% softirq', 'CPU states: 3% user 2% system 0% nice 94% idle 0% iowait 0% irq 1% softirq', 'CPU states: 3% user 1% system 0% nice 94% idle 0% iowait 0% irq 2% softirq', 'CPU states: 4% user 1% system 0% nice 94% idle 0% iowait 0% irq 1% softirq', 'CPU states: 2% user 2% system 0% nice 95% idle 0% iowait 0% irq 1% softirq', 'CPU states: 3% user 1% system 0% nice 95% idle 0% iowait 0% irq 1% softirq', 'CPU states: 3% user 1% system 0% nice 95% idle 0% iowait 0% irq 1% softirq', 'CPU states: 3% user 1% system 0% nice 95% idle 0% iowait 0% irq 1% softirq', 'CPU states: 3% user 2% system 0% nice 93% idle 0% iowait 0% irq 2% softirq', 'CPU states: 3% user 2% system 0% nice 93% idle 0% iowait 0% irq 2% softirq', 'CPU states: 3% user 1% system 0% nice 94% idle 0% iowait 0% irq 2% softirq', 'CPU states: 3% user 2% system 0% nice 94% idle 0% iowait 0% irq 1% softirq', 'CPU states: 5% user 3% system 0% nice 90% idle 0% iowait 0% irq 2% softirq', 'CPU states: 4% user 3% system 0% nice 91% idle 0% iowait 0% irq 2% softirq', 'CPU states: 6% user 2% system 0% nice 90% idle 0% iowait 0% irq 2% softirq', 'CPU states: 6% user 3% system 0% nice 88% idle 0% iowait 0% irq 3% softirq', 'CPU states: 7% user 4% system 0% nice 86% idle 0% iowait 0% irq 3% softirq', 'CPU states: 8% user 5% system 0% nice 83% idle 0% iowait 0% irq 4% softirq', 'CPU states: 9% user 4% system 0% nice 83% idle 0% iowait 0% irq 4% softirq', 'CPU states: 9% user 5% system 0% nice 81% idle 0% iowait 1% irq 4% softirq', 'CPU states: 11% user 5% system 0% nice 78% idle 0% iowait 1% irq 5% softirq', 'CPU states: 11% user 6% system 0% nice 77% idle 0% iowait 1% irq 5% softirq', 'CPU states: 13% user 8% system 0% nice 73% idle 0% iowait 1% irq 5% softirq', 'CPU states: 11% user 6% system 0% nice 77% idle 0% iowait 1% irq 5% softirq', 'CPU states: 12% user 6% system 0% nice 75% idle 0% iowait 1% irq 6% softirq', 'CPU states: 12% user 6% system 0% nice 76% idle 0% iowait 1% irq 5% softirq', 'CPU states: 11% user 6% system 0% nice 77% idle 0% iowait 1% irq 5% softirq', 'CPU states: 11% user 6% system 0% nice 78% idle 0% iowait 1% irq 4% softirq', 'CPU states: 11% user 6% system 0% nice 77% idle 0% iowait 1% irq 5% softirq', 'CPU states: 10% user 6% system 0% nice 78% idle 0% iowait 1% irq 5% softirq', 'CPU states: 11% user 7% system 0% nice 75% idle 0% iowait 1% irq 6% softirq', 'CPU states: 11% user 6% system 0% nice 77% idle 0% iowait 1% irq 5% softirq', 'CPU states: 12% user 6% system 0% nice 76% idle 0% iowait 1% irq 5% softirq', 'CPU states: 10% user 6% system 0% nice 79% idle 0% iowait 1% irq 4% softirq', 'CPU states: 10% user 5% system 0% nice 81% idle 0% iowait 0% irq 4% softirq', 'CPU states: 9% user 5% system 0% nice 82% idle 0% iowait 0% irq 4% softirq', 'CPU states: 10% user 5% system 0% nice 79% idle 0% iowait 1% irq 5% softirq', 'CPU states: 12% user 6% system 0% nice 76% idle 0% iowait 1% irq 5% softirq', 'CPU states: 11% user 6% system 0% nice 77% idle 0% iowait 1% irq 5% softirq', 'CPU states: 16% user 17% system 0% nice 62% idle 0% iowait 1% irq 4% softirq', 'CPU states: 11% user 5% system 0% nice 79% idle 0% iowait 1% irq 4% softirq', 'CPU states: 11% user 5% system 0% nice 78% idle 0% iowait 1% irq 5% softirq', 'CPU states: 11% user 6% system 0% nice 77% idle 0% iowait 1% irq 5% softirq', 'CPU states: 11% user 6% system 0% nice 76% idle 0% iowait 1% irq 6% softirq', 'CPU states: 11% user 6% system 0% nice 76% idle 0% iowait 1% irq 6% softirq', 'CPU states: 11% user 6% system 0% nice 77% idle 0% iowait 1% irq 5% softirq', 'CPU states: 11% user 7% system 0% nice 75% idle 0% iowait 1% irq 6% softirq', 'CPU states: 11% user 6% system 0% nice 77% idle 0% iowait 1% irq 5% softirq', 'CPU states: 10% user 5% system 0% nice 80% idle 0% iowait 1% irq 4% softirq', 'CPU states: 9% user 5% system 0% nice 82% idle 0% iowait 0% irq 4% softirq', 'CPU states: 9% user 6% system 0% nice 80% idle 0% iowait 1% irq 4% softirq', 'CPU states: 7% user 5% system 0% nice 85% idle 0% iowait 0% irq 3% softirq', 'CPU states: 7% user 5% system 0% nice 85% idle 0% iowait 0% irq 3% softirq', 'CPU states: 6% user 3% system 0% nice 88% idle 0% iowait 0% irq 3% softirq', 'CPU states: 5% user 3% system 0% nice 90% idle 0% iowait 0% irq 2% softirq', 'CPU states: 6% user 2% system 0% nice 90% idle 0% iowait 0% irq 2% softirq', 'CPU states: 5% user 3% system 0% nice 90% idle 0% iowait 0% irq 2% softirq', 'CPU states: 5% user 2% system 0% nice 91% idle 0% iowait 0% irq 2% softirq', 'CPU states: 4% user 2% system 0% nice 92% idle 0% iowait 0% irq 2% softirq', 'CPU states: 5% user 3% system 0% nice 90% idle 0% iowait 0% irq 2% softirq']\n",
            "per_cpu_utilization[0]: ['CPU0 states: 5% user 2% system 0% nice 85% idle 0% iowait 1% irq 7% softirq', 'CPU1 states: 2% user 2% system 0% nice 93% idle 0% iowait 0% irq 3% softirq', 'CPU2 states: 4% user 4% system 0% nice 84% idle 0% iowait 1% irq 7% softirq', 'CPU3 states: 0% user 0% system 0% nice 93% idle 0% iowait 1% irq 6% softirq', 'CPU4 states: 3% user 2% system 0% nice 77% idle 0% iowait 2% irq 16% softirq', 'CPU5 states: 7% user 3% system 0% nice 86% idle 0% iowait 0% irq 4% softirq', 'CPU6 states: 6% user 4% system 0% nice 84% idle 0% iowait 0% irq 6% softirq', 'CPU7 states: 4% user 3% system 0% nice 84% idle 0% iowait 0% irq 9% softirq', 'CPU8 states: 4% user 2% system 0% nice 88% idle 0% iowait 0% irq 6% softirq', 'CPU9 states: 5% user 4% system 0% nice 82% idle 0% iowait 1% irq 8% softirq', 'CPU10 states: 3% user 3% system 0% nice 87% idle 0% iowait 1% irq 6% softirq', 'CPU11 states: 16% user 10% system 0% nice 62% idle 0% iowait 1% irq 11% softirq', 'CPU12 states: 10% user 6% system 0% nice 76% idle 0% iowait 1% irq 7% softirq', 'CPU13 states: 2% user 3% system 0% nice 90% idle 0% iowait 0% irq 5% softirq', 'CPU14 states: 5% user 3% system 0% nice 85% idle 0% iowait 0% irq 7% softirq', 'CPU15 states: 5% user 2% system 0% nice 89% idle 0% iowait 0% irq 4% softirq', 'CPU16 states: 4% user 3% system 0% nice 83% idle 0% iowait 1% irq 9% softirq', 'CPU17 states: 7% user 2% system 0% nice 86% idle 0% iowait 0% irq 5% softirq', 'CPU18 states: 2% user 3% system 0% nice 87% idle 0% iowait 1% irq 7% softirq', 'CPU19 states: 1% user 2% system 0% nice 92% idle 0% iowait 1% irq 4% softirq', 'CPU20 states: 3% user 7% system 0% nice 83% idle 0% iowait 1% irq 6% softirq', 'CPU21 states: 6% user 6% system 0% nice 82% idle 0% iowait 1% irq 5% softirq', 'CPU22 states: 4% user 4% system 0% nice 84% idle 0% iowait 1% irq 7% softirq', 'CPU23 states: 4% user 2% system 0% nice 86% idle 0% iowait 1% irq 7% softirq', 'CPU24 states: 4% user 2% system 0% nice 94% idle 0% iowait 0% irq 0% softirq', 'CPU25 states: 1% user 3% system 0% nice 96% idle 0% iowait 0% irq 0% softirq', 'CPU26 states: 3% user 2% system 0% nice 95% idle 0% iowait 0% irq 0% softirq', 'CPU27 states: 1% user 1% system 0% nice 98% idle 0% iowait 0% irq 0% softirq', 'CPU28 states: 3% user 1% system 0% nice 96% idle 0% iowait 0% irq 0% softirq', 'CPU29 states: 4% user 1% system 0% nice 95% idle 0% iowait 0% irq 0% softirq', 'CPU30 states: 2% user 2% system 0% nice 96% idle 0% iowait 0% irq 0% softirq', 'CPU31 states: 3% user 1% system 0% nice 96% idle 0% iowait 0% irq 0% softirq', 'CPU32 states: 8% user 1% system 0% nice 91% idle 0% iowait 0% irq 0% softirq', 'CPU33 states: 5% user 1% system 0% nice 94% idle 0% iowait 0% irq 0% softirq', 'CPU34 states: 5% user 2% system 0% nice 91% idle 0% iowait 1% irq 1% softirq', 'CPU35 states: 1% user 2% system 0% nice 95% idle 0% iowait 1% irq 1% softirq', 'CPU36 states: 5% user 1% system 0% nice 94% idle 0% iowait 0% irq 0% softirq', 'CPU37 states: 2% user 1% system 0% nice 97% idle 0% iowait 0% irq 0% softirq', 'CPU38 states: 10% user 2% system 0% nice 88% idle 0% iowait 0% irq 0% softirq', 'CPU39 states: 1% user 2% system 0% nice 97% idle 0% iowait 0% irq 0% softirq', 'CPU40 states: 2% user 2% system 0% nice 96% idle 0% iowait 0% irq 0% softirq', 'CPU41 states: 3% user 2% system 0% nice 95% idle 0% iowait 0% irq 0% softirq', 'CPU42 states: 4% user 1% system 0% nice 95% idle 0% iowait 0% irq 0% softirq', 'CPU43 states: 2% user 1% system 0% nice 97% idle 0% iowait 0% irq 0% softirq', 'CPU44 states: 3% user 2% system 0% nice 95% idle 0% iowait 0% irq 0% softirq', 'CPU45 states: 2% user 2% system 0% nice 96% idle 0% iowait 0% irq 0% softirq', 'CPU46 states: 4% user 2% system 0% nice 94% idle 0% iowait 0% irq 0% softirq', 'CPU47 states: 5% user 2% system 0% nice 93% idle 0% iowait 0% irq 0% softirq']\n",
            "cpu_idle_for_all_batches[0]: ['CPU0 85%', 'CPU1 93%', 'CPU2 84%', 'CPU3 93%', 'CPU4 77%', 'CPU5 86%', 'CPU6 84%', 'CPU7 84%', 'CPU8 88%', 'CPU9 82%', 'CPU10 87%', 'CPU11 62%', 'CPU12 76%', 'CPU13 90%', 'CPU14 85%', 'CPU15 89%', 'CPU16 83%', 'CPU17 86%', 'CPU18 87%', 'CPU19 92%', 'CPU20 83%', 'CPU21 82%', 'CPU22 84%', 'CPU23 86%', 'CPU24 94%', 'CPU25 96%', 'CPU26 95%', 'CPU27 98%', 'CPU28 96%', 'CPU29 95%', 'CPU30 96%', 'CPU31 96%', 'CPU32 91%', 'CPU33 94%', 'CPU34 91%', 'CPU35 95%', 'CPU36 94%', 'CPU37 97%', 'CPU38 88%', 'CPU39 97%', 'CPU40 96%', 'CPU41 95%', 'CPU42 95%', 'CPU43 97%', 'CPU44 95%', 'CPU45 96%', 'CPU46 94%', 'CPU47 93%']\n"
          ]
        }
      ]
    },
    {
      "cell_type": "code",
      "source": [
        "days[0][0][0]"
      ],
      "metadata": {
        "colab": {
          "base_uri": "https://localhost:8080/",
          "height": 35
        },
        "id": "CZpANXAH4spI",
        "outputId": "a6cff3a3-f9ba-456c-b473-4d0105384657"
      },
      "execution_count": 18,
      "outputs": [
        {
          "output_type": "execute_result",
          "data": {
            "text/plain": [
              "'CPU0 89%'"
            ],
            "application/vnd.google.colaboratory.intrinsic+json": {
              "type": "string"
            }
          },
          "metadata": {},
          "execution_count": 18
        }
      ]
    },
    {
      "cell_type": "code",
      "source": [
        "def percentage_to_decimal(percentage: str) -> float:\n",
        "    return float(percentage.rstrip('%')) / 100\n",
        "\n",
        "\n",
        "def split_col_tile_and_value(tile_and_value:str) -> list:\n",
        "    splited = tile_and_value.split(' ')\n",
        "    return [splited[0], percentage_to_decimal(splited[1])]\n",
        "\n",
        "def split_and_convert(days: list) -> list:\n",
        "    converted = []\n",
        "    for day in days:\n",
        "        converted_day = []\n",
        "        for batch in day:\n",
        "            converted_batch = []\n",
        "            for line in batch:\n",
        "                converted_batch.append(split_col_tile_and_value(line))\n",
        "            converted_day.append(converted_batch)\n",
        "        converted.append(converted_day)\n",
        "    return converted\n",
        "\n",
        "converted = split_and_convert(days)\n",
        ""
      ],
      "metadata": {
        "id": "R_gFDyk35WC4"
      },
      "execution_count": 20,
      "outputs": []
    },
    {
      "cell_type": "code",
      "source": [
        "len(converted[1])"
      ],
      "metadata": {
        "colab": {
          "base_uri": "https://localhost:8080/"
        },
        "id": "Bqbmq6GmseGG",
        "outputId": "a5da3b1a-0657-4566-faca-e50d2e3095e8"
      },
      "execution_count": 36,
      "outputs": [
        {
          "output_type": "execute_result",
          "data": {
            "text/plain": [
              "96"
            ]
          },
          "metadata": {},
          "execution_count": 36
        }
      ]
    },
    {
      "cell_type": "code",
      "source": [
        "def concatenate_days(days: list) -> list:\n",
        "    concatenated = []\n",
        "    for day in days:\n",
        "        concatenated.extend(day)\n",
        "    return concatenated\n",
        "concatenated = concatenate_days(converted)\n",
        "\n",
        "len(concatenated)"
      ],
      "metadata": {
        "colab": {
          "base_uri": "https://localhost:8080/"
        },
        "id": "1-Mc5MlEsoIi",
        "outputId": "956ef4d8-cdf3-4d3b-f8cc-2e09d4f28729"
      },
      "execution_count": 37,
      "outputs": [
        {
          "output_type": "execute_result",
          "data": {
            "text/plain": [
              "554"
            ]
          },
          "metadata": {},
          "execution_count": 37
        }
      ]
    },
    {
      "cell_type": "code",
      "source": [
        "concatenated[0]"
      ],
      "metadata": {
        "colab": {
          "base_uri": "https://localhost:8080/"
        },
        "id": "C91gpv9pwMEm",
        "outputId": "938c2730-090d-42c9-b6a5-051c325965e1"
      },
      "execution_count": 38,
      "outputs": [
        {
          "output_type": "execute_result",
          "data": {
            "text/plain": [
              "[['CPU0', 0.89],\n",
              " ['CPU1', 0.62],\n",
              " ['CPU2', 0.92],\n",
              " ['CPU3', 0.97],\n",
              " ['CPU4', 0.85],\n",
              " ['CPU5', 0.92],\n",
              " ['CPU6', 0.92],\n",
              " ['CPU7', 0.94],\n",
              " ['CPU8', 0.94],\n",
              " ['CPU9', 0.86],\n",
              " ['CPU10', 0.91],\n",
              " ['CPU11', 0.9],\n",
              " ['CPU12', 0.94],\n",
              " ['CPU13', 0.96],\n",
              " ['CPU14', 0.91],\n",
              " ['CPU15', 0.94],\n",
              " ['CPU16', 0.93],\n",
              " ['CPU17', 0.92],\n",
              " ['CPU18', 0.96],\n",
              " ['CPU19', 0.83],\n",
              " ['CPU20', 0.89],\n",
              " ['CPU21', 0.94],\n",
              " ['CPU22', 0.94],\n",
              " ['CPU23', 0.84],\n",
              " ['CPU24', 0.97],\n",
              " ['CPU25', 0.97],\n",
              " ['CPU26', 0.96],\n",
              " ['CPU27', 0.97],\n",
              " ['CPU28', 0.93],\n",
              " ['CPU29', 0.95],\n",
              " ['CPU30', 0.95],\n",
              " ['CPU31', 0.97],\n",
              " ['CPU32', 0.96],\n",
              " ['CPU33', 0.98],\n",
              " ['CPU34', 0.99],\n",
              " ['CPU35', 0.99],\n",
              " ['CPU36', 0.94],\n",
              " ['CPU37', 0.97],\n",
              " ['CPU38', 0.92],\n",
              " ['CPU39', 0.96],\n",
              " ['CPU40', 0.89],\n",
              " ['CPU41', 0.98],\n",
              " ['CPU42', 0.95],\n",
              " ['CPU43', 0.97],\n",
              " ['CPU44', 0.95],\n",
              " ['CPU45', 0.99],\n",
              " ['CPU46', 0.97],\n",
              " ['CPU47', 0.97]]"
            ]
          },
          "metadata": {},
          "execution_count": 38
        }
      ]
    },
    {
      "source": [
        "import csv\n",
        "from pathlib import Path\n",
        "\n",
        "def list_to_csv(data: list, filename: str) -> None:\n",
        "    \"\"\"\n",
        "    Converts a list of lists to a CSV file where the first element of each sub-\n",
        "    list becomes the column title and the second element becomes the column's\n",
        "    value.\n",
        "\n",
        "    Args:\n",
        "        data: A list of lists, where each sub-list has two elements.\n",
        "        filename: The name of the CSV file to be created.\n",
        "    \"\"\"\n",
        "\n",
        "    folder_path = Path('/content/drive/My Drive/Fortinet/CSVs/')\n",
        "    folder_path.mkdir(parents=True, exist_ok=True)\n",
        "    filename = folder_path / 'one_row_value_with_column_name.csv'\n",
        "    with filename.open('w', newline='') as csvfile:\n",
        "        writer = csv.writer(csvfile)\n",
        "\n",
        "        # Write the header row (column titles)\n",
        "        header = [item[0] for item in data]\n",
        "        writer.writerow(header)\n",
        "\n",
        "        # Write the data row (values)\n",
        "        values = [item[1] for item in data]\n",
        "        writer.writerow(values)\n",
        "\n",
        "    print(f\"CSV file '{filename}' has been created.\")\n",
        "\n",
        "list_to_csv(concatenated[0], 'one_row_value_with_column_name.csv')"
      ],
      "cell_type": "code",
      "metadata": {
        "colab": {
          "base_uri": "https://localhost:8080/"
        },
        "id": "vvfgt2VkxPCx",
        "outputId": "49de0ee8-19fd-4d89-d8dc-e82cef4230f6"
      },
      "execution_count": 39,
      "outputs": [
        {
          "output_type": "stream",
          "name": "stdout",
          "text": [
            "CSV file '/content/drive/My Drive/Fortinet/CSVs/one_row_value_with_column_name.csv' has been created.\n"
          ]
        }
      ]
    },
    {
      "cell_type": "code",
      "source": [
        "import csv\n",
        "from pathlib import Path\n",
        "\n",
        "def list_of_lists_to_csv(frames: list, filename: str) -> None:\n",
        "    \"\"\"\n",
        "    Converts a list of lists to a CSV file where each sub-list becomes a row in\n",
        "    the CSV file.\n",
        "    If the header is provided in the first sub-list, it will be written as the\n",
        "    first row.\n",
        "    If the header are provided in the following sub-lists, it will be ignored.\n",
        "\n",
        "    Args:\n",
        "        data: A list of lists, where each sub-list represents a row in the CSV\n",
        "        file.\n",
        "        filename: The name of the CSV file to be created.\n",
        "    \"\"\"\n",
        "\n",
        "    folder_path = Path('/content/drive/My Drive/Fortinet/CSVs/')\n",
        "\n",
        "    folder_path.mkdir(parents=True, exist_ok=True)\n",
        "\n",
        "    filename = folder_path / 'all_cpus_utilization.csv'\n",
        "\n",
        "    with filename.open('a', newline='') as csvfile:\n",
        "\n",
        "        reader = csv.reader(csvfile)\n",
        "\n",
        "        header_exists = False\n",
        "\n",
        "        try:\n",
        "            header = next(reader)\n",
        "            if header[0].startswith('CPU'):\n",
        "                header_exists = True\n",
        "        except StopIteration:\n",
        "            header_exists = False\n",
        "\n",
        "\n",
        "        writer = csv.writer(csvfile)\n",
        "\n",
        "\n",
        "        # Write the data rows\n",
        "        for frame in frames:\n",
        "\n",
        "            if not header_exists:\n",
        "                header = [item[0] for item in frame]\n",
        "                writer.writerow(header)\n",
        "                header_exists = True\n",
        "\n",
        "            values = [item[1] for item in frame]\n",
        "            writer.writerow(values)\n",
        "\n",
        "    print(f\"CSV file '{filename}' has been created.\")\n",
        "\n",
        "list_of_lists_to_csv(concatenated, 'all_cpus_utilization.csv')\n"
      ],
      "metadata": {
        "id": "mz2ZOM_t0XUB"
      },
      "execution_count": null,
      "outputs": []
    },
    {
      "cell_type": "code",
      "source": [],
      "metadata": {
        "id": "e6cKZtcm0bkH"
      },
      "execution_count": null,
      "outputs": []
    }
  ]
}