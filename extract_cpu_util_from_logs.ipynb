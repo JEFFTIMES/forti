{
  "nbformat": 4,
  "nbformat_minor": 0,
  "metadata": {
    "colab": {
      "provenance": [],
      "authorship_tag": "ABX9TyPtlZm6sM32inxbFsWPCOFD",
      "include_colab_link": true
    },
    "kernelspec": {
      "name": "python3",
      "display_name": "Python 3"
    },
    "language_info": {
      "name": "python"
    }
  },
  "cells": [
    {
      "cell_type": "markdown",
      "metadata": {
        "id": "view-in-github",
        "colab_type": "text"
      },
      "source": [
        "<a href=\"https://colab.research.google.com/github/JEFFTIMES/forti/blob/master/extract_cpu_util_from_logs.ipynb\" target=\"_parent\"><img src=\"https://colab.research.google.com/assets/colab-badge.svg\" alt=\"Open In Colab\"/></a>"
      ]
    },
    {
      "cell_type": "code",
      "execution_count": null,
      "metadata": {
        "colab": {
          "base_uri": "https://localhost:8080/"
        },
        "id": "Gg69uvhyndiR",
        "outputId": "ef9b547f-2aaa-46e9-866d-9578bb0535d9"
      },
      "outputs": [
        {
          "output_type": "stream",
          "name": "stdout",
          "text": [
            "Drive already mounted at /content/drive; to attempt to forcibly remount, call drive.mount(\"/content/drive\", force_remount=True).\n"
          ]
        }
      ],
      "source": [
        "from google.colab import drive\n",
        "drive.mount('/content/drive')"
      ]
    },
    {
      "source": [
        "with open('/content/drive/My Drive/Fortinet/fortinet_log_commands_3300E_PROD.cmd_20250117-235905_merged_logs.txt', 'r') as file:\n",
        "  content = file.read()\n",
        "  print(content)  # or do something else with the file content"
      ],
      "cell_type": "code",
      "metadata": {
        "id": "xItyGByKpDl0"
      },
      "execution_count": null,
      "outputs": []
    },
    {
      "source": [
        "from google.colab import drive\n",
        "drive.mount('/content/drive')\n",
        "\n",
        "# Verify if the file exists in the expected location\n",
        "from pathlib import Path\n",
        "file_path = Path('/content/drive/My Drive/Fortinet/fortinet_log_commands_3300E_PROD.cmd_20250117-235905_merged_logs.txt')\n",
        "\n",
        "if file_path.exists():\n",
        "  with open(file_path, 'r') as file:\n",
        "    content = file.read()\n",
        "    print(content)  # or do something else with the file content\n",
        "else:\n",
        "  print(f\"Error: File not found at {file_path}\")\n",
        "  print(\"Please double-check the file path and ensure the file exists in your Google Drive.\")\n",
        "  # Consider listing files in the directory for debugging\n",
        "  # print(f\"Files in the directory: {os.listdir(file_path.parent)}\") # Use os.listdir for directory listing"
      ],
      "cell_type": "code",
      "metadata": {
        "id": "T-FbcCcfqHnd"
      },
      "execution_count": null,
      "outputs": []
    },
    {
      "cell_type": "code",
      "source": [
        "len(content)\n",
        "lines = content.split('\\n')\n",
        "len(lines)\n",
        "\n",
        "cpu_utilization = []\n",
        "for line in lines:\n",
        "  if line.startswith('CPU'):\n",
        "    cpu_utilization.append(line)\n",
        "len(cpu_utilization)\n",
        "\n"
      ],
      "metadata": {
        "colab": {
          "base_uri": "https://localhost:8080/"
        },
        "id": "7cV--XECq9QA",
        "outputId": "865cc722-01ac-4b82-cd16-3f756b490070"
      },
      "execution_count": null,
      "outputs": [
        {
          "output_type": "execute_result",
          "data": {
            "text/plain": [
              "3626"
            ]
          },
          "metadata": {},
          "execution_count": 53
        }
      ]
    },
    {
      "cell_type": "code",
      "source": [
        "cpu_utilization[0:49]"
      ],
      "metadata": {
        "colab": {
          "base_uri": "https://localhost:8080/"
        },
        "id": "7uLsWxiXr_ci",
        "outputId": "8f86fb95-8c25-4d66-e64d-942b30a90ac8"
      },
      "execution_count": null,
      "outputs": [
        {
          "output_type": "execute_result",
          "data": {
            "text/plain": [
              "['CPU states: 4% user 2% system 0% nice 91% idle 0% iowait 0% irq 3% softirq',\n",
              " 'CPU0 states: 5% user 2% system 0% nice 85% idle 0% iowait 1% irq 7% softirq',\n",
              " 'CPU1 states: 2% user 2% system 0% nice 93% idle 0% iowait 0% irq 3% softirq',\n",
              " 'CPU2 states: 4% user 4% system 0% nice 84% idle 0% iowait 1% irq 7% softirq',\n",
              " 'CPU3 states: 0% user 0% system 0% nice 93% idle 0% iowait 1% irq 6% softirq',\n",
              " 'CPU4 states: 3% user 2% system 0% nice 77% idle 0% iowait 2% irq 16% softirq',\n",
              " 'CPU5 states: 7% user 3% system 0% nice 86% idle 0% iowait 0% irq 4% softirq',\n",
              " 'CPU6 states: 6% user 4% system 0% nice 84% idle 0% iowait 0% irq 6% softirq',\n",
              " 'CPU7 states: 4% user 3% system 0% nice 84% idle 0% iowait 0% irq 9% softirq',\n",
              " 'CPU8 states: 4% user 2% system 0% nice 88% idle 0% iowait 0% irq 6% softirq',\n",
              " 'CPU9 states: 5% user 4% system 0% nice 82% idle 0% iowait 1% irq 8% softirq',\n",
              " 'CPU10 states: 3% user 3% system 0% nice 87% idle 0% iowait 1% irq 6% softirq',\n",
              " 'CPU11 states: 16% user 10% system 0% nice 62% idle 0% iowait 1% irq 11% softirq',\n",
              " 'CPU12 states: 10% user 6% system 0% nice 76% idle 0% iowait 1% irq 7% softirq',\n",
              " 'CPU13 states: 2% user 3% system 0% nice 90% idle 0% iowait 0% irq 5% softirq',\n",
              " 'CPU14 states: 5% user 3% system 0% nice 85% idle 0% iowait 0% irq 7% softirq',\n",
              " 'CPU15 states: 5% user 2% system 0% nice 89% idle 0% iowait 0% irq 4% softirq',\n",
              " 'CPU16 states: 4% user 3% system 0% nice 83% idle 0% iowait 1% irq 9% softirq',\n",
              " 'CPU17 states: 7% user 2% system 0% nice 86% idle 0% iowait 0% irq 5% softirq',\n",
              " 'CPU18 states: 2% user 3% system 0% nice 87% idle 0% iowait 1% irq 7% softirq',\n",
              " 'CPU19 states: 1% user 2% system 0% nice 92% idle 0% iowait 1% irq 4% softirq',\n",
              " 'CPU20 states: 3% user 7% system 0% nice 83% idle 0% iowait 1% irq 6% softirq',\n",
              " 'CPU21 states: 6% user 6% system 0% nice 82% idle 0% iowait 1% irq 5% softirq',\n",
              " 'CPU22 states: 4% user 4% system 0% nice 84% idle 0% iowait 1% irq 7% softirq',\n",
              " 'CPU23 states: 4% user 2% system 0% nice 86% idle 0% iowait 1% irq 7% softirq',\n",
              " 'CPU24 states: 4% user 2% system 0% nice 94% idle 0% iowait 0% irq 0% softirq',\n",
              " 'CPU25 states: 1% user 3% system 0% nice 96% idle 0% iowait 0% irq 0% softirq',\n",
              " 'CPU26 states: 3% user 2% system 0% nice 95% idle 0% iowait 0% irq 0% softirq',\n",
              " 'CPU27 states: 1% user 1% system 0% nice 98% idle 0% iowait 0% irq 0% softirq',\n",
              " 'CPU28 states: 3% user 1% system 0% nice 96% idle 0% iowait 0% irq 0% softirq',\n",
              " 'CPU29 states: 4% user 1% system 0% nice 95% idle 0% iowait 0% irq 0% softirq',\n",
              " 'CPU30 states: 2% user 2% system 0% nice 96% idle 0% iowait 0% irq 0% softirq',\n",
              " 'CPU31 states: 3% user 1% system 0% nice 96% idle 0% iowait 0% irq 0% softirq',\n",
              " 'CPU32 states: 8% user 1% system 0% nice 91% idle 0% iowait 0% irq 0% softirq',\n",
              " 'CPU33 states: 5% user 1% system 0% nice 94% idle 0% iowait 0% irq 0% softirq',\n",
              " 'CPU34 states: 5% user 2% system 0% nice 91% idle 0% iowait 1% irq 1% softirq',\n",
              " 'CPU35 states: 1% user 2% system 0% nice 95% idle 0% iowait 1% irq 1% softirq',\n",
              " 'CPU36 states: 5% user 1% system 0% nice 94% idle 0% iowait 0% irq 0% softirq',\n",
              " 'CPU37 states: 2% user 1% system 0% nice 97% idle 0% iowait 0% irq 0% softirq',\n",
              " 'CPU38 states: 10% user 2% system 0% nice 88% idle 0% iowait 0% irq 0% softirq',\n",
              " 'CPU39 states: 1% user 2% system 0% nice 97% idle 0% iowait 0% irq 0% softirq',\n",
              " 'CPU40 states: 2% user 2% system 0% nice 96% idle 0% iowait 0% irq 0% softirq',\n",
              " 'CPU41 states: 3% user 2% system 0% nice 95% idle 0% iowait 0% irq 0% softirq',\n",
              " 'CPU42 states: 4% user 1% system 0% nice 95% idle 0% iowait 0% irq 0% softirq',\n",
              " 'CPU43 states: 2% user 1% system 0% nice 97% idle 0% iowait 0% irq 0% softirq',\n",
              " 'CPU44 states: 3% user 2% system 0% nice 95% idle 0% iowait 0% irq 0% softirq',\n",
              " 'CPU45 states: 2% user 2% system 0% nice 96% idle 0% iowait 0% irq 0% softirq',\n",
              " 'CPU46 states: 4% user 2% system 0% nice 94% idle 0% iowait 0% irq 0% softirq',\n",
              " 'CPU47 states: 5% user 2% system 0% nice 93% idle 0% iowait 0% irq 0% softirq']"
            ]
          },
          "metadata": {},
          "execution_count": 11
        }
      ]
    },
    {
      "cell_type": "code",
      "source": [
        "len(cpu_utilization)/49"
      ],
      "metadata": {
        "colab": {
          "base_uri": "https://localhost:8080/"
        },
        "id": "wEq-8VkDsg0u",
        "outputId": "228e3bb8-7f4f-4255-f9d0-9f65cc1ff03a"
      },
      "execution_count": null,
      "outputs": [
        {
          "output_type": "execute_result",
          "data": {
            "text/plain": [
              "74.0"
            ]
          },
          "metadata": {},
          "execution_count": 55
        }
      ]
    },
    {
      "cell_type": "code",
      "source": [
        "batches = [cpu_utilization[i:i+49] for i in range(0, len(cpu_utilization), 49)]\n"
      ],
      "metadata": {
        "id": "ujriG7uBtBRR"
      },
      "execution_count": null,
      "outputs": []
    },
    {
      "cell_type": "code",
      "source": [
        "len(batches[0])"
      ],
      "metadata": {
        "colab": {
          "base_uri": "https://localhost:8080/"
        },
        "id": "HZLlWDCYtw13",
        "outputId": "970abd66-2be7-4309-a372-d1eb9616f020"
      },
      "execution_count": null,
      "outputs": [
        {
          "output_type": "execute_result",
          "data": {
            "text/plain": [
              "49"
            ]
          },
          "metadata": {},
          "execution_count": 27
        }
      ]
    },
    {
      "cell_type": "code",
      "source": [
        "averages = [batches[i][0]  for i in range(len(batches))]"
      ],
      "metadata": {
        "id": "7JJqhCyPthry"
      },
      "execution_count": null,
      "outputs": []
    },
    {
      "cell_type": "code",
      "source": [
        "averages"
      ],
      "metadata": {
        "id": "t2FjXS58uLkB"
      },
      "execution_count": null,
      "outputs": []
    },
    {
      "cell_type": "code",
      "source": [
        "per_cpu_utilization = [batches[i][1:] for i in range(len(batches))]"
      ],
      "metadata": {
        "id": "zgNg3OkGup2S"
      },
      "execution_count": null,
      "outputs": []
    },
    {
      "cell_type": "code",
      "source": [
        "per_cpu_utilization[0]"
      ],
      "metadata": {
        "colab": {
          "base_uri": "https://localhost:8080/"
        },
        "id": "eU2o2HDnu5BK",
        "outputId": "93be7a71-867a-4537-c935-857d243ed087"
      },
      "execution_count": null,
      "outputs": [
        {
          "output_type": "execute_result",
          "data": {
            "text/plain": [
              "['CPU0 states: 5% user 2% system 0% nice 89% idle 0% iowait 0% irq 4% softirq',\n",
              " 'CPU1 states: 24% user 11% system 0% nice 62% idle 0% iowait 0% irq 3% softirq',\n",
              " 'CPU2 states: 4% user 2% system 0% nice 92% idle 0% iowait 0% irq 2% softirq',\n",
              " 'CPU3 states: 0% user 0% system 0% nice 97% idle 0% iowait 0% irq 3% softirq',\n",
              " 'CPU4 states: 3% user 3% system 0% nice 85% idle 0% iowait 1% irq 8% softirq',\n",
              " 'CPU5 states: 4% user 1% system 0% nice 92% idle 0% iowait 0% irq 3% softirq',\n",
              " 'CPU6 states: 5% user 1% system 0% nice 92% idle 0% iowait 0% irq 2% softirq',\n",
              " 'CPU7 states: 2% user 2% system 0% nice 94% idle 0% iowait 0% irq 2% softirq',\n",
              " 'CPU8 states: 3% user 1% system 0% nice 94% idle 0% iowait 0% irq 2% softirq',\n",
              " 'CPU9 states: 9% user 2% system 0% nice 86% idle 0% iowait 0% irq 3% softirq',\n",
              " 'CPU10 states: 2% user 2% system 0% nice 91% idle 0% iowait 0% irq 5% softirq',\n",
              " 'CPU11 states: 2% user 2% system 0% nice 90% idle 0% iowait 0% irq 6% softirq',\n",
              " 'CPU12 states: 4% user 0% system 0% nice 94% idle 0% iowait 0% irq 2% softirq',\n",
              " 'CPU13 states: 2% user 0% system 0% nice 96% idle 0% iowait 0% irq 2% softirq',\n",
              " 'CPU14 states: 4% user 1% system 0% nice 91% idle 0% iowait 0% irq 4% softirq',\n",
              " 'CPU15 states: 3% user 1% system 0% nice 94% idle 0% iowait 0% irq 2% softirq',\n",
              " 'CPU16 states: 3% user 2% system 0% nice 93% idle 0% iowait 0% irq 2% softirq',\n",
              " 'CPU17 states: 2% user 1% system 0% nice 92% idle 0% iowait 0% irq 5% softirq',\n",
              " 'CPU18 states: 1% user 1% system 0% nice 96% idle 0% iowait 0% irq 2% softirq',\n",
              " 'CPU19 states: 7% user 2% system 0% nice 83% idle 0% iowait 1% irq 7% softirq',\n",
              " 'CPU20 states: 6% user 3% system 0% nice 89% idle 0% iowait 0% irq 2% softirq',\n",
              " 'CPU21 states: 3% user 1% system 0% nice 94% idle 0% iowait 0% irq 2% softirq',\n",
              " 'CPU22 states: 1% user 1% system 0% nice 94% idle 0% iowait 0% irq 4% softirq',\n",
              " 'CPU23 states: 4% user 4% system 0% nice 84% idle 0% iowait 1% irq 7% softirq',\n",
              " 'CPU24 states: 3% user 0% system 0% nice 97% idle 0% iowait 0% irq 0% softirq',\n",
              " 'CPU25 states: 3% user 0% system 0% nice 97% idle 0% iowait 0% irq 0% softirq',\n",
              " 'CPU26 states: 3% user 1% system 0% nice 96% idle 0% iowait 0% irq 0% softirq',\n",
              " 'CPU27 states: 2% user 1% system 0% nice 97% idle 0% iowait 0% irq 0% softirq',\n",
              " 'CPU28 states: 5% user 2% system 0% nice 93% idle 0% iowait 0% irq 0% softirq',\n",
              " 'CPU29 states: 3% user 2% system 0% nice 95% idle 0% iowait 0% irq 0% softirq',\n",
              " 'CPU30 states: 3% user 2% system 0% nice 95% idle 0% iowait 0% irq 0% softirq',\n",
              " 'CPU31 states: 2% user 1% system 0% nice 97% idle 0% iowait 0% irq 0% softirq',\n",
              " 'CPU32 states: 2% user 2% system 0% nice 96% idle 0% iowait 0% irq 0% softirq',\n",
              " 'CPU33 states: 1% user 1% system 0% nice 98% idle 0% iowait 0% irq 0% softirq',\n",
              " 'CPU34 states: 0% user 1% system 0% nice 99% idle 0% iowait 0% irq 0% softirq',\n",
              " 'CPU35 states: 0% user 1% system 0% nice 99% idle 0% iowait 0% irq 0% softirq',\n",
              " 'CPU36 states: 4% user 2% system 0% nice 94% idle 0% iowait 0% irq 0% softirq',\n",
              " 'CPU37 states: 2% user 1% system 0% nice 97% idle 0% iowait 0% irq 0% softirq',\n",
              " 'CPU38 states: 7% user 1% system 0% nice 92% idle 0% iowait 0% irq 0% softirq',\n",
              " 'CPU39 states: 3% user 1% system 0% nice 96% idle 0% iowait 0% irq 0% softirq',\n",
              " 'CPU40 states: 10% user 1% system 0% nice 89% idle 0% iowait 0% irq 0% softirq',\n",
              " 'CPU41 states: 1% user 1% system 0% nice 98% idle 0% iowait 0% irq 0% softirq',\n",
              " 'CPU42 states: 2% user 3% system 0% nice 95% idle 0% iowait 0% irq 0% softirq',\n",
              " 'CPU43 states: 2% user 1% system 0% nice 97% idle 0% iowait 0% irq 0% softirq',\n",
              " 'CPU44 states: 3% user 2% system 0% nice 95% idle 0% iowait 0% irq 0% softirq',\n",
              " 'CPU45 states: 0% user 1% system 0% nice 99% idle 0% iowait 0% irq 0% softirq',\n",
              " 'CPU46 states: 2% user 1% system 0% nice 97% idle 0% iowait 0% irq 0% softirq',\n",
              " 'CPU47 states: 3% user 0% system 0% nice 97% idle 0% iowait 0% irq 0% softirq']"
            ]
          },
          "metadata": {},
          "execution_count": 7
        }
      ]
    },
    {
      "cell_type": "code",
      "source": [
        "def extract_idle(line_of_states:str) -> str:\n",
        "  items = line_of_states.split(' ')\n",
        "  cpu_id = items[0]\n",
        "  idle = items[8]\n",
        "  return ' '.join((cpu_id, idle))\n",
        "\n",
        "extract_idle(per_cpu_utilization[0][0])"
      ],
      "metadata": {
        "colab": {
          "base_uri": "https://localhost:8080/",
          "height": 35
        },
        "id": "sezXXf6yv5Qi",
        "outputId": "f6841ec8-4426-4763-b6bf-e5eeab206046"
      },
      "execution_count": null,
      "outputs": [
        {
          "output_type": "execute_result",
          "data": {
            "text/plain": [
              "'CPU0 89%'"
            ],
            "application/vnd.google.colaboratory.intrinsic+json": {
              "type": "string"
            }
          },
          "metadata": {},
          "execution_count": 8
        }
      ]
    },
    {
      "cell_type": "code",
      "source": [
        "def extract_a_batch_of_cpu_idle(batch:list) -> list:\n",
        "  return [extract_idle(line) for line in batch]\n",
        "\n",
        "extract_a_batch_of_cpu_idle(per_cpu_utilization[0])"
      ],
      "metadata": {
        "colab": {
          "base_uri": "https://localhost:8080/"
        },
        "id": "Yi8t7nnixyf5",
        "outputId": "af03b40f-035a-4eac-9ede-431d1e05c56f"
      },
      "execution_count": null,
      "outputs": [
        {
          "output_type": "execute_result",
          "data": {
            "text/plain": [
              "['CPU0 85%',\n",
              " 'CPU1 93%',\n",
              " 'CPU2 84%',\n",
              " 'CPU3 93%',\n",
              " 'CPU4 77%',\n",
              " 'CPU5 86%',\n",
              " 'CPU6 84%',\n",
              " 'CPU7 84%',\n",
              " 'CPU8 88%',\n",
              " 'CPU9 82%',\n",
              " 'CPU10 87%',\n",
              " 'CPU11 62%',\n",
              " 'CPU12 76%',\n",
              " 'CPU13 90%',\n",
              " 'CPU14 85%',\n",
              " 'CPU15 89%',\n",
              " 'CPU16 83%',\n",
              " 'CPU17 86%',\n",
              " 'CPU18 87%',\n",
              " 'CPU19 92%',\n",
              " 'CPU20 83%',\n",
              " 'CPU21 82%',\n",
              " 'CPU22 84%',\n",
              " 'CPU23 86%',\n",
              " 'CPU24 94%',\n",
              " 'CPU25 96%',\n",
              " 'CPU26 95%',\n",
              " 'CPU27 98%',\n",
              " 'CPU28 96%',\n",
              " 'CPU29 95%',\n",
              " 'CPU30 96%',\n",
              " 'CPU31 96%',\n",
              " 'CPU32 91%',\n",
              " 'CPU33 94%',\n",
              " 'CPU34 91%',\n",
              " 'CPU35 95%',\n",
              " 'CPU36 94%',\n",
              " 'CPU37 97%',\n",
              " 'CPU38 88%',\n",
              " 'CPU39 97%',\n",
              " 'CPU40 96%',\n",
              " 'CPU41 95%',\n",
              " 'CPU42 95%',\n",
              " 'CPU43 97%',\n",
              " 'CPU44 95%',\n",
              " 'CPU45 96%',\n",
              " 'CPU46 94%',\n",
              " 'CPU47 93%']"
            ]
          },
          "metadata": {},
          "execution_count": 94
        }
      ]
    },
    {
      "cell_type": "code",
      "source": [
        "def extract_cpu_idle_for_all_batches(batches:list) -> list:\n",
        "  return [extract_a_batch_of_cpu_idle(batch) for batch in batches]\n",
        "\n",
        "cpu_idle_for_all_batches = extract_cpu_idle_for_all_batches(per_cpu_utilization)\n"
      ],
      "metadata": {
        "id": "AEQ3b7gyyDcf"
      },
      "execution_count": null,
      "outputs": []
    },
    {
      "cell_type": "code",
      "source": [
        "from pathlib import Path\n",
        "\n",
        "logs_path = Path('/content/drive/My Drive/Fortinet/')\n",
        "\n",
        "for filepath in logs_path.rglob(\"*_merged_logs.txt\"):\n",
        "    print(filepath)\n",
        "    # Perform your loading/processing of the file here\n"
      ],
      "metadata": {
        "colab": {
          "base_uri": "https://localhost:8080/"
        },
        "id": "Xvank9-v0pfZ",
        "outputId": "950bc099-b35e-40ce-f8b2-ce13f71eb3a3"
      },
      "execution_count": null,
      "outputs": [
        {
          "output_type": "stream",
          "name": "stdout",
          "text": [
            "/content/drive/My Drive/Fortinet/fortinet_log_commands_3300E_PROD.cmd_20250117-235905_merged_logs.txt\n",
            "/content/drive/My Drive/Fortinet/fortinet_log_commands_3300E_PROD.cmd_20250118-235903_merged_logs.txt\n",
            "/content/drive/My Drive/Fortinet/fortinet_log_commands_3300E_PROD.cmd_20250119-235903_merged_logs.txt\n",
            "/content/drive/My Drive/Fortinet/fortinet_log_commands_3300E_PROD.cmd_20250120-235903_merged_logs.txt\n",
            "/content/drive/My Drive/Fortinet/fortinet_log_commands_3300E_PROD.cmd_20250121-235904_merged_logs.txt\n",
            "/content/drive/My Drive/Fortinet/fortinet_log_commands_3300E_PROD.cmd_20250122-235904_merged_logs.txt\n"
          ]
        }
      ]
    },
    {
      "source": [
        "from google.colab import drive\n",
        "drive.mount('/content/drive')\n",
        "\n",
        "# Verify if the file exists in the expected location\n",
        "from pathlib import Path\n",
        "logs_path = Path('/content/drive/My Drive/Fortinet/')\n",
        "\n",
        "days = []\n",
        "\n",
        "for file_path in logs_path.rglob(\"*_merged_logs.txt\"):\n",
        "    if file_path.exists():\n",
        "        with open(file_path, 'r') as file:\n",
        "\n",
        "            content = file.read()\n",
        "            print(f'log chars: {len(content)}')\n",
        "\n",
        "            lines = content.split('\\n')\n",
        "            print(f'log lines: {len(lines)}')\n",
        "\n",
        "            cpu_utilization = [ line for line in lines if line.startswith('CPU')]\n",
        "            print(f'cpu utilization lines: {len(cpu_utilization)}')\n",
        "\n",
        "            batches = [cpu_utilization[i:i+49] for i in range(0, len(cpu_utilization), 49)]\n",
        "            print(f'batches: {len(batches)}')\n",
        "\n",
        "            averages = [batches[i][0]  for i in range(len(batches))]\n",
        "            print(f'averages: {averages}')\n",
        "\n",
        "            per_cpu_utilization = [batches[i][1:] for i in range(len(batches))]\n",
        "            print(f'per_cpu_utilization[0]: {per_cpu_utilization[0]}')\n",
        "\n",
        "            cpu_idle_for_all_batches = extract_cpu_idle_for_all_batches(per_cpu_utilization)\n",
        "            print(f'cpu_idle_for_all_batches[0]: {cpu_idle_for_all_batches[0]}')\n",
        "\n",
        "            days.append(cpu_idle_for_all_batches)\n",
        "\n",
        "    else:\n",
        "        print(f\"Error: File not found at {file_path}\")\n",
        "        print(\"Please double-check the file path and ensure the file exists in your Google Drive.\")\n"
      ],
      "cell_type": "code",
      "metadata": {
        "colab": {
          "base_uri": "https://localhost:8080/"
        },
        "id": "E6XHXfKi1IHj",
        "outputId": "8aee6975-ad6d-4ef2-a214-8c0d26cea76d"
      },
      "execution_count": null,
      "outputs": [
        {
          "output_type": "stream",
          "name": "stdout",
          "text": [
            "Drive already mounted at /content/drive; to attempt to forcibly remount, call drive.mount(\"/content/drive\", force_remount=True).\n",
            "log chars: 3701939\n",
            "log lines: 72299\n",
            "cpu utilization lines: 3626\n",
            "batches: 74\n",
            "averages: ['CPU states: 4% user 2% system 0% nice 92% idle 0% iowait 0% irq 2% softirq', 'CPU states: 4% user 2% system 0% nice 93% idle 0% iowait 0% irq 1% softirq', 'CPU states: 3% user 1% system 0% nice 95% idle 0% iowait 0% irq 1% softirq', 'CPU states: 3% user 2% system 0% nice 94% idle 0% iowait 0% irq 1% softirq', 'CPU states: 3% user 2% system 0% nice 94% idle 0% iowait 0% irq 1% softirq', 'CPU states: 2% user 1% system 0% nice 96% idle 0% iowait 0% irq 1% softirq', 'CPU states: 2% user 2% system 0% nice 95% idle 0% iowait 0% irq 1% softirq', 'CPU states: 3% user 1% system 0% nice 94% idle 0% iowait 0% irq 2% softirq', 'CPU states: 3% user 1% system 0% nice 94% idle 0% iowait 0% irq 2% softirq', 'CPU states: 11% user 2% system 0% nice 86% idle 0% iowait 0% irq 1% softirq', 'CPU states: 3% user 2% system 0% nice 93% idle 0% iowait 0% irq 2% softirq', 'CPU states: 3% user 2% system 0% nice 93% idle 0% iowait 0% irq 2% softirq', 'CPU states: 3% user 2% system 0% nice 93% idle 0% iowait 0% irq 2% softirq', 'CPU states: 2% user 2% system 0% nice 95% idle 0% iowait 0% irq 1% softirq', 'CPU states: 2% user 2% system 0% nice 95% idle 0% iowait 0% irq 1% softirq', 'CPU states: 2% user 2% system 0% nice 95% idle 0% iowait 0% irq 1% softirq', 'CPU states: 3% user 2% system 0% nice 93% idle 0% iowait 0% irq 2% softirq', 'CPU states: 2% user 1% system 0% nice 95% idle 0% iowait 0% irq 2% softirq', 'CPU states: 3% user 2% system 0% nice 94% idle 0% iowait 0% irq 1% softirq', 'CPU states: 3% user 2% system 0% nice 94% idle 0% iowait 0% irq 1% softirq', 'CPU states: 3% user 2% system 0% nice 94% idle 0% iowait 0% irq 1% softirq', 'CPU states: 3% user 1% system 0% nice 95% idle 0% iowait 0% irq 1% softirq', 'CPU states: 3% user 2% system 0% nice 94% idle 0% iowait 0% irq 1% softirq', 'CPU states: 4% user 2% system 0% nice 93% idle 0% iowait 0% irq 1% softirq', 'CPU states: 4% user 2% system 0% nice 92% idle 0% iowait 0% irq 2% softirq', 'CPU states: 3% user 2% system 0% nice 94% idle 0% iowait 0% irq 1% softirq', 'CPU states: 5% user 2% system 0% nice 91% idle 0% iowait 0% irq 2% softirq', 'CPU states: 5% user 3% system 0% nice 90% idle 0% iowait 0% irq 2% softirq', 'CPU states: 4% user 3% system 0% nice 91% idle 0% iowait 0% irq 2% softirq', 'CPU states: 5% user 3% system 0% nice 90% idle 0% iowait 0% irq 2% softirq', 'CPU states: 6% user 4% system 0% nice 87% idle 0% iowait 0% irq 3% softirq', 'CPU states: 7% user 3% system 0% nice 87% idle 0% iowait 0% irq 3% softirq', 'CPU states: 8% user 5% system 0% nice 83% idle 0% iowait 0% irq 4% softirq', 'CPU states: 8% user 6% system 0% nice 82% idle 0% iowait 0% irq 4% softirq', 'CPU states: 9% user 6% system 0% nice 79% idle 0% iowait 1% irq 5% softirq', 'CPU states: 9% user 7% system 0% nice 78% idle 0% iowait 1% irq 5% softirq', 'CPU states: 10% user 6% system 0% nice 78% idle 0% iowait 1% irq 5% softirq', 'CPU states: 9% user 7% system 0% nice 78% idle 0% iowait 1% irq 5% softirq', 'CPU states: 10% user 6% system 0% nice 78% idle 0% iowait 1% irq 5% softirq', 'CPU states: 9% user 6% system 0% nice 79% idle 0% iowait 1% irq 5% softirq', 'CPU states: 9% user 6% system 0% nice 79% idle 0% iowait 1% irq 5% softirq', 'CPU states: 10% user 6% system 0% nice 78% idle 0% iowait 1% irq 5% softirq', 'CPU states: 10% user 6% system 0% nice 78% idle 0% iowait 1% irq 5% softirq', 'CPU states: 9% user 6% system 0% nice 79% idle 0% iowait 1% irq 5% softirq', 'CPU states: 10% user 7% system 0% nice 77% idle 0% iowait 1% irq 5% softirq', 'CPU states: 9% user 6% system 0% nice 80% idle 0% iowait 0% irq 5% softirq', 'CPU states: 8% user 6% system 0% nice 81% idle 0% iowait 0% irq 5% softirq', 'CPU states: 8% user 5% system 0% nice 83% idle 0% iowait 0% irq 4% softirq', 'CPU states: 7% user 4% system 0% nice 86% idle 0% iowait 0% irq 3% softirq', 'CPU states: 8% user 4% system 0% nice 84% idle 0% iowait 0% irq 4% softirq', 'CPU states: 8% user 5% system 0% nice 83% idle 0% iowait 0% irq 4% softirq', 'CPU states: 8% user 4% system 0% nice 84% idle 0% iowait 0% irq 4% softirq', 'CPU states: 8% user 6% system 0% nice 81% idle 0% iowait 0% irq 5% softirq', 'CPU states: 9% user 5% system 0% nice 81% idle 0% iowait 1% irq 4% softirq', 'CPU states: 9% user 6% system 0% nice 80% idle 0% iowait 0% irq 5% softirq', 'CPU states: 8% user 7% system 0% nice 80% idle 0% iowait 0% irq 5% softirq', 'CPU states: 9% user 6% system 0% nice 80% idle 0% iowait 1% irq 4% softirq', 'CPU states: 8% user 5% system 0% nice 83% idle 0% iowait 0% irq 4% softirq', 'CPU states: 8% user 6% system 0% nice 82% idle 0% iowait 0% irq 4% softirq', 'CPU states: 8% user 5% system 0% nice 83% idle 0% iowait 0% irq 4% softirq', 'CPU states: 7% user 4% system 0% nice 86% idle 0% iowait 0% irq 3% softirq', 'CPU states: 7% user 5% system 0% nice 84% idle 0% iowait 0% irq 4% softirq', 'CPU states: 7% user 4% system 0% nice 86% idle 0% iowait 0% irq 3% softirq', 'CPU states: 6% user 4% system 0% nice 87% idle 0% iowait 0% irq 3% softirq', 'CPU states: 6% user 3% system 0% nice 88% idle 0% iowait 0% irq 3% softirq', 'CPU states: 6% user 5% system 0% nice 86% idle 0% iowait 0% irq 3% softirq', 'CPU states: 5% user 3% system 0% nice 89% idle 0% iowait 0% irq 3% softirq', 'CPU states: 4% user 3% system 0% nice 90% idle 0% iowait 0% irq 3% softirq', 'CPU states: 4% user 2% system 0% nice 92% idle 0% iowait 0% irq 2% softirq', 'CPU states: 5% user 3% system 0% nice 89% idle 0% iowait 0% irq 3% softirq', 'CPU states: 4% user 3% system 0% nice 90% idle 0% iowait 0% irq 3% softirq', 'CPU states: 4% user 3% system 0% nice 90% idle 0% iowait 0% irq 3% softirq', 'CPU states: 4% user 3% system 0% nice 91% idle 0% iowait 0% irq 2% softirq', 'CPU states: 4% user 3% system 0% nice 91% idle 0% iowait 0% irq 2% softirq']\n",
            "per_cpu_utilization[0]: ['CPU0 states: 5% user 2% system 0% nice 89% idle 0% iowait 0% irq 4% softirq', 'CPU1 states: 24% user 11% system 0% nice 62% idle 0% iowait 0% irq 3% softirq', 'CPU2 states: 4% user 2% system 0% nice 92% idle 0% iowait 0% irq 2% softirq', 'CPU3 states: 0% user 0% system 0% nice 97% idle 0% iowait 0% irq 3% softirq', 'CPU4 states: 3% user 3% system 0% nice 85% idle 0% iowait 1% irq 8% softirq', 'CPU5 states: 4% user 1% system 0% nice 92% idle 0% iowait 0% irq 3% softirq', 'CPU6 states: 5% user 1% system 0% nice 92% idle 0% iowait 0% irq 2% softirq', 'CPU7 states: 2% user 2% system 0% nice 94% idle 0% iowait 0% irq 2% softirq', 'CPU8 states: 3% user 1% system 0% nice 94% idle 0% iowait 0% irq 2% softirq', 'CPU9 states: 9% user 2% system 0% nice 86% idle 0% iowait 0% irq 3% softirq', 'CPU10 states: 2% user 2% system 0% nice 91% idle 0% iowait 0% irq 5% softirq', 'CPU11 states: 2% user 2% system 0% nice 90% idle 0% iowait 0% irq 6% softirq', 'CPU12 states: 4% user 0% system 0% nice 94% idle 0% iowait 0% irq 2% softirq', 'CPU13 states: 2% user 0% system 0% nice 96% idle 0% iowait 0% irq 2% softirq', 'CPU14 states: 4% user 1% system 0% nice 91% idle 0% iowait 0% irq 4% softirq', 'CPU15 states: 3% user 1% system 0% nice 94% idle 0% iowait 0% irq 2% softirq', 'CPU16 states: 3% user 2% system 0% nice 93% idle 0% iowait 0% irq 2% softirq', 'CPU17 states: 2% user 1% system 0% nice 92% idle 0% iowait 0% irq 5% softirq', 'CPU18 states: 1% user 1% system 0% nice 96% idle 0% iowait 0% irq 2% softirq', 'CPU19 states: 7% user 2% system 0% nice 83% idle 0% iowait 1% irq 7% softirq', 'CPU20 states: 6% user 3% system 0% nice 89% idle 0% iowait 0% irq 2% softirq', 'CPU21 states: 3% user 1% system 0% nice 94% idle 0% iowait 0% irq 2% softirq', 'CPU22 states: 1% user 1% system 0% nice 94% idle 0% iowait 0% irq 4% softirq', 'CPU23 states: 4% user 4% system 0% nice 84% idle 0% iowait 1% irq 7% softirq', 'CPU24 states: 3% user 0% system 0% nice 97% idle 0% iowait 0% irq 0% softirq', 'CPU25 states: 3% user 0% system 0% nice 97% idle 0% iowait 0% irq 0% softirq', 'CPU26 states: 3% user 1% system 0% nice 96% idle 0% iowait 0% irq 0% softirq', 'CPU27 states: 2% user 1% system 0% nice 97% idle 0% iowait 0% irq 0% softirq', 'CPU28 states: 5% user 2% system 0% nice 93% idle 0% iowait 0% irq 0% softirq', 'CPU29 states: 3% user 2% system 0% nice 95% idle 0% iowait 0% irq 0% softirq', 'CPU30 states: 3% user 2% system 0% nice 95% idle 0% iowait 0% irq 0% softirq', 'CPU31 states: 2% user 1% system 0% nice 97% idle 0% iowait 0% irq 0% softirq', 'CPU32 states: 2% user 2% system 0% nice 96% idle 0% iowait 0% irq 0% softirq', 'CPU33 states: 1% user 1% system 0% nice 98% idle 0% iowait 0% irq 0% softirq', 'CPU34 states: 0% user 1% system 0% nice 99% idle 0% iowait 0% irq 0% softirq', 'CPU35 states: 0% user 1% system 0% nice 99% idle 0% iowait 0% irq 0% softirq', 'CPU36 states: 4% user 2% system 0% nice 94% idle 0% iowait 0% irq 0% softirq', 'CPU37 states: 2% user 1% system 0% nice 97% idle 0% iowait 0% irq 0% softirq', 'CPU38 states: 7% user 1% system 0% nice 92% idle 0% iowait 0% irq 0% softirq', 'CPU39 states: 3% user 1% system 0% nice 96% idle 0% iowait 0% irq 0% softirq', 'CPU40 states: 10% user 1% system 0% nice 89% idle 0% iowait 0% irq 0% softirq', 'CPU41 states: 1% user 1% system 0% nice 98% idle 0% iowait 0% irq 0% softirq', 'CPU42 states: 2% user 3% system 0% nice 95% idle 0% iowait 0% irq 0% softirq', 'CPU43 states: 2% user 1% system 0% nice 97% idle 0% iowait 0% irq 0% softirq', 'CPU44 states: 3% user 2% system 0% nice 95% idle 0% iowait 0% irq 0% softirq', 'CPU45 states: 0% user 1% system 0% nice 99% idle 0% iowait 0% irq 0% softirq', 'CPU46 states: 2% user 1% system 0% nice 97% idle 0% iowait 0% irq 0% softirq', 'CPU47 states: 3% user 0% system 0% nice 97% idle 0% iowait 0% irq 0% softirq']\n",
            "cpu_idle_for_all_batches[0]: ['CPU0 89%', 'CPU1 62%', 'CPU2 92%', 'CPU3 97%', 'CPU4 85%', 'CPU5 92%', 'CPU6 92%', 'CPU7 94%', 'CPU8 94%', 'CPU9 86%', 'CPU10 91%', 'CPU11 90%', 'CPU12 94%', 'CPU13 96%', 'CPU14 91%', 'CPU15 94%', 'CPU16 93%', 'CPU17 92%', 'CPU18 96%', 'CPU19 83%', 'CPU20 89%', 'CPU21 94%', 'CPU22 94%', 'CPU23 84%', 'CPU24 97%', 'CPU25 97%', 'CPU26 96%', 'CPU27 97%', 'CPU28 93%', 'CPU29 95%', 'CPU30 95%', 'CPU31 97%', 'CPU32 96%', 'CPU33 98%', 'CPU34 99%', 'CPU35 99%', 'CPU36 94%', 'CPU37 97%', 'CPU38 92%', 'CPU39 96%', 'CPU40 89%', 'CPU41 98%', 'CPU42 95%', 'CPU43 97%', 'CPU44 95%', 'CPU45 99%', 'CPU46 97%', 'CPU47 97%']\n",
            "log chars: 4800769\n",
            "log lines: 93793\n",
            "cpu utilization lines: 4704\n",
            "batches: 96\n",
            "averages: ['CPU states: 3% user 2% system 0% nice 93% idle 0% iowait 0% irq 2% softirq', 'CPU states: 3% user 2% system 0% nice 92% idle 0% iowait 0% irq 3% softirq', 'CPU states: 4% user 2% system 0% nice 91% idle 0% iowait 0% irq 3% softirq', 'CPU states: 3% user 2% system 0% nice 94% idle 0% iowait 0% irq 1% softirq', 'CPU states: 4% user 2% system 0% nice 93% idle 0% iowait 0% irq 1% softirq', 'CPU states: 3% user 2% system 0% nice 94% idle 0% iowait 0% irq 1% softirq', 'CPU states: 4% user 2% system 0% nice 92% idle 0% iowait 0% irq 2% softirq', 'CPU states: 3% user 2% system 0% nice 93% idle 0% iowait 0% irq 2% softirq', 'CPU states: 3% user 0% system 0% nice 96% idle 0% iowait 0% irq 1% softirq', 'CPU states: 3% user 1% system 0% nice 94% idle 0% iowait 0% irq 2% softirq', 'CPU states: 3% user 1% system 0% nice 94% idle 0% iowait 0% irq 2% softirq', 'CPU states: 2% user 2% system 0% nice 95% idle 0% iowait 0% irq 1% softirq', 'CPU states: 3% user 1% system 0% nice 95% idle 0% iowait 0% irq 1% softirq', 'CPU states: 3% user 1% system 0% nice 95% idle 0% iowait 0% irq 1% softirq', 'CPU states: 3% user 2% system 0% nice 92% idle 0% iowait 0% irq 3% softirq', 'CPU states: 4% user 2% system 0% nice 92% idle 0% iowait 0% irq 2% softirq', 'CPU states: 3% user 2% system 0% nice 93% idle 0% iowait 0% irq 2% softirq', 'CPU states: 3% user 2% system 0% nice 93% idle 0% iowait 0% irq 2% softirq', 'CPU states: 3% user 1% system 0% nice 94% idle 0% iowait 0% irq 2% softirq', 'CPU states: 3% user 2% system 0% nice 93% idle 0% iowait 0% irq 2% softirq', 'CPU states: 4% user 2% system 0% nice 93% idle 0% iowait 0% irq 1% softirq', 'CPU states: 2% user 1% system 0% nice 96% idle 0% iowait 0% irq 1% softirq', 'CPU states: 3% user 2% system 0% nice 94% idle 0% iowait 0% irq 1% softirq', 'CPU states: 3% user 0% system 0% nice 96% idle 0% iowait 0% irq 1% softirq', 'CPU states: 3% user 2% system 0% nice 94% idle 0% iowait 0% irq 1% softirq', 'CPU states: 3% user 2% system 0% nice 94% idle 0% iowait 0% irq 1% softirq', 'CPU states: 3% user 1% system 0% nice 95% idle 0% iowait 0% irq 1% softirq', 'CPU states: 3% user 2% system 0% nice 94% idle 0% iowait 0% irq 1% softirq', 'CPU states: 2% user 1% system 0% nice 96% idle 0% iowait 0% irq 1% softirq', 'CPU states: 2% user 1% system 0% nice 96% idle 0% iowait 0% irq 1% softirq', 'CPU states: 3% user 2% system 0% nice 94% idle 0% iowait 0% irq 1% softirq', 'CPU states: 2% user 1% system 0% nice 96% idle 0% iowait 0% irq 1% softirq', 'CPU states: 3% user 2% system 0% nice 93% idle 0% iowait 0% irq 2% softirq', 'CPU states: 3% user 1% system 0% nice 95% idle 0% iowait 0% irq 1% softirq', 'CPU states: 3% user 2% system 0% nice 93% idle 0% iowait 0% irq 2% softirq', 'CPU states: 2% user 1% system 0% nice 96% idle 0% iowait 0% irq 1% softirq', 'CPU states: 3% user 2% system 0% nice 94% idle 0% iowait 0% irq 1% softirq', 'CPU states: 2% user 1% system 0% nice 95% idle 0% iowait 0% irq 2% softirq', 'CPU states: 2% user 1% system 0% nice 95% idle 0% iowait 0% irq 2% softirq', 'CPU states: 3% user 1% system 0% nice 95% idle 0% iowait 0% irq 1% softirq', 'CPU states: 3% user 1% system 0% nice 95% idle 0% iowait 0% irq 1% softirq', 'CPU states: 2% user 2% system 0% nice 95% idle 0% iowait 0% irq 1% softirq', 'CPU states: 2% user 1% system 0% nice 96% idle 0% iowait 0% irq 1% softirq', 'CPU states: 3% user 2% system 0% nice 94% idle 0% iowait 0% irq 1% softirq', 'CPU states: 3% user 2% system 0% nice 94% idle 0% iowait 0% irq 1% softirq', 'CPU states: 3% user 1% system 0% nice 95% idle 0% iowait 0% irq 1% softirq', 'CPU states: 2% user 1% system 0% nice 96% idle 0% iowait 0% irq 1% softirq', 'CPU states: 2% user 2% system 0% nice 95% idle 0% iowait 0% irq 1% softirq', 'CPU states: 2% user 2% system 0% nice 95% idle 0% iowait 0% irq 1% softirq', 'CPU states: 3% user 2% system 0% nice 94% idle 0% iowait 0% irq 1% softirq', 'CPU states: 3% user 2% system 0% nice 94% idle 0% iowait 0% irq 1% softirq', 'CPU states: 3% user 2% system 0% nice 94% idle 0% iowait 0% irq 1% softirq', 'CPU states: 3% user 1% system 0% nice 95% idle 0% iowait 0% irq 1% softirq', 'CPU states: 2% user 1% system 0% nice 96% idle 0% iowait 0% irq 1% softirq', 'CPU states: 3% user 2% system 0% nice 94% idle 0% iowait 0% irq 1% softirq', 'CPU states: 3% user 2% system 0% nice 94% idle 0% iowait 0% irq 1% softirq', 'CPU states: 3% user 2% system 0% nice 94% idle 0% iowait 0% irq 1% softirq', 'CPU states: 3% user 1% system 0% nice 95% idle 0% iowait 0% irq 1% softirq', 'CPU states: 3% user 1% system 0% nice 95% idle 0% iowait 0% irq 1% softirq', 'CPU states: 3% user 1% system 0% nice 95% idle 0% iowait 0% irq 1% softirq', 'CPU states: 4% user 1% system 0% nice 94% idle 0% iowait 0% irq 1% softirq', 'CPU states: 3% user 2% system 0% nice 94% idle 0% iowait 0% irq 1% softirq', 'CPU states: 3% user 2% system 0% nice 94% idle 0% iowait 0% irq 1% softirq', 'CPU states: 3% user 1% system 0% nice 95% idle 0% iowait 0% irq 1% softirq', 'CPU states: 3% user 1% system 0% nice 95% idle 0% iowait 0% irq 1% softirq', 'CPU states: 3% user 1% system 0% nice 95% idle 0% iowait 0% irq 1% softirq', 'CPU states: 3% user 2% system 0% nice 94% idle 0% iowait 0% irq 1% softirq', 'CPU states: 3% user 2% system 0% nice 94% idle 0% iowait 0% irq 1% softirq', 'CPU states: 3% user 2% system 0% nice 94% idle 0% iowait 0% irq 1% softirq', 'CPU states: 3% user 2% system 0% nice 94% idle 0% iowait 0% irq 1% softirq', 'CPU states: 3% user 1% system 0% nice 95% idle 0% iowait 0% irq 1% softirq', 'CPU states: 3% user 1% system 0% nice 95% idle 0% iowait 0% irq 1% softirq', 'CPU states: 4% user 2% system 0% nice 93% idle 0% iowait 0% irq 1% softirq', 'CPU states: 3% user 2% system 0% nice 94% idle 0% iowait 0% irq 1% softirq', 'CPU states: 3% user 1% system 0% nice 95% idle 0% iowait 0% irq 1% softirq', 'CPU states: 3% user 1% system 0% nice 95% idle 0% iowait 0% irq 1% softirq', 'CPU states: 4% user 1% system 0% nice 94% idle 0% iowait 0% irq 1% softirq', 'CPU states: 3% user 2% system 0% nice 94% idle 0% iowait 0% irq 1% softirq', 'CPU states: 4% user 2% system 0% nice 93% idle 0% iowait 0% irq 1% softirq', 'CPU states: 3% user 1% system 0% nice 95% idle 0% iowait 0% irq 1% softirq', 'CPU states: 3% user 2% system 0% nice 94% idle 0% iowait 0% irq 1% softirq', 'CPU states: 3% user 2% system 0% nice 94% idle 0% iowait 0% irq 1% softirq', 'CPU states: 4% user 2% system 0% nice 93% idle 0% iowait 0% irq 1% softirq', 'CPU states: 3% user 2% system 0% nice 94% idle 0% iowait 0% irq 1% softirq', 'CPU states: 4% user 2% system 0% nice 93% idle 0% iowait 0% irq 1% softirq', 'CPU states: 3% user 1% system 0% nice 95% idle 0% iowait 0% irq 1% softirq', 'CPU states: 3% user 2% system 0% nice 94% idle 0% iowait 0% irq 1% softirq', 'CPU states: 4% user 2% system 0% nice 93% idle 0% iowait 0% irq 1% softirq', 'CPU states: 3% user 2% system 0% nice 94% idle 0% iowait 0% irq 1% softirq', 'CPU states: 3% user 2% system 0% nice 93% idle 0% iowait 0% irq 2% softirq', 'CPU states: 3% user 1% system 0% nice 95% idle 0% iowait 0% irq 1% softirq', 'CPU states: 3% user 2% system 0% nice 94% idle 0% iowait 0% irq 1% softirq', 'CPU states: 4% user 1% system 0% nice 94% idle 0% iowait 0% irq 1% softirq', 'CPU states: 3% user 1% system 0% nice 94% idle 0% iowait 0% irq 2% softirq', 'CPU states: 4% user 2% system 0% nice 92% idle 0% iowait 0% irq 2% softirq', 'CPU states: 3% user 2% system 0% nice 94% idle 0% iowait 0% irq 1% softirq']\n",
            "per_cpu_utilization[0]: ['CPU0 states: 4% user 2% system 0% nice 91% idle 0% iowait 0% irq 3% softirq', 'CPU1 states: 3% user 2% system 0% nice 91% idle 0% iowait 0% irq 4% softirq', 'CPU2 states: 5% user 7% system 0% nice 80% idle 0% iowait 1% irq 7% softirq', 'CPU3 states: 2% user 2% system 0% nice 89% idle 0% iowait 1% irq 6% softirq', 'CPU4 states: 8% user 5% system 0% nice 78% idle 0% iowait 1% irq 8% softirq', 'CPU5 states: 3% user 2% system 0% nice 91% idle 0% iowait 0% irq 4% softirq', 'CPU6 states: 7% user 3% system 0% nice 87% idle 0% iowait 0% irq 3% softirq', 'CPU7 states: 8% user 6% system 0% nice 77% idle 0% iowait 1% irq 8% softirq', 'CPU8 states: 8% user 3% system 0% nice 86% idle 0% iowait 0% irq 3% softirq', 'CPU9 states: 2% user 2% system 0% nice 91% idle 0% iowait 0% irq 5% softirq', 'CPU10 states: 4% user 3% system 0% nice 90% idle 0% iowait 0% irq 3% softirq', 'CPU11 states: 1% user 2% system 0% nice 91% idle 0% iowait 0% irq 6% softirq', 'CPU12 states: 2% user 1% system 0% nice 94% idle 0% iowait 0% irq 3% softirq', 'CPU13 states: 5% user 6% system 0% nice 82% idle 0% iowait 0% irq 7% softirq', 'CPU14 states: 1% user 2% system 0% nice 94% idle 0% iowait 0% irq 3% softirq', 'CPU15 states: 2% user 2% system 0% nice 92% idle 0% iowait 0% irq 4% softirq', 'CPU16 states: 3% user 2% system 0% nice 90% idle 0% iowait 0% irq 5% softirq', 'CPU17 states: 3% user 3% system 0% nice 89% idle 0% iowait 0% irq 5% softirq', 'CPU18 states: 7% user 5% system 0% nice 75% idle 0% iowait 2% irq 11% softirq', 'CPU19 states: 1% user 1% system 0% nice 92% idle 0% iowait 1% irq 5% softirq', 'CPU20 states: 3% user 3% system 0% nice 89% idle 0% iowait 0% irq 5% softirq', 'CPU21 states: 2% user 2% system 0% nice 92% idle 0% iowait 0% irq 4% softirq', 'CPU22 states: 5% user 3% system 0% nice 87% idle 0% iowait 0% irq 5% softirq', 'CPU23 states: 4% user 3% system 0% nice 83% idle 0% iowait 1% irq 9% softirq', 'CPU24 states: 2% user 1% system 0% nice 97% idle 0% iowait 0% irq 0% softirq', 'CPU25 states: 2% user 1% system 0% nice 97% idle 0% iowait 0% irq 0% softirq', 'CPU26 states: 2% user 1% system 0% nice 97% idle 0% iowait 0% irq 0% softirq', 'CPU27 states: 1% user 1% system 0% nice 98% idle 0% iowait 0% irq 0% softirq', 'CPU28 states: 3% user 1% system 0% nice 96% idle 0% iowait 0% irq 0% softirq', 'CPU29 states: 1% user 1% system 0% nice 98% idle 0% iowait 0% irq 0% softirq', 'CPU30 states: 4% user 2% system 0% nice 94% idle 0% iowait 0% irq 0% softirq', 'CPU31 states: 3% user 2% system 0% nice 95% idle 0% iowait 0% irq 0% softirq', 'CPU32 states: 3% user 1% system 0% nice 96% idle 0% iowait 0% irq 0% softirq', 'CPU33 states: 3% user 1% system 0% nice 96% idle 0% iowait 0% irq 0% softirq', 'CPU34 states: 2% user 1% system 0% nice 97% idle 0% iowait 0% irq 0% softirq', 'CPU35 states: 0% user 0% system 0% nice 99% idle 0% iowait 1% irq 0% softirq', 'CPU36 states: 3% user 1% system 0% nice 96% idle 0% iowait 0% irq 0% softirq', 'CPU37 states: 1% user 1% system 0% nice 98% idle 0% iowait 0% irq 0% softirq', 'CPU38 states: 2% user 1% system 0% nice 97% idle 0% iowait 0% irq 0% softirq', 'CPU39 states: 7% user 0% system 0% nice 93% idle 0% iowait 0% irq 0% softirq', 'CPU40 states: 3% user 1% system 0% nice 96% idle 0% iowait 0% irq 0% softirq', 'CPU41 states: 1% user 1% system 0% nice 98% idle 0% iowait 0% irq 0% softirq', 'CPU42 states: 2% user 1% system 0% nice 97% idle 0% iowait 0% irq 0% softirq', 'CPU43 states: 1% user 1% system 0% nice 98% idle 0% iowait 0% irq 0% softirq', 'CPU44 states: 1% user 1% system 0% nice 98% idle 0% iowait 0% irq 0% softirq', 'CPU45 states: 0% user 1% system 0% nice 99% idle 0% iowait 0% irq 0% softirq', 'CPU46 states: 8% user 1% system 0% nice 91% idle 0% iowait 0% irq 0% softirq', 'CPU47 states: 2% user 1% system 0% nice 97% idle 0% iowait 0% irq 0% softirq']\n",
            "cpu_idle_for_all_batches[0]: ['CPU0 91%', 'CPU1 91%', 'CPU2 80%', 'CPU3 89%', 'CPU4 78%', 'CPU5 91%', 'CPU6 87%', 'CPU7 77%', 'CPU8 86%', 'CPU9 91%', 'CPU10 90%', 'CPU11 91%', 'CPU12 94%', 'CPU13 82%', 'CPU14 94%', 'CPU15 92%', 'CPU16 90%', 'CPU17 89%', 'CPU18 75%', 'CPU19 92%', 'CPU20 89%', 'CPU21 92%', 'CPU22 87%', 'CPU23 83%', 'CPU24 97%', 'CPU25 97%', 'CPU26 97%', 'CPU27 98%', 'CPU28 96%', 'CPU29 98%', 'CPU30 94%', 'CPU31 95%', 'CPU32 96%', 'CPU33 96%', 'CPU34 97%', 'CPU35 99%', 'CPU36 96%', 'CPU37 98%', 'CPU38 97%', 'CPU39 93%', 'CPU40 96%', 'CPU41 98%', 'CPU42 97%', 'CPU43 98%', 'CPU44 98%', 'CPU45 99%', 'CPU46 91%', 'CPU47 97%']\n",
            "log chars: 4800768\n",
            "log lines: 93793\n",
            "cpu utilization lines: 4704\n",
            "batches: 96\n",
            "averages: ['CPU states: 3% user 2% system 0% nice 94% idle 0% iowait 0% irq 1% softirq', 'CPU states: 3% user 2% system 0% nice 94% idle 0% iowait 0% irq 1% softirq', 'CPU states: 3% user 1% system 0% nice 95% idle 0% iowait 0% irq 1% softirq', 'CPU states: 3% user 1% system 0% nice 94% idle 0% iowait 0% irq 2% softirq', 'CPU states: 3% user 1% system 0% nice 93% idle 0% iowait 0% irq 3% softirq', 'CPU states: 3% user 1% system 0% nice 94% idle 0% iowait 0% irq 2% softirq', 'CPU states: 2% user 1% system 0% nice 96% idle 0% iowait 0% irq 1% softirq', 'CPU states: 2% user 1% system 0% nice 94% idle 0% iowait 0% irq 3% softirq', 'CPU states: 3% user 1% system 0% nice 93% idle 0% iowait 0% irq 3% softirq', 'CPU states: 3% user 1% system 0% nice 93% idle 0% iowait 0% irq 3% softirq', 'CPU states: 3% user 1% system 0% nice 94% idle 0% iowait 0% irq 2% softirq', 'CPU states: 3% user 1% system 0% nice 95% idle 0% iowait 0% irq 1% softirq', 'CPU states: 3% user 2% system 0% nice 94% idle 0% iowait 0% irq 1% softirq', 'CPU states: 2% user 1% system 0% nice 95% idle 0% iowait 0% irq 2% softirq', 'CPU states: 3% user 1% system 0% nice 94% idle 0% iowait 0% irq 2% softirq', 'CPU states: 3% user 1% system 0% nice 94% idle 0% iowait 0% irq 2% softirq', 'CPU states: 3% user 1% system 0% nice 94% idle 0% iowait 0% irq 2% softirq', 'CPU states: 2% user 0% system 0% nice 96% idle 0% iowait 0% irq 2% softirq', 'CPU states: 2% user 2% system 0% nice 94% idle 0% iowait 0% irq 2% softirq', 'CPU states: 2% user 1% system 0% nice 95% idle 0% iowait 0% irq 2% softirq', 'CPU states: 3% user 2% system 0% nice 93% idle 0% iowait 0% irq 2% softirq', 'CPU states: 2% user 1% system 0% nice 95% idle 0% iowait 0% irq 2% softirq', 'CPU states: 3% user 2% system 0% nice 93% idle 0% iowait 0% irq 2% softirq', 'CPU states: 2% user 1% system 0% nice 95% idle 0% iowait 0% irq 2% softirq', 'CPU states: 2% user 2% system 0% nice 94% idle 0% iowait 0% irq 2% softirq', 'CPU states: 2% user 1% system 0% nice 96% idle 0% iowait 0% irq 1% softirq', 'CPU states: 2% user 2% system 0% nice 95% idle 0% iowait 0% irq 1% softirq', 'CPU states: 3% user 1% system 0% nice 95% idle 0% iowait 0% irq 1% softirq', 'CPU states: 2% user 1% system 0% nice 96% idle 0% iowait 0% irq 1% softirq', 'CPU states: 2% user 1% system 0% nice 96% idle 0% iowait 0% irq 1% softirq', 'CPU states: 2% user 1% system 0% nice 96% idle 0% iowait 0% irq 1% softirq', 'CPU states: 2% user 1% system 0% nice 96% idle 0% iowait 0% irq 1% softirq', 'CPU states: 3% user 1% system 0% nice 94% idle 0% iowait 0% irq 2% softirq', 'CPU states: 2% user 2% system 0% nice 94% idle 0% iowait 0% irq 2% softirq', 'CPU states: 2% user 2% system 0% nice 94% idle 0% iowait 0% irq 2% softirq', 'CPU states: 2% user 2% system 0% nice 95% idle 0% iowait 0% irq 1% softirq', 'CPU states: 3% user 1% system 0% nice 95% idle 0% iowait 0% irq 1% softirq', 'CPU states: 3% user 2% system 0% nice 94% idle 0% iowait 0% irq 1% softirq', 'CPU states: 2% user 1% system 0% nice 96% idle 0% iowait 0% irq 1% softirq', 'CPU states: 2% user 1% system 0% nice 96% idle 0% iowait 0% irq 1% softirq', 'CPU states: 2% user 1% system 0% nice 96% idle 0% iowait 0% irq 1% softirq', 'CPU states: 4% user 0% system 0% nice 95% idle 0% iowait 0% irq 1% softirq', 'CPU states: 2% user 1% system 0% nice 96% idle 0% iowait 0% irq 1% softirq', 'CPU states: 2% user 1% system 0% nice 96% idle 0% iowait 0% irq 1% softirq', 'CPU states: 3% user 1% system 0% nice 95% idle 0% iowait 0% irq 1% softirq', 'CPU states: 3% user 1% system 0% nice 95% idle 0% iowait 0% irq 1% softirq', 'CPU states: 3% user 2% system 0% nice 94% idle 0% iowait 0% irq 1% softirq', 'CPU states: 3% user 1% system 0% nice 95% idle 0% iowait 0% irq 1% softirq', 'CPU states: 3% user 1% system 0% nice 94% idle 0% iowait 0% irq 2% softirq', 'CPU states: 3% user 1% system 0% nice 94% idle 0% iowait 0% irq 2% softirq', 'CPU states: 3% user 2% system 0% nice 93% idle 0% iowait 0% irq 2% softirq', 'CPU states: 3% user 1% system 0% nice 94% idle 0% iowait 0% irq 2% softirq', 'CPU states: 3% user 1% system 0% nice 94% idle 0% iowait 0% irq 2% softirq', 'CPU states: 3% user 1% system 0% nice 94% idle 0% iowait 0% irq 2% softirq', 'CPU states: 3% user 2% system 0% nice 93% idle 0% iowait 0% irq 2% softirq', 'CPU states: 3% user 2% system 0% nice 94% idle 0% iowait 0% irq 1% softirq', 'CPU states: 3% user 2% system 0% nice 93% idle 0% iowait 0% irq 2% softirq', 'CPU states: 3% user 2% system 0% nice 94% idle 0% iowait 0% irq 1% softirq', 'CPU states: 3% user 1% system 0% nice 95% idle 0% iowait 0% irq 1% softirq', 'CPU states: 3% user 2% system 0% nice 93% idle 0% iowait 0% irq 2% softirq', 'CPU states: 3% user 1% system 0% nice 94% idle 0% iowait 0% irq 2% softirq', 'CPU states: 3% user 1% system 0% nice 95% idle 0% iowait 0% irq 1% softirq', 'CPU states: 3% user 2% system 0% nice 93% idle 0% iowait 0% irq 2% softirq', 'CPU states: 3% user 2% system 0% nice 94% idle 0% iowait 0% irq 1% softirq', 'CPU states: 3% user 1% system 0% nice 94% idle 0% iowait 0% irq 2% softirq', 'CPU states: 3% user 2% system 0% nice 93% idle 0% iowait 0% irq 2% softirq', 'CPU states: 3% user 2% system 0% nice 94% idle 0% iowait 0% irq 1% softirq', 'CPU states: 3% user 2% system 0% nice 93% idle 0% iowait 0% irq 2% softirq', 'CPU states: 3% user 2% system 0% nice 93% idle 0% iowait 0% irq 2% softirq', 'CPU states: 3% user 2% system 0% nice 93% idle 0% iowait 0% irq 2% softirq', 'CPU states: 3% user 1% system 0% nice 94% idle 0% iowait 0% irq 2% softirq', 'CPU states: 3% user 1% system 0% nice 94% idle 0% iowait 0% irq 2% softirq', 'CPU states: 4% user 2% system 0% nice 92% idle 0% iowait 0% irq 2% softirq', 'CPU states: 3% user 2% system 0% nice 93% idle 0% iowait 0% irq 2% softirq', 'CPU states: 3% user 2% system 0% nice 94% idle 0% iowait 0% irq 1% softirq', 'CPU states: 4% user 2% system 0% nice 93% idle 0% iowait 0% irq 1% softirq', 'CPU states: 4% user 1% system 0% nice 94% idle 0% iowait 0% irq 1% softirq', 'CPU states: 3% user 1% system 0% nice 95% idle 0% iowait 0% irq 1% softirq', 'CPU states: 3% user 2% system 0% nice 94% idle 0% iowait 0% irq 1% softirq', 'CPU states: 3% user 1% system 0% nice 95% idle 0% iowait 0% irq 1% softirq', 'CPU states: 3% user 1% system 0% nice 95% idle 0% iowait 0% irq 1% softirq', 'CPU states: 3% user 2% system 0% nice 94% idle 0% iowait 0% irq 1% softirq', 'CPU states: 3% user 2% system 0% nice 94% idle 0% iowait 0% irq 1% softirq', 'CPU states: 3% user 1% system 0% nice 95% idle 0% iowait 0% irq 1% softirq', 'CPU states: 4% user 2% system 0% nice 93% idle 0% iowait 0% irq 1% softirq', 'CPU states: 3% user 2% system 0% nice 94% idle 0% iowait 0% irq 1% softirq', 'CPU states: 3% user 1% system 0% nice 95% idle 0% iowait 0% irq 1% softirq', 'CPU states: 3% user 2% system 0% nice 94% idle 0% iowait 0% irq 1% softirq', 'CPU states: 3% user 2% system 0% nice 94% idle 0% iowait 0% irq 1% softirq', 'CPU states: 3% user 2% system 0% nice 94% idle 0% iowait 0% irq 1% softirq', 'CPU states: 3% user 1% system 0% nice 95% idle 0% iowait 0% irq 1% softirq', 'CPU states: 3% user 2% system 0% nice 93% idle 0% iowait 0% irq 2% softirq', 'CPU states: 3% user 2% system 0% nice 93% idle 0% iowait 0% irq 2% softirq', 'CPU states: 3% user 1% system 0% nice 95% idle 0% iowait 0% irq 1% softirq', 'CPU states: 3% user 2% system 0% nice 94% idle 0% iowait 0% irq 1% softirq', 'CPU states: 3% user 2% system 0% nice 94% idle 0% iowait 0% irq 1% softirq']\n",
            "per_cpu_utilization[0]: ['CPU0 states: 3% user 3% system 0% nice 83% idle 0% iowait 2% irq 9% softirq', 'CPU1 states: 4% user 2% system 0% nice 92% idle 0% iowait 0% irq 2% softirq', 'CPU2 states: 1% user 1% system 0% nice 95% idle 0% iowait 1% irq 2% softirq', 'CPU3 states: 1% user 1% system 0% nice 93% idle 0% iowait 1% irq 4% softirq', 'CPU4 states: 4% user 4% system 0% nice 84% idle 0% iowait 1% irq 7% softirq', 'CPU5 states: 3% user 1% system 0% nice 94% idle 0% iowait 0% irq 2% softirq', 'CPU6 states: 6% user 2% system 0% nice 89% idle 0% iowait 0% irq 3% softirq', 'CPU7 states: 2% user 2% system 0% nice 94% idle 0% iowait 0% irq 2% softirq', 'CPU8 states: 2% user 2% system 0% nice 94% idle 0% iowait 0% irq 2% softirq', 'CPU9 states: 4% user 2% system 0% nice 92% idle 0% iowait 0% irq 2% softirq', 'CPU10 states: 4% user 4% system 0% nice 90% idle 0% iowait 0% irq 2% softirq', 'CPU11 states: 2% user 2% system 0% nice 92% idle 0% iowait 0% irq 4% softirq', 'CPU12 states: 5% user 3% system 0% nice 89% idle 0% iowait 0% irq 3% softirq', 'CPU13 states: 5% user 5% system 0% nice 86% idle 0% iowait 0% irq 4% softirq', 'CPU14 states: 3% user 5% system 0% nice 90% idle 0% iowait 0% irq 2% softirq', 'CPU15 states: 2% user 2% system 0% nice 94% idle 0% iowait 0% irq 2% softirq', 'CPU16 states: 2% user 5% system 0% nice 90% idle 0% iowait 0% irq 3% softirq', 'CPU17 states: 4% user 3% system 0% nice 90% idle 0% iowait 0% irq 3% softirq', 'CPU18 states: 0% user 3% system 0% nice 93% idle 0% iowait 1% irq 3% softirq', 'CPU19 states: 2% user 3% system 0% nice 91% idle 0% iowait 1% irq 3% softirq', 'CPU20 states: 1% user 2% system 0% nice 96% idle 0% iowait 0% irq 1% softirq', 'CPU21 states: 3% user 2% system 0% nice 90% idle 0% iowait 0% irq 5% softirq', 'CPU22 states: 7% user 2% system 0% nice 89% idle 0% iowait 0% irq 2% softirq', 'CPU23 states: 3% user 2% system 0% nice 88% idle 0% iowait 1% irq 6% softirq', 'CPU24 states: 2% user 3% system 0% nice 95% idle 0% iowait 0% irq 0% softirq', 'CPU25 states: 0% user 2% system 0% nice 98% idle 0% iowait 0% irq 0% softirq', 'CPU26 states: 1% user 2% system 0% nice 97% idle 0% iowait 0% irq 0% softirq', 'CPU27 states: 0% user 2% system 0% nice 98% idle 0% iowait 0% irq 0% softirq', 'CPU28 states: 3% user 2% system 0% nice 95% idle 0% iowait 0% irq 0% softirq', 'CPU29 states: 2% user 1% system 0% nice 97% idle 0% iowait 0% irq 0% softirq', 'CPU30 states: 2% user 1% system 0% nice 97% idle 0% iowait 0% irq 0% softirq', 'CPU31 states: 1% user 1% system 0% nice 98% idle 0% iowait 0% irq 0% softirq', 'CPU32 states: 5% user 1% system 0% nice 94% idle 0% iowait 0% irq 0% softirq', 'CPU33 states: 1% user 1% system 0% nice 98% idle 0% iowait 0% irq 0% softirq', 'CPU34 states: 5% user 1% system 0% nice 94% idle 0% iowait 0% irq 0% softirq', 'CPU35 states: 2% user 1% system 0% nice 97% idle 0% iowait 0% irq 0% softirq', 'CPU36 states: 1% user 1% system 0% nice 98% idle 0% iowait 0% irq 0% softirq', 'CPU37 states: 3% user 0% system 0% nice 97% idle 0% iowait 0% irq 0% softirq', 'CPU38 states: 2% user 0% system 0% nice 98% idle 0% iowait 0% irq 0% softirq', 'CPU39 states: 1% user 1% system 0% nice 98% idle 0% iowait 0% irq 0% softirq', 'CPU40 states: 3% user 2% system 0% nice 95% idle 0% iowait 0% irq 0% softirq', 'CPU41 states: 1% user 1% system 0% nice 98% idle 0% iowait 0% irq 0% softirq', 'CPU42 states: 6% user 1% system 0% nice 93% idle 0% iowait 0% irq 0% softirq', 'CPU43 states: 3% user 0% system 0% nice 97% idle 0% iowait 0% irq 0% softirq', 'CPU44 states: 6% user 0% system 0% nice 94% idle 0% iowait 0% irq 0% softirq', 'CPU45 states: 1% user 0% system 0% nice 99% idle 0% iowait 0% irq 0% softirq', 'CPU46 states: 2% user 1% system 0% nice 97% idle 0% iowait 0% irq 0% softirq', 'CPU47 states: 1% user 0% system 0% nice 99% idle 0% iowait 0% irq 0% softirq']\n",
            "cpu_idle_for_all_batches[0]: ['CPU0 83%', 'CPU1 92%', 'CPU2 95%', 'CPU3 93%', 'CPU4 84%', 'CPU5 94%', 'CPU6 89%', 'CPU7 94%', 'CPU8 94%', 'CPU9 92%', 'CPU10 90%', 'CPU11 92%', 'CPU12 89%', 'CPU13 86%', 'CPU14 90%', 'CPU15 94%', 'CPU16 90%', 'CPU17 90%', 'CPU18 93%', 'CPU19 91%', 'CPU20 96%', 'CPU21 90%', 'CPU22 89%', 'CPU23 88%', 'CPU24 95%', 'CPU25 98%', 'CPU26 97%', 'CPU27 98%', 'CPU28 95%', 'CPU29 97%', 'CPU30 97%', 'CPU31 98%', 'CPU32 94%', 'CPU33 98%', 'CPU34 94%', 'CPU35 97%', 'CPU36 98%', 'CPU37 97%', 'CPU38 98%', 'CPU39 98%', 'CPU40 95%', 'CPU41 98%', 'CPU42 93%', 'CPU43 97%', 'CPU44 94%', 'CPU45 99%', 'CPU46 97%', 'CPU47 99%']\n",
            "log chars: 4802746\n",
            "log lines: 93793\n",
            "cpu utilization lines: 4704\n",
            "batches: 96\n",
            "averages: ['CPU states: 3% user 1% system 0% nice 94% idle 0% iowait 0% irq 2% softirq', 'CPU states: 3% user 1% system 0% nice 94% idle 0% iowait 0% irq 2% softirq', 'CPU states: 3% user 2% system 0% nice 92% idle 0% iowait 0% irq 3% softirq', 'CPU states: 3% user 2% system 0% nice 93% idle 0% iowait 0% irq 2% softirq', 'CPU states: 3% user 2% system 0% nice 94% idle 0% iowait 0% irq 1% softirq', 'CPU states: 3% user 2% system 0% nice 93% idle 0% iowait 0% irq 2% softirq', 'CPU states: 3% user 1% system 0% nice 95% idle 0% iowait 0% irq 1% softirq', 'CPU states: 3% user 2% system 0% nice 94% idle 0% iowait 0% irq 1% softirq', 'CPU states: 3% user 2% system 0% nice 93% idle 0% iowait 0% irq 2% softirq', 'CPU states: 3% user 1% system 0% nice 95% idle 0% iowait 0% irq 1% softirq', 'CPU states: 3% user 1% system 0% nice 95% idle 0% iowait 0% irq 1% softirq', 'CPU states: 3% user 2% system 0% nice 94% idle 0% iowait 0% irq 1% softirq', 'CPU states: 3% user 1% system 0% nice 94% idle 0% iowait 0% irq 2% softirq', 'CPU states: 3% user 2% system 0% nice 94% idle 0% iowait 0% irq 1% softirq', 'CPU states: 3% user 1% system 0% nice 93% idle 0% iowait 0% irq 3% softirq', 'CPU states: 3% user 2% system 0% nice 93% idle 0% iowait 0% irq 2% softirq', 'CPU states: 4% user 2% system 0% nice 92% idle 0% iowait 0% irq 2% softirq', 'CPU states: 3% user 2% system 0% nice 94% idle 0% iowait 0% irq 1% softirq', 'CPU states: 3% user 1% system 0% nice 95% idle 0% iowait 0% irq 1% softirq', 'CPU states: 2% user 1% system 0% nice 96% idle 0% iowait 0% irq 1% softirq', 'CPU states: 2% user 2% system 0% nice 94% idle 0% iowait 0% irq 2% softirq', 'CPU states: 2% user 2% system 0% nice 95% idle 0% iowait 0% irq 1% softirq', 'CPU states: 3% user 0% system 0% nice 96% idle 0% iowait 0% irq 1% softirq', 'CPU states: 2% user 1% system 0% nice 96% idle 0% iowait 0% irq 1% softirq', 'CPU states: 2% user 2% system 0% nice 95% idle 0% iowait 0% irq 1% softirq', 'CPU states: 2% user 1% system 0% nice 96% idle 0% iowait 0% irq 1% softirq', 'CPU states: 2% user 1% system 0% nice 96% idle 0% iowait 0% irq 1% softirq', 'CPU states: 2% user 0% system 0% nice 97% idle 0% iowait 0% irq 1% softirq', 'CPU states: 2% user 1% system 0% nice 96% idle 0% iowait 0% irq 1% softirq', 'CPU states: 3% user 2% system 0% nice 94% idle 0% iowait 0% irq 1% softirq', 'CPU states: 2% user 0% system 0% nice 97% idle 0% iowait 0% irq 1% softirq', 'CPU states: 2% user 1% system 0% nice 96% idle 0% iowait 0% irq 1% softirq', 'CPU states: 2% user 1% system 0% nice 96% idle 0% iowait 0% irq 1% softirq', 'CPU states: 2% user 1% system 0% nice 95% idle 0% iowait 0% irq 2% softirq', 'CPU states: 2% user 1% system 0% nice 96% idle 0% iowait 0% irq 1% softirq', 'CPU states: 2% user 1% system 0% nice 96% idle 0% iowait 0% irq 1% softirq', 'CPU states: 2% user 2% system 0% nice 95% idle 0% iowait 0% irq 1% softirq', 'CPU states: 3% user 2% system 0% nice 94% idle 0% iowait 0% irq 1% softirq', 'CPU states: 2% user 2% system 0% nice 95% idle 0% iowait 0% irq 1% softirq', 'CPU states: 2% user 1% system 0% nice 96% idle 0% iowait 0% irq 1% softirq', 'CPU states: 4% user 2% system 0% nice 93% idle 0% iowait 0% irq 1% softirq', 'CPU states: 3% user 1% system 0% nice 95% idle 0% iowait 0% irq 1% softirq', 'CPU states: 3% user 1% system 0% nice 95% idle 0% iowait 0% irq 1% softirq', 'CPU states: 3% user 1% system 0% nice 95% idle 0% iowait 0% irq 1% softirq', 'CPU states: 3% user 2% system 0% nice 94% idle 0% iowait 0% irq 1% softirq', 'CPU states: 3% user 1% system 0% nice 95% idle 0% iowait 0% irq 1% softirq', 'CPU states: 3% user 1% system 0% nice 95% idle 0% iowait 0% irq 1% softirq', 'CPU states: 4% user 1% system 0% nice 94% idle 0% iowait 0% irq 1% softirq', 'CPU states: 5% user 2% system 0% nice 91% idle 0% iowait 0% irq 2% softirq', 'CPU states: 4% user 3% system 0% nice 91% idle 0% iowait 0% irq 2% softirq', 'CPU states: 6% user 3% system 0% nice 89% idle 0% iowait 0% irq 2% softirq', 'CPU states: 7% user 7% system 0% nice 83% idle 0% iowait 0% irq 3% softirq', 'CPU states: 8% user 4% system 0% nice 85% idle 0% iowait 0% irq 3% softirq', 'CPU states: 10% user 5% system 0% nice 81% idle 0% iowait 0% irq 4% softirq', 'CPU states: 10% user 6% system 0% nice 79% idle 0% iowait 1% irq 4% softirq', 'CPU states: 9% user 5% system 0% nice 82% idle 0% iowait 0% irq 4% softirq', 'CPU states: 11% user 6% system 0% nice 77% idle 0% iowait 1% irq 5% softirq', 'CPU states: 14% user 7% system 0% nice 73% idle 0% iowait 1% irq 5% softirq', 'CPU states: 11% user 6% system 0% nice 77% idle 0% iowait 1% irq 5% softirq', 'CPU states: 11% user 6% system 0% nice 78% idle 0% iowait 1% irq 4% softirq', 'CPU states: 12% user 7% system 0% nice 74% idle 0% iowait 1% irq 6% softirq', 'CPU states: 11% user 6% system 0% nice 77% idle 0% iowait 1% irq 5% softirq', 'CPU states: 11% user 5% system 0% nice 78% idle 0% iowait 1% irq 5% softirq', 'CPU states: 11% user 5% system 0% nice 78% idle 0% iowait 1% irq 5% softirq', 'CPU states: 12% user 6% system 0% nice 76% idle 0% iowait 1% irq 5% softirq', 'CPU states: 11% user 7% system 0% nice 75% idle 0% iowait 1% irq 6% softirq', 'CPU states: 10% user 6% system 0% nice 78% idle 0% iowait 1% irq 5% softirq', 'CPU states: 11% user 7% system 0% nice 77% idle 0% iowait 1% irq 4% softirq', 'CPU states: 10% user 6% system 0% nice 79% idle 0% iowait 1% irq 4% softirq', 'CPU states: 10% user 6% system 0% nice 79% idle 0% iowait 1% irq 4% softirq', 'CPU states: 9% user 5% system 0% nice 81% idle 0% iowait 1% irq 4% softirq', 'CPU states: 9% user 5% system 0% nice 82% idle 0% iowait 0% irq 4% softirq', 'CPU states: 10% user 6% system 0% nice 80% idle 0% iowait 0% irq 4% softirq', 'CPU states: 10% user 6% system 0% nice 79% idle 0% iowait 1% irq 4% softirq', 'CPU states: 9% user 6% system 0% nice 79% idle 0% iowait 1% irq 5% softirq', 'CPU states: 9% user 6% system 0% nice 80% idle 0% iowait 1% irq 4% softirq', 'CPU states: 12% user 7% system 0% nice 75% idle 0% iowait 1% irq 5% softirq', 'CPU states: 11% user 7% system 0% nice 76% idle 0% iowait 1% irq 5% softirq', 'CPU states: 10% user 5% system 0% nice 80% idle 0% iowait 1% irq 4% softirq', 'CPU states: 9% user 6% system 0% nice 80% idle 0% iowait 1% irq 4% softirq', 'CPU states: 10% user 6% system 0% nice 79% idle 0% iowait 1% irq 4% softirq', 'CPU states: 10% user 6% system 0% nice 79% idle 0% iowait 1% irq 4% softirq', 'CPU states: 11% user 6% system 0% nice 78% idle 0% iowait 1% irq 4% softirq', 'CPU states: 10% user 4% system 0% nice 81% idle 0% iowait 1% irq 4% softirq', 'CPU states: 9% user 4% system 0% nice 82% idle 0% iowait 1% irq 4% softirq', 'CPU states: 8% user 5% system 0% nice 83% idle 0% iowait 0% irq 4% softirq', 'CPU states: 9% user 4% system 0% nice 84% idle 0% iowait 0% irq 3% softirq', 'CPU states: 6% user 4% system 1% nice 86% idle 0% iowait 0% irq 3% softirq', 'CPU states: 6% user 4% system 0% nice 87% idle 0% iowait 0% irq 3% softirq', 'CPU states: 7% user 4% system 0% nice 85% idle 0% iowait 0% irq 4% softirq', 'CPU states: 6% user 3% system 0% nice 89% idle 0% iowait 0% irq 2% softirq', 'CPU states: 5% user 3% system 0% nice 90% idle 0% iowait 0% irq 2% softirq', 'CPU states: 6% user 3% system 0% nice 88% idle 0% iowait 0% irq 3% softirq', 'CPU states: 4% user 3% system 0% nice 91% idle 0% iowait 0% irq 2% softirq', 'CPU states: 4% user 2% system 0% nice 92% idle 0% iowait 0% irq 2% softirq', 'CPU states: 4% user 2% system 0% nice 92% idle 0% iowait 0% irq 2% softirq']\n",
            "per_cpu_utilization[0]: ['CPU0 states: 3% user 0% system 0% nice 91% idle 0% iowait 1% irq 5% softirq', 'CPU1 states: 2% user 0% system 0% nice 95% idle 0% iowait 0% irq 3% softirq', 'CPU2 states: 12% user 1% system 0% nice 82% idle 0% iowait 1% irq 4% softirq', 'CPU3 states: 1% user 1% system 0% nice 92% idle 0% iowait 1% irq 5% softirq', 'CPU4 states: 2% user 0% system 0% nice 87% idle 0% iowait 1% irq 10% softirq', 'CPU5 states: 3% user 1% system 0% nice 87% idle 0% iowait 1% irq 8% softirq', 'CPU6 states: 3% user 0% system 0% nice 93% idle 0% iowait 0% irq 4% softirq', 'CPU7 states: 2% user 1% system 0% nice 94% idle 0% iowait 0% irq 3% softirq', 'CPU8 states: 3% user 2% system 0% nice 91% idle 0% iowait 0% irq 4% softirq', 'CPU9 states: 2% user 0% system 0% nice 95% idle 0% iowait 0% irq 3% softirq', 'CPU10 states: 4% user 1% system 0% nice 91% idle 0% iowait 0% irq 4% softirq', 'CPU11 states: 2% user 1% system 0% nice 89% idle 0% iowait 1% irq 7% softirq', 'CPU12 states: 4% user 1% system 0% nice 91% idle 0% iowait 0% irq 4% softirq', 'CPU13 states: 4% user 1% system 0% nice 91% idle 0% iowait 0% irq 4% softirq', 'CPU14 states: 5% user 2% system 0% nice 89% idle 0% iowait 0% irq 4% softirq', 'CPU15 states: 4% user 4% system 0% nice 88% idle 0% iowait 0% irq 4% softirq', 'CPU16 states: 5% user 2% system 0% nice 89% idle 0% iowait 0% irq 4% softirq', 'CPU17 states: 4% user 0% system 0% nice 92% idle 0% iowait 0% irq 4% softirq', 'CPU18 states: 1% user 0% system 0% nice 92% idle 0% iowait 1% irq 6% softirq', 'CPU19 states: 18% user 14% system 0% nice 62% idle 0% iowait 1% irq 5% softirq', 'CPU20 states: 6% user 2% system 0% nice 87% idle 0% iowait 0% irq 5% softirq', 'CPU21 states: 1% user 1% system 0% nice 93% idle 0% iowait 0% irq 5% softirq', 'CPU22 states: 4% user 0% system 0% nice 92% idle 0% iowait 0% irq 4% softirq', 'CPU23 states: 2% user 3% system 0% nice 90% idle 0% iowait 0% irq 5% softirq', 'CPU24 states: 2% user 0% system 0% nice 98% idle 0% iowait 0% irq 0% softirq', 'CPU25 states: 1% user 0% system 0% nice 99% idle 0% iowait 0% irq 0% softirq', 'CPU26 states: 4% user 2% system 0% nice 94% idle 0% iowait 0% irq 0% softirq', 'CPU27 states: 2% user 0% system 0% nice 98% idle 0% iowait 0% irq 0% softirq', 'CPU28 states: 5% user 3% system 0% nice 92% idle 0% iowait 0% irq 0% softirq', 'CPU29 states: 1% user 0% system 0% nice 99% idle 0% iowait 0% irq 0% softirq', 'CPU30 states: 1% user 1% system 0% nice 98% idle 0% iowait 0% irq 0% softirq', 'CPU31 states: 4% user 0% system 0% nice 96% idle 0% iowait 0% irq 0% softirq', 'CPU32 states: 9% user 0% system 0% nice 91% idle 0% iowait 0% irq 0% softirq', 'CPU33 states: 2% user 0% system 0% nice 98% idle 0% iowait 0% irq 0% softirq', 'CPU34 states: 1% user 0% system 0% nice 98% idle 0% iowait 1% irq 0% softirq', 'CPU35 states: 1% user 0% system 0% nice 98% idle 0% iowait 1% irq 0% softirq', 'CPU36 states: 6% user 0% system 0% nice 94% idle 0% iowait 0% irq 0% softirq', 'CPU37 states: 2% user 0% system 0% nice 98% idle 0% iowait 0% irq 0% softirq', 'CPU38 states: 1% user 1% system 0% nice 98% idle 0% iowait 0% irq 0% softirq', 'CPU39 states: 3% user 0% system 0% nice 97% idle 0% iowait 0% irq 0% softirq', 'CPU40 states: 2% user 1% system 0% nice 97% idle 0% iowait 0% irq 0% softirq', 'CPU41 states: 2% user 0% system 0% nice 98% idle 0% iowait 0% irq 0% softirq', 'CPU42 states: 4% user 0% system 0% nice 96% idle 0% iowait 0% irq 0% softirq', 'CPU43 states: 2% user 0% system 0% nice 98% idle 0% iowait 0% irq 0% softirq', 'CPU44 states: 2% user 0% system 0% nice 98% idle 0% iowait 0% irq 0% softirq', 'CPU45 states: 2% user 0% system 0% nice 98% idle 0% iowait 0% irq 0% softirq', 'CPU46 states: 5% user 0% system 0% nice 95% idle 0% iowait 0% irq 0% softirq', 'CPU47 states: 1% user 0% system 0% nice 99% idle 0% iowait 0% irq 0% softirq']\n",
            "cpu_idle_for_all_batches[0]: ['CPU0 91%', 'CPU1 95%', 'CPU2 82%', 'CPU3 92%', 'CPU4 87%', 'CPU5 87%', 'CPU6 93%', 'CPU7 94%', 'CPU8 91%', 'CPU9 95%', 'CPU10 91%', 'CPU11 89%', 'CPU12 91%', 'CPU13 91%', 'CPU14 89%', 'CPU15 88%', 'CPU16 89%', 'CPU17 92%', 'CPU18 92%', 'CPU19 62%', 'CPU20 87%', 'CPU21 93%', 'CPU22 92%', 'CPU23 90%', 'CPU24 98%', 'CPU25 99%', 'CPU26 94%', 'CPU27 98%', 'CPU28 92%', 'CPU29 99%', 'CPU30 98%', 'CPU31 96%', 'CPU32 91%', 'CPU33 98%', 'CPU34 98%', 'CPU35 98%', 'CPU36 94%', 'CPU37 98%', 'CPU38 98%', 'CPU39 97%', 'CPU40 97%', 'CPU41 98%', 'CPU42 96%', 'CPU43 98%', 'CPU44 98%', 'CPU45 98%', 'CPU46 95%', 'CPU47 99%']\n",
            "log chars: 4803054\n",
            "log lines: 93793\n",
            "cpu utilization lines: 4704\n",
            "batches: 96\n",
            "averages: ['CPU states: 3% user 2% system 0% nice 92% idle 0% iowait 0% irq 3% softirq', 'CPU states: 3% user 2% system 0% nice 93% idle 0% iowait 0% irq 2% softirq', 'CPU states: 4% user 2% system 0% nice 91% idle 0% iowait 0% irq 3% softirq', 'CPU states: 4% user 2% system 0% nice 92% idle 0% iowait 0% irq 2% softirq', 'CPU states: 4% user 2% system 0% nice 92% idle 0% iowait 0% irq 2% softirq', 'CPU states: 3% user 2% system 0% nice 94% idle 0% iowait 0% irq 1% softirq', 'CPU states: 4% user 2% system 0% nice 92% idle 0% iowait 0% irq 2% softirq', 'CPU states: 3% user 2% system 0% nice 93% idle 0% iowait 0% irq 2% softirq', 'CPU states: 4% user 2% system 0% nice 93% idle 0% iowait 0% irq 1% softirq', 'CPU states: 4% user 2% system 0% nice 92% idle 0% iowait 0% irq 2% softirq', 'CPU states: 3% user 2% system 0% nice 94% idle 0% iowait 0% irq 1% softirq', 'CPU states: 3% user 2% system 0% nice 94% idle 0% iowait 0% irq 1% softirq', 'CPU states: 3% user 2% system 0% nice 93% idle 0% iowait 0% irq 2% softirq', 'CPU states: 3% user 2% system 0% nice 94% idle 0% iowait 0% irq 1% softirq', 'CPU states: 4% user 2% system 0% nice 91% idle 0% iowait 0% irq 3% softirq', 'CPU states: 4% user 3% system 0% nice 90% idle 0% iowait 0% irq 3% softirq', 'CPU states: 4% user 2% system 0% nice 92% idle 0% iowait 0% irq 2% softirq', 'CPU states: 3% user 1% system 0% nice 94% idle 0% iowait 0% irq 2% softirq', 'CPU states: 3% user 2% system 0% nice 93% idle 0% iowait 0% irq 2% softirq', 'CPU states: 3% user 1% system 0% nice 94% idle 0% iowait 0% irq 2% softirq', 'CPU states: 3% user 2% system 0% nice 93% idle 0% iowait 0% irq 2% softirq', 'CPU states: 3% user 1% system 0% nice 95% idle 0% iowait 0% irq 1% softirq', 'CPU states: 3% user 2% system 0% nice 94% idle 0% iowait 0% irq 1% softirq', 'CPU states: 3% user 2% system 0% nice 94% idle 0% iowait 0% irq 1% softirq', 'CPU states: 3% user 1% system 0% nice 95% idle 0% iowait 0% irq 1% softirq', 'CPU states: 3% user 1% system 0% nice 95% idle 0% iowait 0% irq 1% softirq', 'CPU states: 2% user 1% system 0% nice 96% idle 0% iowait 0% irq 1% softirq', 'CPU states: 2% user 1% system 0% nice 96% idle 0% iowait 0% irq 1% softirq', 'CPU states: 2% user 2% system 0% nice 95% idle 0% iowait 0% irq 1% softirq', 'CPU states: 3% user 1% system 0% nice 95% idle 0% iowait 0% irq 1% softirq', 'CPU states: 3% user 2% system 0% nice 93% idle 0% iowait 0% irq 2% softirq', 'CPU states: 2% user 0% system 0% nice 97% idle 0% iowait 0% irq 1% softirq', 'CPU states: 3% user 2% system 0% nice 94% idle 0% iowait 0% irq 1% softirq', 'CPU states: 3% user 2% system 0% nice 93% idle 0% iowait 0% irq 2% softirq', 'CPU states: 3% user 2% system 0% nice 93% idle 0% iowait 0% irq 2% softirq', 'CPU states: 2% user 1% system 0% nice 96% idle 0% iowait 0% irq 1% softirq', 'CPU states: 2% user 2% system 0% nice 95% idle 0% iowait 0% irq 1% softirq', 'CPU states: 3% user 2% system 0% nice 94% idle 0% iowait 0% irq 1% softirq', 'CPU states: 2% user 1% system 0% nice 95% idle 0% iowait 0% irq 2% softirq', 'CPU states: 2% user 1% system 0% nice 96% idle 0% iowait 0% irq 1% softirq', 'CPU states: 2% user 2% system 0% nice 95% idle 0% iowait 0% irq 1% softirq', 'CPU states: 3% user 0% system 0% nice 96% idle 0% iowait 0% irq 1% softirq', 'CPU states: 3% user 2% system 0% nice 94% idle 0% iowait 0% irq 1% softirq', 'CPU states: 3% user 1% system 0% nice 95% idle 0% iowait 0% irq 1% softirq', 'CPU states: 3% user 2% system 0% nice 94% idle 0% iowait 0% irq 1% softirq', 'CPU states: 3% user 2% system 0% nice 94% idle 0% iowait 0% irq 1% softirq', 'CPU states: 4% user 2% system 0% nice 92% idle 0% iowait 0% irq 2% softirq', 'CPU states: 3% user 2% system 0% nice 94% idle 0% iowait 0% irq 1% softirq', 'CPU states: 4% user 2% system 0% nice 93% idle 0% iowait 0% irq 1% softirq', 'CPU states: 5% user 2% system 0% nice 91% idle 0% iowait 0% irq 2% softirq', 'CPU states: 6% user 3% system 0% nice 89% idle 0% iowait 0% irq 2% softirq', 'CPU states: 7% user 3% system 0% nice 87% idle 0% iowait 0% irq 3% softirq', 'CPU states: 7% user 3% system 0% nice 87% idle 0% iowait 0% irq 3% softirq', 'CPU states: 9% user 4% system 0% nice 83% idle 0% iowait 0% irq 4% softirq', 'CPU states: 9% user 6% system 0% nice 80% idle 0% iowait 0% irq 5% softirq', 'CPU states: 9% user 5% system 0% nice 82% idle 0% iowait 0% irq 4% softirq', 'CPU states: 10% user 5% system 0% nice 79% idle 0% iowait 1% irq 5% softirq', 'CPU states: 10% user 6% system 0% nice 79% idle 0% iowait 1% irq 4% softirq', 'CPU states: 11% user 6% system 0% nice 77% idle 0% iowait 1% irq 5% softirq', 'CPU states: 11% user 6% system 0% nice 77% idle 0% iowait 1% irq 5% softirq', 'CPU states: 11% user 5% system 0% nice 78% idle 0% iowait 1% irq 5% softirq', 'CPU states: 11% user 7% system 0% nice 76% idle 0% iowait 1% irq 5% softirq', 'CPU states: 11% user 7% system 0% nice 76% idle 0% iowait 1% irq 5% softirq', 'CPU states: 11% user 5% system 0% nice 78% idle 0% iowait 1% irq 5% softirq', 'CPU states: 11% user 6% system 0% nice 77% idle 0% iowait 1% irq 5% softirq', 'CPU states: 10% user 5% system 0% nice 79% idle 0% iowait 1% irq 5% softirq', 'CPU states: 10% user 6% system 0% nice 79% idle 0% iowait 1% irq 4% softirq', 'CPU states: 10% user 6% system 0% nice 78% idle 0% iowait 1% irq 5% softirq', 'CPU states: 13% user 8% system 0% nice 72% idle 0% iowait 1% irq 6% softirq', 'CPU states: 9% user 5% system 0% nice 81% idle 0% iowait 1% irq 4% softirq', 'CPU states: 8% user 5% system 0% nice 83% idle 0% iowait 0% irq 4% softirq', 'CPU states: 9% user 4% system 0% nice 83% idle 0% iowait 0% irq 4% softirq', 'CPU states: 10% user 6% system 0% nice 79% idle 0% iowait 1% irq 4% softirq', 'CPU states: 11% user 6% system 0% nice 77% idle 0% iowait 1% irq 5% softirq', 'CPU states: 11% user 6% system 0% nice 77% idle 0% iowait 1% irq 5% softirq', 'CPU states: 11% user 6% system 0% nice 77% idle 0% iowait 1% irq 5% softirq', 'CPU states: 12% user 7% system 0% nice 75% idle 0% iowait 1% irq 5% softirq', 'CPU states: 10% user 5% system 0% nice 79% idle 0% iowait 1% irq 5% softirq', 'CPU states: 10% user 6% system 0% nice 78% idle 0% iowait 1% irq 5% softirq', 'CPU states: 11% user 6% system 0% nice 77% idle 0% iowait 1% irq 5% softirq', 'CPU states: 10% user 6% system 0% nice 78% idle 0% iowait 1% irq 5% softirq', 'CPU states: 11% user 6% system 0% nice 77% idle 0% iowait 1% irq 5% softirq', 'CPU states: 10% user 5% system 0% nice 79% idle 0% iowait 1% irq 5% softirq', 'CPU states: 9% user 5% system 0% nice 81% idle 0% iowait 1% irq 4% softirq', 'CPU states: 9% user 4% system 0% nice 83% idle 0% iowait 0% irq 4% softirq', 'CPU states: 8% user 5% system 0% nice 83% idle 0% iowait 0% irq 4% softirq', 'CPU states: 8% user 5% system 0% nice 83% idle 0% iowait 0% irq 4% softirq', 'CPU states: 7% user 4% system 0% nice 85% idle 0% iowait 0% irq 4% softirq', 'CPU states: 7% user 6% system 0% nice 83% idle 0% iowait 0% irq 4% softirq', 'CPU states: 6% user 4% system 0% nice 86% idle 0% iowait 0% irq 4% softirq', 'CPU states: 5% user 3% system 0% nice 89% idle 0% iowait 0% irq 3% softirq', 'CPU states: 5% user 3% system 0% nice 89% idle 0% iowait 0% irq 3% softirq', 'CPU states: 4% user 3% system 0% nice 91% idle 0% iowait 0% irq 2% softirq', 'CPU states: 4% user 3% system 0% nice 91% idle 0% iowait 0% irq 2% softirq', 'CPU states: 5% user 3% system 0% nice 89% idle 0% iowait 0% irq 3% softirq', 'CPU states: 4% user 3% system 0% nice 91% idle 0% iowait 0% irq 2% softirq']\n",
            "per_cpu_utilization[0]: ['CPU0 states: 5% user 3% system 0% nice 83% idle 0% iowait 1% irq 8% softirq', 'CPU1 states: 4% user 3% system 0% nice 89% idle 0% iowait 0% irq 4% softirq', 'CPU2 states: 1% user 2% system 0% nice 90% idle 0% iowait 1% irq 6% softirq', 'CPU3 states: 2% user 2% system 0% nice 87% idle 0% iowait 2% irq 7% softirq', 'CPU4 states: 3% user 3% system 0% nice 80% idle 0% iowait 2% irq 12% softirq', 'CPU5 states: 2% user 2% system 0% nice 92% idle 0% iowait 0% irq 4% softirq', 'CPU6 states: 4% user 4% system 0% nice 86% idle 0% iowait 0% irq 6% softirq', 'CPU7 states: 4% user 3% system 0% nice 89% idle 0% iowait 0% irq 4% softirq', 'CPU8 states: 3% user 3% system 0% nice 89% idle 0% iowait 0% irq 5% softirq', 'CPU9 states: 2% user 4% system 0% nice 90% idle 0% iowait 0% irq 4% softirq', 'CPU10 states: 7% user 5% system 0% nice 77% idle 0% iowait 1% irq 10% softirq', 'CPU11 states: 4% user 2% system 0% nice 86% idle 0% iowait 1% irq 7% softirq', 'CPU12 states: 8% user 4% system 0% nice 82% idle 0% iowait 0% irq 6% softirq', 'CPU13 states: 2% user 3% system 0% nice 91% idle 0% iowait 0% irq 4% softirq', 'CPU14 states: 4% user 3% system 0% nice 86% idle 0% iowait 1% irq 6% softirq', 'CPU15 states: 4% user 4% system 0% nice 88% idle 0% iowait 0% irq 4% softirq', 'CPU16 states: 4% user 2% system 0% nice 89% idle 0% iowait 0% irq 5% softirq', 'CPU17 states: 2% user 3% system 0% nice 91% idle 0% iowait 0% irq 4% softirq', 'CPU18 states: 2% user 2% system 0% nice 87% idle 0% iowait 1% irq 8% softirq', 'CPU19 states: 0% user 2% system 0% nice 93% idle 0% iowait 1% irq 4% softirq', 'CPU20 states: 3% user 2% system 0% nice 89% idle 0% iowait 0% irq 6% softirq', 'CPU21 states: 5% user 3% system 0% nice 90% idle 0% iowait 0% irq 2% softirq', 'CPU22 states: 4% user 5% system 0% nice 84% idle 0% iowait 1% irq 6% softirq', 'CPU23 states: 10% user 7% system 0% nice 74% idle 0% iowait 1% irq 8% softirq', 'CPU24 states: 3% user 2% system 0% nice 95% idle 0% iowait 0% irq 0% softirq', 'CPU25 states: 0% user 1% system 0% nice 99% idle 0% iowait 0% irq 0% softirq', 'CPU26 states: 3% user 2% system 0% nice 95% idle 0% iowait 0% irq 0% softirq', 'CPU27 states: 1% user 1% system 0% nice 98% idle 0% iowait 0% irq 0% softirq', 'CPU28 states: 3% user 1% system 0% nice 96% idle 0% iowait 0% irq 0% softirq', 'CPU29 states: 2% user 2% system 0% nice 96% idle 0% iowait 0% irq 0% softirq', 'CPU30 states: 8% user 2% system 0% nice 90% idle 0% iowait 0% irq 0% softirq', 'CPU31 states: 3% user 1% system 0% nice 96% idle 0% iowait 0% irq 0% softirq', 'CPU32 states: 4% user 1% system 0% nice 95% idle 0% iowait 0% irq 0% softirq', 'CPU33 states: 3% user 2% system 0% nice 95% idle 0% iowait 0% irq 0% softirq', 'CPU34 states: 7% user 2% system 0% nice 90% idle 0% iowait 1% irq 0% softirq', 'CPU35 states: 2% user 1% system 0% nice 96% idle 0% iowait 1% irq 0% softirq', 'CPU36 states: 4% user 2% system 0% nice 94% idle 0% iowait 0% irq 0% softirq', 'CPU37 states: 2% user 3% system 0% nice 95% idle 0% iowait 0% irq 0% softirq', 'CPU38 states: 2% user 1% system 0% nice 97% idle 0% iowait 0% irq 0% softirq', 'CPU39 states: 1% user 1% system 0% nice 98% idle 0% iowait 0% irq 0% softirq', 'CPU40 states: 2% user 2% system 0% nice 96% idle 0% iowait 0% irq 0% softirq', 'CPU41 states: 1% user 2% system 0% nice 97% idle 0% iowait 0% irq 0% softirq', 'CPU42 states: 9% user 2% system 0% nice 89% idle 0% iowait 0% irq 0% softirq', 'CPU43 states: 2% user 1% system 0% nice 97% idle 0% iowait 0% irq 0% softirq', 'CPU44 states: 2% user 1% system 0% nice 97% idle 0% iowait 0% irq 0% softirq', 'CPU45 states: 3% user 1% system 0% nice 96% idle 0% iowait 0% irq 0% softirq', 'CPU46 states: 5% user 2% system 0% nice 93% idle 0% iowait 0% irq 0% softirq', 'CPU47 states: 3% user 2% system 0% nice 95% idle 0% iowait 0% irq 0% softirq']\n",
            "cpu_idle_for_all_batches[0]: ['CPU0 83%', 'CPU1 89%', 'CPU2 90%', 'CPU3 87%', 'CPU4 80%', 'CPU5 92%', 'CPU6 86%', 'CPU7 89%', 'CPU8 89%', 'CPU9 90%', 'CPU10 77%', 'CPU11 86%', 'CPU12 82%', 'CPU13 91%', 'CPU14 86%', 'CPU15 88%', 'CPU16 89%', 'CPU17 91%', 'CPU18 87%', 'CPU19 93%', 'CPU20 89%', 'CPU21 90%', 'CPU22 84%', 'CPU23 74%', 'CPU24 95%', 'CPU25 99%', 'CPU26 95%', 'CPU27 98%', 'CPU28 96%', 'CPU29 96%', 'CPU30 90%', 'CPU31 96%', 'CPU32 95%', 'CPU33 95%', 'CPU34 90%', 'CPU35 96%', 'CPU36 94%', 'CPU37 95%', 'CPU38 97%', 'CPU39 98%', 'CPU40 96%', 'CPU41 97%', 'CPU42 89%', 'CPU43 97%', 'CPU44 97%', 'CPU45 96%', 'CPU46 93%', 'CPU47 95%']\n",
            "log chars: 4803126\n",
            "log lines: 93794\n",
            "cpu utilization lines: 4704\n",
            "batches: 96\n",
            "averages: ['CPU states: 4% user 2% system 0% nice 91% idle 0% iowait 0% irq 3% softirq', 'CPU states: 4% user 3% system 0% nice 89% idle 0% iowait 0% irq 4% softirq', 'CPU states: 3% user 2% system 0% nice 92% idle 0% iowait 0% irq 3% softirq', 'CPU states: 5% user 3% system 0% nice 89% idle 0% iowait 0% irq 3% softirq', 'CPU states: 4% user 3% system 0% nice 91% idle 0% iowait 0% irq 2% softirq', 'CPU states: 3% user 2% system 0% nice 93% idle 0% iowait 0% irq 2% softirq', 'CPU states: 4% user 2% system 0% nice 92% idle 0% iowait 0% irq 2% softirq', 'CPU states: 3% user 2% system 0% nice 93% idle 0% iowait 0% irq 2% softirq', 'CPU states: 3% user 2% system 0% nice 93% idle 0% iowait 0% irq 2% softirq', 'CPU states: 3% user 2% system 0% nice 93% idle 0% iowait 0% irq 2% softirq', 'CPU states: 4% user 2% system 0% nice 92% idle 0% iowait 0% irq 2% softirq', 'CPU states: 3% user 2% system 0% nice 93% idle 0% iowait 0% irq 2% softirq', 'CPU states: 4% user 2% system 0% nice 92% idle 0% iowait 0% irq 2% softirq', 'CPU states: 4% user 2% system 0% nice 92% idle 0% iowait 0% irq 2% softirq', 'CPU states: 3% user 2% system 0% nice 92% idle 0% iowait 0% irq 3% softirq', 'CPU states: 3% user 2% system 0% nice 92% idle 0% iowait 0% irq 3% softirq', 'CPU states: 4% user 3% system 0% nice 90% idle 0% iowait 0% irq 3% softirq', 'CPU states: 4% user 3% system 0% nice 90% idle 0% iowait 0% irq 3% softirq', 'CPU states: 3% user 2% system 0% nice 92% idle 0% iowait 0% irq 3% softirq', 'CPU states: 3% user 2% system 0% nice 93% idle 0% iowait 0% irq 2% softirq', 'CPU states: 4% user 2% system 0% nice 92% idle 0% iowait 0% irq 2% softirq', 'CPU states: 3% user 2% system 0% nice 93% idle 0% iowait 0% irq 2% softirq', 'CPU states: 3% user 2% system 0% nice 93% idle 0% iowait 0% irq 2% softirq', 'CPU states: 3% user 1% system 0% nice 95% idle 0% iowait 0% irq 1% softirq', 'CPU states: 3% user 2% system 0% nice 94% idle 0% iowait 0% irq 1% softirq', 'CPU states: 4% user 2% system 0% nice 93% idle 0% iowait 0% irq 1% softirq', 'CPU states: 3% user 2% system 0% nice 93% idle 0% iowait 0% irq 2% softirq', 'CPU states: 3% user 2% system 0% nice 93% idle 0% iowait 0% irq 2% softirq', 'CPU states: 3% user 2% system 0% nice 93% idle 0% iowait 0% irq 2% softirq', 'CPU states: 3% user 2% system 0% nice 93% idle 0% iowait 0% irq 2% softirq', 'CPU states: 3% user 2% system 0% nice 94% idle 0% iowait 0% irq 1% softirq', 'CPU states: 3% user 1% system 0% nice 94% idle 0% iowait 0% irq 2% softirq', 'CPU states: 3% user 2% system 0% nice 93% idle 0% iowait 0% irq 2% softirq', 'CPU states: 4% user 3% system 0% nice 91% idle 0% iowait 0% irq 2% softirq', 'CPU states: 3% user 1% system 0% nice 94% idle 0% iowait 0% irq 2% softirq', 'CPU states: 2% user 2% system 0% nice 94% idle 0% iowait 0% irq 2% softirq', 'CPU states: 3% user 2% system 0% nice 93% idle 0% iowait 0% irq 2% softirq', 'CPU states: 3% user 2% system 0% nice 94% idle 0% iowait 0% irq 1% softirq', 'CPU states: 3% user 1% system 0% nice 94% idle 0% iowait 0% irq 2% softirq', 'CPU states: 4% user 1% system 0% nice 94% idle 0% iowait 0% irq 1% softirq', 'CPU states: 2% user 2% system 0% nice 95% idle 0% iowait 0% irq 1% softirq', 'CPU states: 3% user 1% system 0% nice 95% idle 0% iowait 0% irq 1% softirq', 'CPU states: 3% user 1% system 0% nice 95% idle 0% iowait 0% irq 1% softirq', 'CPU states: 3% user 1% system 0% nice 95% idle 0% iowait 0% irq 1% softirq', 'CPU states: 3% user 2% system 0% nice 93% idle 0% iowait 0% irq 2% softirq', 'CPU states: 3% user 2% system 0% nice 93% idle 0% iowait 0% irq 2% softirq', 'CPU states: 3% user 1% system 0% nice 94% idle 0% iowait 0% irq 2% softirq', 'CPU states: 3% user 2% system 0% nice 94% idle 0% iowait 0% irq 1% softirq', 'CPU states: 5% user 3% system 0% nice 90% idle 0% iowait 0% irq 2% softirq', 'CPU states: 4% user 3% system 0% nice 91% idle 0% iowait 0% irq 2% softirq', 'CPU states: 6% user 2% system 0% nice 90% idle 0% iowait 0% irq 2% softirq', 'CPU states: 6% user 3% system 0% nice 88% idle 0% iowait 0% irq 3% softirq', 'CPU states: 7% user 4% system 0% nice 86% idle 0% iowait 0% irq 3% softirq', 'CPU states: 8% user 5% system 0% nice 83% idle 0% iowait 0% irq 4% softirq', 'CPU states: 9% user 4% system 0% nice 83% idle 0% iowait 0% irq 4% softirq', 'CPU states: 9% user 5% system 0% nice 81% idle 0% iowait 1% irq 4% softirq', 'CPU states: 11% user 5% system 0% nice 78% idle 0% iowait 1% irq 5% softirq', 'CPU states: 11% user 6% system 0% nice 77% idle 0% iowait 1% irq 5% softirq', 'CPU states: 13% user 8% system 0% nice 73% idle 0% iowait 1% irq 5% softirq', 'CPU states: 11% user 6% system 0% nice 77% idle 0% iowait 1% irq 5% softirq', 'CPU states: 12% user 6% system 0% nice 75% idle 0% iowait 1% irq 6% softirq', 'CPU states: 12% user 6% system 0% nice 76% idle 0% iowait 1% irq 5% softirq', 'CPU states: 11% user 6% system 0% nice 77% idle 0% iowait 1% irq 5% softirq', 'CPU states: 11% user 6% system 0% nice 78% idle 0% iowait 1% irq 4% softirq', 'CPU states: 11% user 6% system 0% nice 77% idle 0% iowait 1% irq 5% softirq', 'CPU states: 10% user 6% system 0% nice 78% idle 0% iowait 1% irq 5% softirq', 'CPU states: 11% user 7% system 0% nice 75% idle 0% iowait 1% irq 6% softirq', 'CPU states: 11% user 6% system 0% nice 77% idle 0% iowait 1% irq 5% softirq', 'CPU states: 12% user 6% system 0% nice 76% idle 0% iowait 1% irq 5% softirq', 'CPU states: 10% user 6% system 0% nice 79% idle 0% iowait 1% irq 4% softirq', 'CPU states: 10% user 5% system 0% nice 81% idle 0% iowait 0% irq 4% softirq', 'CPU states: 9% user 5% system 0% nice 82% idle 0% iowait 0% irq 4% softirq', 'CPU states: 10% user 5% system 0% nice 79% idle 0% iowait 1% irq 5% softirq', 'CPU states: 12% user 6% system 0% nice 76% idle 0% iowait 1% irq 5% softirq', 'CPU states: 11% user 6% system 0% nice 77% idle 0% iowait 1% irq 5% softirq', 'CPU states: 16% user 17% system 0% nice 62% idle 0% iowait 1% irq 4% softirq', 'CPU states: 11% user 5% system 0% nice 79% idle 0% iowait 1% irq 4% softirq', 'CPU states: 11% user 5% system 0% nice 78% idle 0% iowait 1% irq 5% softirq', 'CPU states: 11% user 6% system 0% nice 77% idle 0% iowait 1% irq 5% softirq', 'CPU states: 11% user 6% system 0% nice 76% idle 0% iowait 1% irq 6% softirq', 'CPU states: 11% user 6% system 0% nice 76% idle 0% iowait 1% irq 6% softirq', 'CPU states: 11% user 6% system 0% nice 77% idle 0% iowait 1% irq 5% softirq', 'CPU states: 11% user 7% system 0% nice 75% idle 0% iowait 1% irq 6% softirq', 'CPU states: 11% user 6% system 0% nice 77% idle 0% iowait 1% irq 5% softirq', 'CPU states: 10% user 5% system 0% nice 80% idle 0% iowait 1% irq 4% softirq', 'CPU states: 9% user 5% system 0% nice 82% idle 0% iowait 0% irq 4% softirq', 'CPU states: 9% user 6% system 0% nice 80% idle 0% iowait 1% irq 4% softirq', 'CPU states: 7% user 5% system 0% nice 85% idle 0% iowait 0% irq 3% softirq', 'CPU states: 7% user 5% system 0% nice 85% idle 0% iowait 0% irq 3% softirq', 'CPU states: 6% user 3% system 0% nice 88% idle 0% iowait 0% irq 3% softirq', 'CPU states: 5% user 3% system 0% nice 90% idle 0% iowait 0% irq 2% softirq', 'CPU states: 6% user 2% system 0% nice 90% idle 0% iowait 0% irq 2% softirq', 'CPU states: 5% user 3% system 0% nice 90% idle 0% iowait 0% irq 2% softirq', 'CPU states: 5% user 2% system 0% nice 91% idle 0% iowait 0% irq 2% softirq', 'CPU states: 4% user 2% system 0% nice 92% idle 0% iowait 0% irq 2% softirq', 'CPU states: 5% user 3% system 0% nice 90% idle 0% iowait 0% irq 2% softirq']\n",
            "per_cpu_utilization[0]: ['CPU0 states: 5% user 2% system 0% nice 85% idle 0% iowait 1% irq 7% softirq', 'CPU1 states: 2% user 2% system 0% nice 93% idle 0% iowait 0% irq 3% softirq', 'CPU2 states: 4% user 4% system 0% nice 84% idle 0% iowait 1% irq 7% softirq', 'CPU3 states: 0% user 0% system 0% nice 93% idle 0% iowait 1% irq 6% softirq', 'CPU4 states: 3% user 2% system 0% nice 77% idle 0% iowait 2% irq 16% softirq', 'CPU5 states: 7% user 3% system 0% nice 86% idle 0% iowait 0% irq 4% softirq', 'CPU6 states: 6% user 4% system 0% nice 84% idle 0% iowait 0% irq 6% softirq', 'CPU7 states: 4% user 3% system 0% nice 84% idle 0% iowait 0% irq 9% softirq', 'CPU8 states: 4% user 2% system 0% nice 88% idle 0% iowait 0% irq 6% softirq', 'CPU9 states: 5% user 4% system 0% nice 82% idle 0% iowait 1% irq 8% softirq', 'CPU10 states: 3% user 3% system 0% nice 87% idle 0% iowait 1% irq 6% softirq', 'CPU11 states: 16% user 10% system 0% nice 62% idle 0% iowait 1% irq 11% softirq', 'CPU12 states: 10% user 6% system 0% nice 76% idle 0% iowait 1% irq 7% softirq', 'CPU13 states: 2% user 3% system 0% nice 90% idle 0% iowait 0% irq 5% softirq', 'CPU14 states: 5% user 3% system 0% nice 85% idle 0% iowait 0% irq 7% softirq', 'CPU15 states: 5% user 2% system 0% nice 89% idle 0% iowait 0% irq 4% softirq', 'CPU16 states: 4% user 3% system 0% nice 83% idle 0% iowait 1% irq 9% softirq', 'CPU17 states: 7% user 2% system 0% nice 86% idle 0% iowait 0% irq 5% softirq', 'CPU18 states: 2% user 3% system 0% nice 87% idle 0% iowait 1% irq 7% softirq', 'CPU19 states: 1% user 2% system 0% nice 92% idle 0% iowait 1% irq 4% softirq', 'CPU20 states: 3% user 7% system 0% nice 83% idle 0% iowait 1% irq 6% softirq', 'CPU21 states: 6% user 6% system 0% nice 82% idle 0% iowait 1% irq 5% softirq', 'CPU22 states: 4% user 4% system 0% nice 84% idle 0% iowait 1% irq 7% softirq', 'CPU23 states: 4% user 2% system 0% nice 86% idle 0% iowait 1% irq 7% softirq', 'CPU24 states: 4% user 2% system 0% nice 94% idle 0% iowait 0% irq 0% softirq', 'CPU25 states: 1% user 3% system 0% nice 96% idle 0% iowait 0% irq 0% softirq', 'CPU26 states: 3% user 2% system 0% nice 95% idle 0% iowait 0% irq 0% softirq', 'CPU27 states: 1% user 1% system 0% nice 98% idle 0% iowait 0% irq 0% softirq', 'CPU28 states: 3% user 1% system 0% nice 96% idle 0% iowait 0% irq 0% softirq', 'CPU29 states: 4% user 1% system 0% nice 95% idle 0% iowait 0% irq 0% softirq', 'CPU30 states: 2% user 2% system 0% nice 96% idle 0% iowait 0% irq 0% softirq', 'CPU31 states: 3% user 1% system 0% nice 96% idle 0% iowait 0% irq 0% softirq', 'CPU32 states: 8% user 1% system 0% nice 91% idle 0% iowait 0% irq 0% softirq', 'CPU33 states: 5% user 1% system 0% nice 94% idle 0% iowait 0% irq 0% softirq', 'CPU34 states: 5% user 2% system 0% nice 91% idle 0% iowait 1% irq 1% softirq', 'CPU35 states: 1% user 2% system 0% nice 95% idle 0% iowait 1% irq 1% softirq', 'CPU36 states: 5% user 1% system 0% nice 94% idle 0% iowait 0% irq 0% softirq', 'CPU37 states: 2% user 1% system 0% nice 97% idle 0% iowait 0% irq 0% softirq', 'CPU38 states: 10% user 2% system 0% nice 88% idle 0% iowait 0% irq 0% softirq', 'CPU39 states: 1% user 2% system 0% nice 97% idle 0% iowait 0% irq 0% softirq', 'CPU40 states: 2% user 2% system 0% nice 96% idle 0% iowait 0% irq 0% softirq', 'CPU41 states: 3% user 2% system 0% nice 95% idle 0% iowait 0% irq 0% softirq', 'CPU42 states: 4% user 1% system 0% nice 95% idle 0% iowait 0% irq 0% softirq', 'CPU43 states: 2% user 1% system 0% nice 97% idle 0% iowait 0% irq 0% softirq', 'CPU44 states: 3% user 2% system 0% nice 95% idle 0% iowait 0% irq 0% softirq', 'CPU45 states: 2% user 2% system 0% nice 96% idle 0% iowait 0% irq 0% softirq', 'CPU46 states: 4% user 2% system 0% nice 94% idle 0% iowait 0% irq 0% softirq', 'CPU47 states: 5% user 2% system 0% nice 93% idle 0% iowait 0% irq 0% softirq']\n",
            "cpu_idle_for_all_batches[0]: ['CPU0 85%', 'CPU1 93%', 'CPU2 84%', 'CPU3 93%', 'CPU4 77%', 'CPU5 86%', 'CPU6 84%', 'CPU7 84%', 'CPU8 88%', 'CPU9 82%', 'CPU10 87%', 'CPU11 62%', 'CPU12 76%', 'CPU13 90%', 'CPU14 85%', 'CPU15 89%', 'CPU16 83%', 'CPU17 86%', 'CPU18 87%', 'CPU19 92%', 'CPU20 83%', 'CPU21 82%', 'CPU22 84%', 'CPU23 86%', 'CPU24 94%', 'CPU25 96%', 'CPU26 95%', 'CPU27 98%', 'CPU28 96%', 'CPU29 95%', 'CPU30 96%', 'CPU31 96%', 'CPU32 91%', 'CPU33 94%', 'CPU34 91%', 'CPU35 95%', 'CPU36 94%', 'CPU37 97%', 'CPU38 88%', 'CPU39 97%', 'CPU40 96%', 'CPU41 95%', 'CPU42 95%', 'CPU43 97%', 'CPU44 95%', 'CPU45 96%', 'CPU46 94%', 'CPU47 93%']\n"
          ]
        }
      ]
    },
    {
      "cell_type": "code",
      "source": [
        "days[0][0][0]"
      ],
      "metadata": {
        "colab": {
          "base_uri": "https://localhost:8080/",
          "height": 35
        },
        "id": "CZpANXAH4spI",
        "outputId": "190f0af0-b676-4abd-9449-58174729c1a8"
      },
      "execution_count": null,
      "outputs": [
        {
          "output_type": "execute_result",
          "data": {
            "text/plain": [
              "'CPU0 89%'"
            ],
            "application/vnd.google.colaboratory.intrinsic+json": {
              "type": "string"
            }
          },
          "metadata": {},
          "execution_count": 58
        }
      ]
    },
    {
      "cell_type": "code",
      "source": [
        "def percentage_to_decimal_and_complement(percentage: str) -> float:\n",
        "    return 1 - float(percentage.rstrip('%')) / 100\n",
        "\n",
        "\n",
        "def split_col_tile_and_value(tile_and_value:str) -> list:\n",
        "    splited = tile_and_value.split(' ')\n",
        "    return [splited[0], percentage_to_decimal_and_complement(splited[1])]\n",
        "\n",
        "def split_and_convert(days: list) -> list:\n",
        "    converted = []\n",
        "    for day in days:\n",
        "        converted_day = []\n",
        "        for batch in day:\n",
        "            converted_batch = []\n",
        "            for line in batch:\n",
        "                converted_batch.append(split_col_tile_and_value(line))\n",
        "            converted_day.append(converted_batch)\n",
        "        converted.append(converted_day)\n",
        "    return converted\n",
        "\n",
        "converted = split_and_convert(days)\n"
      ],
      "metadata": {
        "id": "R_gFDyk35WC4"
      },
      "execution_count": null,
      "outputs": []
    },
    {
      "cell_type": "code",
      "source": [
        "len(converted[1])"
      ],
      "metadata": {
        "colab": {
          "base_uri": "https://localhost:8080/"
        },
        "id": "Bqbmq6GmseGG",
        "outputId": "6c87e41c-16e5-4aa0-e402-e872cf41bc0b"
      },
      "execution_count": null,
      "outputs": [
        {
          "output_type": "execute_result",
          "data": {
            "text/plain": [
              "96"
            ]
          },
          "metadata": {},
          "execution_count": 96
        }
      ]
    },
    {
      "cell_type": "code",
      "source": [
        "def concatenate_days(days: list) -> list:\n",
        "    concatenated = []\n",
        "    for day in days:\n",
        "        concatenated.extend(day)\n",
        "    return concatenated\n",
        "concatenated = concatenate_days(converted)\n",
        "\n",
        "len(concatenated)"
      ],
      "metadata": {
        "colab": {
          "base_uri": "https://localhost:8080/"
        },
        "id": "1-Mc5MlEsoIi",
        "outputId": "60bd9e7c-af50-4397-b391-5b161d6dadca"
      },
      "execution_count": null,
      "outputs": [
        {
          "output_type": "execute_result",
          "data": {
            "text/plain": [
              "554"
            ]
          },
          "metadata": {},
          "execution_count": 97
        }
      ]
    },
    {
      "cell_type": "code",
      "source": [
        "concatenated[0]"
      ],
      "metadata": {
        "colab": {
          "base_uri": "https://localhost:8080/"
        },
        "id": "C91gpv9pwMEm",
        "outputId": "80e90248-a695-40af-d628-a0bb0e8cac2c"
      },
      "execution_count": null,
      "outputs": [
        {
          "output_type": "execute_result",
          "data": {
            "text/plain": [
              "[['CPU0', 0.10999999999999999],\n",
              " ['CPU1', 0.38],\n",
              " ['CPU2', 0.07999999999999996],\n",
              " ['CPU3', 0.030000000000000027],\n",
              " ['CPU4', 0.15000000000000002],\n",
              " ['CPU5', 0.07999999999999996],\n",
              " ['CPU6', 0.07999999999999996],\n",
              " ['CPU7', 0.06000000000000005],\n",
              " ['CPU8', 0.06000000000000005],\n",
              " ['CPU9', 0.14],\n",
              " ['CPU10', 0.08999999999999997],\n",
              " ['CPU11', 0.09999999999999998],\n",
              " ['CPU12', 0.06000000000000005],\n",
              " ['CPU13', 0.040000000000000036],\n",
              " ['CPU14', 0.08999999999999997],\n",
              " ['CPU15', 0.06000000000000005],\n",
              " ['CPU16', 0.06999999999999995],\n",
              " ['CPU17', 0.07999999999999996],\n",
              " ['CPU18', 0.040000000000000036],\n",
              " ['CPU19', 0.17000000000000004],\n",
              " ['CPU20', 0.10999999999999999],\n",
              " ['CPU21', 0.06000000000000005],\n",
              " ['CPU22', 0.06000000000000005],\n",
              " ['CPU23', 0.16000000000000003],\n",
              " ['CPU24', 0.030000000000000027],\n",
              " ['CPU25', 0.030000000000000027],\n",
              " ['CPU26', 0.040000000000000036],\n",
              " ['CPU27', 0.030000000000000027],\n",
              " ['CPU28', 0.06999999999999995],\n",
              " ['CPU29', 0.050000000000000044],\n",
              " ['CPU30', 0.050000000000000044],\n",
              " ['CPU31', 0.030000000000000027],\n",
              " ['CPU32', 0.040000000000000036],\n",
              " ['CPU33', 0.020000000000000018],\n",
              " ['CPU34', 0.010000000000000009],\n",
              " ['CPU35', 0.010000000000000009],\n",
              " ['CPU36', 0.06000000000000005],\n",
              " ['CPU37', 0.030000000000000027],\n",
              " ['CPU38', 0.07999999999999996],\n",
              " ['CPU39', 0.040000000000000036],\n",
              " ['CPU40', 0.10999999999999999],\n",
              " ['CPU41', 0.020000000000000018],\n",
              " ['CPU42', 0.050000000000000044],\n",
              " ['CPU43', 0.030000000000000027],\n",
              " ['CPU44', 0.050000000000000044],\n",
              " ['CPU45', 0.010000000000000009],\n",
              " ['CPU46', 0.030000000000000027],\n",
              " ['CPU47', 0.030000000000000027]]"
            ]
          },
          "metadata": {},
          "execution_count": 98
        }
      ]
    },
    {
      "source": [
        "import csv\n",
        "from pathlib import Path\n",
        "\n",
        "def list_to_csv(data: list, filename: str) -> None:\n",
        "    \"\"\"\n",
        "    Converts a list of lists to a CSV file where the first element of each sub-\n",
        "    list becomes the column title and the second element becomes the column's\n",
        "    value.\n",
        "\n",
        "    Args:\n",
        "        data: A list of lists, where each sub-list has two elements.\n",
        "        filename: The name of the CSV file to be created.\n",
        "    \"\"\"\n",
        "\n",
        "    folder_path = Path('/content/drive/My Drive/Fortinet/CSVs/')\n",
        "    folder_path.mkdir(parents=True, exist_ok=True)\n",
        "    filename = folder_path / 'one_row_value_with_column_name.csv'\n",
        "    with filename.open('w', newline='') as csvfile:\n",
        "        writer = csv.writer(csvfile)\n",
        "\n",
        "        # Write the header row (column titles)\n",
        "        header = [item[0] for item in data]\n",
        "        writer.writerow(header)\n",
        "\n",
        "        # Write the data row (values)\n",
        "        values = [item[1] for item in data]\n",
        "        writer.writerow(values)\n",
        "\n",
        "    print(f\"CSV file '{filename}' has been created.\")\n",
        "\n",
        "list_to_csv(concatenated[0], 'one_row_value_with_column_name.csv')"
      ],
      "cell_type": "code",
      "metadata": {
        "colab": {
          "base_uri": "https://localhost:8080/"
        },
        "id": "vvfgt2VkxPCx",
        "outputId": "f1fba917-00ee-4738-c83a-8d6913b56733"
      },
      "execution_count": null,
      "outputs": [
        {
          "output_type": "stream",
          "name": "stdout",
          "text": [
            "CSV file '/content/drive/My Drive/Fortinet/CSVs/one_row_value_with_column_name.csv' has been created.\n"
          ]
        }
      ]
    },
    {
      "cell_type": "code",
      "source": [
        "import csv\n",
        "from pathlib import Path\n",
        "\n",
        "def list_of_lists_to_csv(frames: list, filename: str) -> None:\n",
        "    \"\"\"\n",
        "    Converts a list of lists to a CSV file where each sub-list becomes a row in\n",
        "    the CSV file.\n",
        "    If the header is provided in the first sub-list, it will be written as the\n",
        "    first row.\n",
        "    If the header are provided in the following sub-lists, it will be ignored.\n",
        "\n",
        "    Args:\n",
        "        data: A list of lists, where each sub-list represents a row in the CSV\n",
        "        file.\n",
        "        filename: The name of the CSV file to be created.\n",
        "    \"\"\"\n",
        "\n",
        "    folder_path = Path('/content/drive/My Drive/Fortinet/CSVs/')\n",
        "\n",
        "    folder_path.mkdir(parents=True, exist_ok=True)\n",
        "\n",
        "    file_path = folder_path / 'all_cpus_utilization.csv'\n",
        "\n",
        "    header_exists = False\n",
        "\n",
        "    with file_path.open('w', newline='') as csvfile:\n",
        "\n",
        "        writer = csv.writer(csvfile)\n",
        "\n",
        "        # Write the data rows\n",
        "        for frame in frames:\n",
        "\n",
        "            if not header_exists:\n",
        "                header = [item[0] for item in frame]\n",
        "                print(header)\n",
        "                writer.writerow(header)\n",
        "                header_exists = True\n",
        "\n",
        "            values = [item[1] for item in frame]\n",
        "            writer.writerow(values)\n",
        "\n",
        "    print(f\"CSV file '{filename}' has been created.\")\n",
        "\n",
        "list_of_lists_to_csv(concatenated, 'all_cpus_utilization.csv')\n"
      ],
      "metadata": {
        "colab": {
          "base_uri": "https://localhost:8080/"
        },
        "id": "mz2ZOM_t0XUB",
        "outputId": "3eb24b42-495d-4dcb-e5a3-35a6e3111d88"
      },
      "execution_count": null,
      "outputs": [
        {
          "output_type": "stream",
          "name": "stdout",
          "text": [
            "['CPU0', 'CPU1', 'CPU2', 'CPU3', 'CPU4', 'CPU5', 'CPU6', 'CPU7', 'CPU8', 'CPU9', 'CPU10', 'CPU11', 'CPU12', 'CPU13', 'CPU14', 'CPU15', 'CPU16', 'CPU17', 'CPU18', 'CPU19', 'CPU20', 'CPU21', 'CPU22', 'CPU23', 'CPU24', 'CPU25', 'CPU26', 'CPU27', 'CPU28', 'CPU29', 'CPU30', 'CPU31', 'CPU32', 'CPU33', 'CPU34', 'CPU35', 'CPU36', 'CPU37', 'CPU38', 'CPU39', 'CPU40', 'CPU41', 'CPU42', 'CPU43', 'CPU44', 'CPU45', 'CPU46', 'CPU47']\n",
            "CSV file 'all_cpus_utilization.csv' has been created.\n"
          ]
        }
      ]
    },
    {
      "cell_type": "code",
      "source": [
        "def generate_time_stamps(start_time: str, numbers_of_stamps: int, interval: int) -> list:\n",
        "    \"\"\"\n",
        "    Generates a list of time stamps based on a start time and a number of stamps.\n",
        "\n",
        "    Args:\n",
        "        start_time: The start time in the format \"HH:MM:SS\".\n",
        "        numbers_of_stamps: The number of time stamps to generate.\n",
        "        interval: The interval between each time stamp in seconds.\n",
        "\n",
        "    Returns:\n",
        "        A list of time stamps.\n",
        "    \"\"\"\n",
        "\n",
        "    days, hours, minutes, seconds = map(int, start_time.split(':'))\n",
        "    time_stamps = []\n",
        "    current_time =  (days * 86400) + (hours * 3600) + (minutes * 60) + seconds\n",
        "    for _ in range(numbers_of_stamps):\n",
        "        days, remainder = divmod(current_time, 86400)\n",
        "        hours, remainder = divmod(remainder, 3600)\n",
        "        minutes, seconds = divmod(remainder, 60)\n",
        "        time_stamps.append(f\"{days:03d}:{hours:02d}:{minutes:02d}:{seconds:02d}\")\n",
        "        current_time += interval\n",
        "    return time_stamps\n",
        "\n",
        "time_stamps = generate_time_stamps('000:00:30:05', len(concatenated), 15*60)"
      ],
      "metadata": {
        "id": "e6cKZtcm0bkH"
      },
      "execution_count": null,
      "outputs": []
    },
    {
      "cell_type": "code",
      "source": [
        "time_stamps"
      ],
      "metadata": {
        "id": "aknPGbuc-kty",
        "colab": {
          "base_uri": "https://localhost:8080/"
        },
        "outputId": "75ffefe9-a723-41fc-faa5-09b3311fc400"
      },
      "execution_count": null,
      "outputs": [
        {
          "output_type": "execute_result",
          "data": {
            "text/plain": [
              "['000:00:30:05',\n",
              " '000:00:45:05',\n",
              " '000:01:00:05',\n",
              " '000:01:15:05',\n",
              " '000:01:30:05',\n",
              " '000:01:45:05',\n",
              " '000:02:00:05',\n",
              " '000:02:15:05',\n",
              " '000:02:30:05',\n",
              " '000:02:45:05',\n",
              " '000:03:00:05',\n",
              " '000:03:15:05',\n",
              " '000:03:30:05',\n",
              " '000:03:45:05',\n",
              " '000:04:00:05',\n",
              " '000:04:15:05',\n",
              " '000:04:30:05',\n",
              " '000:04:45:05',\n",
              " '000:05:00:05',\n",
              " '000:05:15:05',\n",
              " '000:05:30:05',\n",
              " '000:05:45:05',\n",
              " '000:06:00:05',\n",
              " '000:06:15:05',\n",
              " '000:06:30:05',\n",
              " '000:06:45:05',\n",
              " '000:07:00:05',\n",
              " '000:07:15:05',\n",
              " '000:07:30:05',\n",
              " '000:07:45:05',\n",
              " '000:08:00:05',\n",
              " '000:08:15:05',\n",
              " '000:08:30:05',\n",
              " '000:08:45:05',\n",
              " '000:09:00:05',\n",
              " '000:09:15:05',\n",
              " '000:09:30:05',\n",
              " '000:09:45:05',\n",
              " '000:10:00:05',\n",
              " '000:10:15:05',\n",
              " '000:10:30:05',\n",
              " '000:10:45:05',\n",
              " '000:11:00:05',\n",
              " '000:11:15:05',\n",
              " '000:11:30:05',\n",
              " '000:11:45:05',\n",
              " '000:12:00:05',\n",
              " '000:12:15:05',\n",
              " '000:12:30:05',\n",
              " '000:12:45:05',\n",
              " '000:13:00:05',\n",
              " '000:13:15:05',\n",
              " '000:13:30:05',\n",
              " '000:13:45:05',\n",
              " '000:14:00:05',\n",
              " '000:14:15:05',\n",
              " '000:14:30:05',\n",
              " '000:14:45:05',\n",
              " '000:15:00:05',\n",
              " '000:15:15:05',\n",
              " '000:15:30:05',\n",
              " '000:15:45:05',\n",
              " '000:16:00:05',\n",
              " '000:16:15:05',\n",
              " '000:16:30:05',\n",
              " '000:16:45:05',\n",
              " '000:17:00:05',\n",
              " '000:17:15:05',\n",
              " '000:17:30:05',\n",
              " '000:17:45:05',\n",
              " '000:18:00:05',\n",
              " '000:18:15:05',\n",
              " '000:18:30:05',\n",
              " '000:18:45:05',\n",
              " '000:19:00:05',\n",
              " '000:19:15:05',\n",
              " '000:19:30:05',\n",
              " '000:19:45:05',\n",
              " '000:20:00:05',\n",
              " '000:20:15:05',\n",
              " '000:20:30:05',\n",
              " '000:20:45:05',\n",
              " '000:21:00:05',\n",
              " '000:21:15:05',\n",
              " '000:21:30:05',\n",
              " '000:21:45:05',\n",
              " '000:22:00:05',\n",
              " '000:22:15:05',\n",
              " '000:22:30:05',\n",
              " '000:22:45:05',\n",
              " '000:23:00:05',\n",
              " '000:23:15:05',\n",
              " '000:23:30:05',\n",
              " '000:23:45:05',\n",
              " '001:00:00:05',\n",
              " '001:00:15:05',\n",
              " '001:00:30:05',\n",
              " '001:00:45:05',\n",
              " '001:01:00:05',\n",
              " '001:01:15:05',\n",
              " '001:01:30:05',\n",
              " '001:01:45:05',\n",
              " '001:02:00:05',\n",
              " '001:02:15:05',\n",
              " '001:02:30:05',\n",
              " '001:02:45:05',\n",
              " '001:03:00:05',\n",
              " '001:03:15:05',\n",
              " '001:03:30:05',\n",
              " '001:03:45:05',\n",
              " '001:04:00:05',\n",
              " '001:04:15:05',\n",
              " '001:04:30:05',\n",
              " '001:04:45:05',\n",
              " '001:05:00:05',\n",
              " '001:05:15:05',\n",
              " '001:05:30:05',\n",
              " '001:05:45:05',\n",
              " '001:06:00:05',\n",
              " '001:06:15:05',\n",
              " '001:06:30:05',\n",
              " '001:06:45:05',\n",
              " '001:07:00:05',\n",
              " '001:07:15:05',\n",
              " '001:07:30:05',\n",
              " '001:07:45:05',\n",
              " '001:08:00:05',\n",
              " '001:08:15:05',\n",
              " '001:08:30:05',\n",
              " '001:08:45:05',\n",
              " '001:09:00:05',\n",
              " '001:09:15:05',\n",
              " '001:09:30:05',\n",
              " '001:09:45:05',\n",
              " '001:10:00:05',\n",
              " '001:10:15:05',\n",
              " '001:10:30:05',\n",
              " '001:10:45:05',\n",
              " '001:11:00:05',\n",
              " '001:11:15:05',\n",
              " '001:11:30:05',\n",
              " '001:11:45:05',\n",
              " '001:12:00:05',\n",
              " '001:12:15:05',\n",
              " '001:12:30:05',\n",
              " '001:12:45:05',\n",
              " '001:13:00:05',\n",
              " '001:13:15:05',\n",
              " '001:13:30:05',\n",
              " '001:13:45:05',\n",
              " '001:14:00:05',\n",
              " '001:14:15:05',\n",
              " '001:14:30:05',\n",
              " '001:14:45:05',\n",
              " '001:15:00:05',\n",
              " '001:15:15:05',\n",
              " '001:15:30:05',\n",
              " '001:15:45:05',\n",
              " '001:16:00:05',\n",
              " '001:16:15:05',\n",
              " '001:16:30:05',\n",
              " '001:16:45:05',\n",
              " '001:17:00:05',\n",
              " '001:17:15:05',\n",
              " '001:17:30:05',\n",
              " '001:17:45:05',\n",
              " '001:18:00:05',\n",
              " '001:18:15:05',\n",
              " '001:18:30:05',\n",
              " '001:18:45:05',\n",
              " '001:19:00:05',\n",
              " '001:19:15:05',\n",
              " '001:19:30:05',\n",
              " '001:19:45:05',\n",
              " '001:20:00:05',\n",
              " '001:20:15:05',\n",
              " '001:20:30:05',\n",
              " '001:20:45:05',\n",
              " '001:21:00:05',\n",
              " '001:21:15:05',\n",
              " '001:21:30:05',\n",
              " '001:21:45:05',\n",
              " '001:22:00:05',\n",
              " '001:22:15:05',\n",
              " '001:22:30:05',\n",
              " '001:22:45:05',\n",
              " '001:23:00:05',\n",
              " '001:23:15:05',\n",
              " '001:23:30:05',\n",
              " '001:23:45:05',\n",
              " '002:00:00:05',\n",
              " '002:00:15:05',\n",
              " '002:00:30:05',\n",
              " '002:00:45:05',\n",
              " '002:01:00:05',\n",
              " '002:01:15:05',\n",
              " '002:01:30:05',\n",
              " '002:01:45:05',\n",
              " '002:02:00:05',\n",
              " '002:02:15:05',\n",
              " '002:02:30:05',\n",
              " '002:02:45:05',\n",
              " '002:03:00:05',\n",
              " '002:03:15:05',\n",
              " '002:03:30:05',\n",
              " '002:03:45:05',\n",
              " '002:04:00:05',\n",
              " '002:04:15:05',\n",
              " '002:04:30:05',\n",
              " '002:04:45:05',\n",
              " '002:05:00:05',\n",
              " '002:05:15:05',\n",
              " '002:05:30:05',\n",
              " '002:05:45:05',\n",
              " '002:06:00:05',\n",
              " '002:06:15:05',\n",
              " '002:06:30:05',\n",
              " '002:06:45:05',\n",
              " '002:07:00:05',\n",
              " '002:07:15:05',\n",
              " '002:07:30:05',\n",
              " '002:07:45:05',\n",
              " '002:08:00:05',\n",
              " '002:08:15:05',\n",
              " '002:08:30:05',\n",
              " '002:08:45:05',\n",
              " '002:09:00:05',\n",
              " '002:09:15:05',\n",
              " '002:09:30:05',\n",
              " '002:09:45:05',\n",
              " '002:10:00:05',\n",
              " '002:10:15:05',\n",
              " '002:10:30:05',\n",
              " '002:10:45:05',\n",
              " '002:11:00:05',\n",
              " '002:11:15:05',\n",
              " '002:11:30:05',\n",
              " '002:11:45:05',\n",
              " '002:12:00:05',\n",
              " '002:12:15:05',\n",
              " '002:12:30:05',\n",
              " '002:12:45:05',\n",
              " '002:13:00:05',\n",
              " '002:13:15:05',\n",
              " '002:13:30:05',\n",
              " '002:13:45:05',\n",
              " '002:14:00:05',\n",
              " '002:14:15:05',\n",
              " '002:14:30:05',\n",
              " '002:14:45:05',\n",
              " '002:15:00:05',\n",
              " '002:15:15:05',\n",
              " '002:15:30:05',\n",
              " '002:15:45:05',\n",
              " '002:16:00:05',\n",
              " '002:16:15:05',\n",
              " '002:16:30:05',\n",
              " '002:16:45:05',\n",
              " '002:17:00:05',\n",
              " '002:17:15:05',\n",
              " '002:17:30:05',\n",
              " '002:17:45:05',\n",
              " '002:18:00:05',\n",
              " '002:18:15:05',\n",
              " '002:18:30:05',\n",
              " '002:18:45:05',\n",
              " '002:19:00:05',\n",
              " '002:19:15:05',\n",
              " '002:19:30:05',\n",
              " '002:19:45:05',\n",
              " '002:20:00:05',\n",
              " '002:20:15:05',\n",
              " '002:20:30:05',\n",
              " '002:20:45:05',\n",
              " '002:21:00:05',\n",
              " '002:21:15:05',\n",
              " '002:21:30:05',\n",
              " '002:21:45:05',\n",
              " '002:22:00:05',\n",
              " '002:22:15:05',\n",
              " '002:22:30:05',\n",
              " '002:22:45:05',\n",
              " '002:23:00:05',\n",
              " '002:23:15:05',\n",
              " '002:23:30:05',\n",
              " '002:23:45:05',\n",
              " '003:00:00:05',\n",
              " '003:00:15:05',\n",
              " '003:00:30:05',\n",
              " '003:00:45:05',\n",
              " '003:01:00:05',\n",
              " '003:01:15:05',\n",
              " '003:01:30:05',\n",
              " '003:01:45:05',\n",
              " '003:02:00:05',\n",
              " '003:02:15:05',\n",
              " '003:02:30:05',\n",
              " '003:02:45:05',\n",
              " '003:03:00:05',\n",
              " '003:03:15:05',\n",
              " '003:03:30:05',\n",
              " '003:03:45:05',\n",
              " '003:04:00:05',\n",
              " '003:04:15:05',\n",
              " '003:04:30:05',\n",
              " '003:04:45:05',\n",
              " '003:05:00:05',\n",
              " '003:05:15:05',\n",
              " '003:05:30:05',\n",
              " '003:05:45:05',\n",
              " '003:06:00:05',\n",
              " '003:06:15:05',\n",
              " '003:06:30:05',\n",
              " '003:06:45:05',\n",
              " '003:07:00:05',\n",
              " '003:07:15:05',\n",
              " '003:07:30:05',\n",
              " '003:07:45:05',\n",
              " '003:08:00:05',\n",
              " '003:08:15:05',\n",
              " '003:08:30:05',\n",
              " '003:08:45:05',\n",
              " '003:09:00:05',\n",
              " '003:09:15:05',\n",
              " '003:09:30:05',\n",
              " '003:09:45:05',\n",
              " '003:10:00:05',\n",
              " '003:10:15:05',\n",
              " '003:10:30:05',\n",
              " '003:10:45:05',\n",
              " '003:11:00:05',\n",
              " '003:11:15:05',\n",
              " '003:11:30:05',\n",
              " '003:11:45:05',\n",
              " '003:12:00:05',\n",
              " '003:12:15:05',\n",
              " '003:12:30:05',\n",
              " '003:12:45:05',\n",
              " '003:13:00:05',\n",
              " '003:13:15:05',\n",
              " '003:13:30:05',\n",
              " '003:13:45:05',\n",
              " '003:14:00:05',\n",
              " '003:14:15:05',\n",
              " '003:14:30:05',\n",
              " '003:14:45:05',\n",
              " '003:15:00:05',\n",
              " '003:15:15:05',\n",
              " '003:15:30:05',\n",
              " '003:15:45:05',\n",
              " '003:16:00:05',\n",
              " '003:16:15:05',\n",
              " '003:16:30:05',\n",
              " '003:16:45:05',\n",
              " '003:17:00:05',\n",
              " '003:17:15:05',\n",
              " '003:17:30:05',\n",
              " '003:17:45:05',\n",
              " '003:18:00:05',\n",
              " '003:18:15:05',\n",
              " '003:18:30:05',\n",
              " '003:18:45:05',\n",
              " '003:19:00:05',\n",
              " '003:19:15:05',\n",
              " '003:19:30:05',\n",
              " '003:19:45:05',\n",
              " '003:20:00:05',\n",
              " '003:20:15:05',\n",
              " '003:20:30:05',\n",
              " '003:20:45:05',\n",
              " '003:21:00:05',\n",
              " '003:21:15:05',\n",
              " '003:21:30:05',\n",
              " '003:21:45:05',\n",
              " '003:22:00:05',\n",
              " '003:22:15:05',\n",
              " '003:22:30:05',\n",
              " '003:22:45:05',\n",
              " '003:23:00:05',\n",
              " '003:23:15:05',\n",
              " '003:23:30:05',\n",
              " '003:23:45:05',\n",
              " '004:00:00:05',\n",
              " '004:00:15:05',\n",
              " '004:00:30:05',\n",
              " '004:00:45:05',\n",
              " '004:01:00:05',\n",
              " '004:01:15:05',\n",
              " '004:01:30:05',\n",
              " '004:01:45:05',\n",
              " '004:02:00:05',\n",
              " '004:02:15:05',\n",
              " '004:02:30:05',\n",
              " '004:02:45:05',\n",
              " '004:03:00:05',\n",
              " '004:03:15:05',\n",
              " '004:03:30:05',\n",
              " '004:03:45:05',\n",
              " '004:04:00:05',\n",
              " '004:04:15:05',\n",
              " '004:04:30:05',\n",
              " '004:04:45:05',\n",
              " '004:05:00:05',\n",
              " '004:05:15:05',\n",
              " '004:05:30:05',\n",
              " '004:05:45:05',\n",
              " '004:06:00:05',\n",
              " '004:06:15:05',\n",
              " '004:06:30:05',\n",
              " '004:06:45:05',\n",
              " '004:07:00:05',\n",
              " '004:07:15:05',\n",
              " '004:07:30:05',\n",
              " '004:07:45:05',\n",
              " '004:08:00:05',\n",
              " '004:08:15:05',\n",
              " '004:08:30:05',\n",
              " '004:08:45:05',\n",
              " '004:09:00:05',\n",
              " '004:09:15:05',\n",
              " '004:09:30:05',\n",
              " '004:09:45:05',\n",
              " '004:10:00:05',\n",
              " '004:10:15:05',\n",
              " '004:10:30:05',\n",
              " '004:10:45:05',\n",
              " '004:11:00:05',\n",
              " '004:11:15:05',\n",
              " '004:11:30:05',\n",
              " '004:11:45:05',\n",
              " '004:12:00:05',\n",
              " '004:12:15:05',\n",
              " '004:12:30:05',\n",
              " '004:12:45:05',\n",
              " '004:13:00:05',\n",
              " '004:13:15:05',\n",
              " '004:13:30:05',\n",
              " '004:13:45:05',\n",
              " '004:14:00:05',\n",
              " '004:14:15:05',\n",
              " '004:14:30:05',\n",
              " '004:14:45:05',\n",
              " '004:15:00:05',\n",
              " '004:15:15:05',\n",
              " '004:15:30:05',\n",
              " '004:15:45:05',\n",
              " '004:16:00:05',\n",
              " '004:16:15:05',\n",
              " '004:16:30:05',\n",
              " '004:16:45:05',\n",
              " '004:17:00:05',\n",
              " '004:17:15:05',\n",
              " '004:17:30:05',\n",
              " '004:17:45:05',\n",
              " '004:18:00:05',\n",
              " '004:18:15:05',\n",
              " '004:18:30:05',\n",
              " '004:18:45:05',\n",
              " '004:19:00:05',\n",
              " '004:19:15:05',\n",
              " '004:19:30:05',\n",
              " '004:19:45:05',\n",
              " '004:20:00:05',\n",
              " '004:20:15:05',\n",
              " '004:20:30:05',\n",
              " '004:20:45:05',\n",
              " '004:21:00:05',\n",
              " '004:21:15:05',\n",
              " '004:21:30:05',\n",
              " '004:21:45:05',\n",
              " '004:22:00:05',\n",
              " '004:22:15:05',\n",
              " '004:22:30:05',\n",
              " '004:22:45:05',\n",
              " '004:23:00:05',\n",
              " '004:23:15:05',\n",
              " '004:23:30:05',\n",
              " '004:23:45:05',\n",
              " '005:00:00:05',\n",
              " '005:00:15:05',\n",
              " '005:00:30:05',\n",
              " '005:00:45:05',\n",
              " '005:01:00:05',\n",
              " '005:01:15:05',\n",
              " '005:01:30:05',\n",
              " '005:01:45:05',\n",
              " '005:02:00:05',\n",
              " '005:02:15:05',\n",
              " '005:02:30:05',\n",
              " '005:02:45:05',\n",
              " '005:03:00:05',\n",
              " '005:03:15:05',\n",
              " '005:03:30:05',\n",
              " '005:03:45:05',\n",
              " '005:04:00:05',\n",
              " '005:04:15:05',\n",
              " '005:04:30:05',\n",
              " '005:04:45:05',\n",
              " '005:05:00:05',\n",
              " '005:05:15:05',\n",
              " '005:05:30:05',\n",
              " '005:05:45:05',\n",
              " '005:06:00:05',\n",
              " '005:06:15:05',\n",
              " '005:06:30:05',\n",
              " '005:06:45:05',\n",
              " '005:07:00:05',\n",
              " '005:07:15:05',\n",
              " '005:07:30:05',\n",
              " '005:07:45:05',\n",
              " '005:08:00:05',\n",
              " '005:08:15:05',\n",
              " '005:08:30:05',\n",
              " '005:08:45:05',\n",
              " '005:09:00:05',\n",
              " '005:09:15:05',\n",
              " '005:09:30:05',\n",
              " '005:09:45:05',\n",
              " '005:10:00:05',\n",
              " '005:10:15:05',\n",
              " '005:10:30:05',\n",
              " '005:10:45:05',\n",
              " '005:11:00:05',\n",
              " '005:11:15:05',\n",
              " '005:11:30:05',\n",
              " '005:11:45:05',\n",
              " '005:12:00:05',\n",
              " '005:12:15:05',\n",
              " '005:12:30:05',\n",
              " '005:12:45:05',\n",
              " '005:13:00:05',\n",
              " '005:13:15:05',\n",
              " '005:13:30:05',\n",
              " '005:13:45:05',\n",
              " '005:14:00:05',\n",
              " '005:14:15:05',\n",
              " '005:14:30:05',\n",
              " '005:14:45:05',\n",
              " '005:15:00:05',\n",
              " '005:15:15:05',\n",
              " '005:15:30:05',\n",
              " '005:15:45:05',\n",
              " '005:16:00:05',\n",
              " '005:16:15:05',\n",
              " '005:16:30:05',\n",
              " '005:16:45:05',\n",
              " '005:17:00:05',\n",
              " '005:17:15:05',\n",
              " '005:17:30:05',\n",
              " '005:17:45:05',\n",
              " '005:18:00:05',\n",
              " '005:18:15:05',\n",
              " '005:18:30:05',\n",
              " '005:18:45:05']"
            ]
          },
          "metadata": {},
          "execution_count": 12
        }
      ]
    },
    {
      "source": [
        "import csv\n",
        "import tempfile\n",
        "import shutil # Import the shutil module\n",
        "from pathlib import Path\n",
        "\n",
        "def insert_column_before_first(csv_file_path: str, column_name: str, column_values: list) -> None:\n",
        "    \"\"\"\n",
        "    Inserts a new column before the first column of an existing CSV file.\n",
        "\n",
        "    Args:\n",
        "        csv_file_path: The path to the CSV file.\n",
        "        column_name: The name of the new column to insert.\n",
        "        column_values: A list of values to insert in the new column.\n",
        "            The length of this list should match the number of rows in the CSV file.\n",
        "    \"\"\"\n",
        "\n",
        "    source_file_path = Path(csv_file_path)\n",
        "\n",
        "    file_name, file_type = source_file_path.name.split('.')\n",
        "\n",
        "    target_file_path = source_file_path.parent / f'{file_name}_timed.{file_type}'\n",
        "\n",
        "\n",
        "\n",
        "    print(target_file_path)\n",
        "\n",
        "    with target_file_path.open('w+', newline='') as target_file:\n",
        "\n",
        "        with source_file_path.open('r', newline='') as csvfile:\n",
        "\n",
        "            reader = csv.reader(csvfile)\n",
        "            writer = csv.writer(target_file)\n",
        "\n",
        "            # Write header with new column name\n",
        "            header = next(reader)\n",
        "            writer.writerow([column_name] + header)\n",
        "\n",
        "            next(reader)\n",
        "\n",
        "            # Write data rows with new column values\n",
        "            for i, row in enumerate(reader):\n",
        "                writer.writerow([column_values[i]] + row)\n",
        "\n",
        "\n",
        "\n",
        "\n",
        "folder_path = Path('/content/drive/My Drive/Fortinet/CSVs/')\n",
        "\n",
        "folder_path.mkdir(parents=True, exist_ok=True)\n",
        "\n",
        "file_path = folder_path / 'all_cpus_utilization.csv'\n",
        "\n",
        "new_column_name = 'Timestamp'\n",
        "\n",
        "new_column_values = time_stamps # Titles for each row\n",
        "\n",
        "insert_column_before_first(file_path, new_column_name, new_column_values)"
      ],
      "cell_type": "code",
      "metadata": {
        "colab": {
          "base_uri": "https://localhost:8080/"
        },
        "id": "HXiZPdDw8sb6",
        "outputId": "46265078-d721-401c-bbce-cae71ac16dd6"
      },
      "execution_count": 6,
      "outputs": [
        {
          "output_type": "stream",
          "name": "stdout",
          "text": [
            "/content/drive/My Drive/Fortinet/CSVs/all_cpus_utilization_timed.csv\n"
          ]
        }
      ]
    },
    {
      "cell_type": "code",
      "source": [],
      "metadata": {
        "id": "r5xNFlXL8W9n"
      },
      "execution_count": null,
      "outputs": []
    },
    {
      "source": [
        "# capture the CPU utilization data from the log files with LAC fast mode being set\n",
        "# Mount the google drive\n",
        "from google.colab import drive\n",
        "drive.mount('/content/drive')\n",
        "\n",
        "# Initiate the logs path\n",
        "from pathlib import Path\n",
        "logs_path = Path('/content/drive/My Drive/Fortinet/')\n",
        "\n",
        "import csv\n",
        "\n",
        "\n",
        "def extract_idle(line_of_states:str) -> str:\n",
        "  items = line_of_states.split(' ')\n",
        "  cpu_id = items[0]\n",
        "  idle = items[8]\n",
        "  return ' '.join((cpu_id, idle))\n",
        "\n",
        "def extract_a_batch_of_cpu_idle(batch:list) -> list:\n",
        "  return [extract_idle(line) for line in batch]\n",
        "\n",
        "def extract_cpu_idle_for_all_batches(batches:list) -> list:\n",
        "  return [extract_a_batch_of_cpu_idle(batch) for batch in batches]\n",
        "\n",
        "\n",
        "def percentage_to_decimal_and_complement(percentage: str) -> float:\n",
        "    return 1 - float(percentage.rstrip('%')) / 100\n",
        "\n",
        "def split_col_tile_and_value(tile_and_value:str) -> list:\n",
        "    splited = tile_and_value.split(' ')\n",
        "    return [splited[0], percentage_to_decimal_and_complement(splited[1])]\n",
        "\n",
        "def split_and_convert(days: list) -> list:\n",
        "    converted = []\n",
        "    for day in days:\n",
        "        converted_day = []\n",
        "        for batch in day:\n",
        "            converted_batch = []\n",
        "            for line in batch:\n",
        "                converted_batch.append(split_col_tile_and_value(line))\n",
        "            converted_day.append(converted_batch)\n",
        "        converted.append(converted_day)\n",
        "    return converted\n",
        "\n",
        "def concatenate_days(days: list) -> list:\n",
        "    concatenated = []\n",
        "    for day in days:\n",
        "        concatenated.extend(day)\n",
        "    return concatenated\n",
        "\n",
        "def list_of_lists_to_csv(frames: list, filename: str) -> None:\n",
        "    \"\"\"\n",
        "    Converts a list of lists to a CSV file where each sub-list becomes a row in\n",
        "    the CSV file.\n",
        "    If the header is provided in the first sub-list, it will be written as the\n",
        "    first row.\n",
        "    If the header are provided in the following sub-lists, it will be ignored.\n",
        "\n",
        "    Args:\n",
        "        data: A list of lists, where each sub-list represents a row in the CSV\n",
        "        file.\n",
        "        filename: The name of the CSV file to be created.\n",
        "    \"\"\"\n",
        "\n",
        "    folder_path = Path('/content/drive/My Drive/Fortinet/CSVs/')\n",
        "\n",
        "    folder_path.mkdir(parents=True, exist_ok=True)\n",
        "\n",
        "    file_path = folder_path / filename\n",
        "\n",
        "    header_exists = False\n",
        "\n",
        "    with file_path.open('w', newline='') as csvfile:\n",
        "\n",
        "        writer = csv.writer(csvfile)\n",
        "\n",
        "        # Write the data rows\n",
        "        for frame in frames:\n",
        "\n",
        "            if not header_exists:\n",
        "                header = [item[0] for item in frame]\n",
        "                print(header)\n",
        "                writer.writerow(header)\n",
        "                header_exists = True\n",
        "\n",
        "            values = [item[1] for item in frame]\n",
        "            writer.writerow(values)\n",
        "\n",
        "    print(f\"CSV file '{file_path}' has been created.\")\n",
        "\n",
        "\n",
        "def generate_time_stamps(\n",
        "        start_time: str,\n",
        "        numbers_of_stamps: int,\n",
        "        interval: int\n",
        "        ) -> list:\n",
        "    \"\"\"\n",
        "    Generates a list of time stamps based on a start time and a number of stamps.\n",
        "\n",
        "    Args:\n",
        "        start_time: The start time in the format \"HH:MM:SS\".\n",
        "        numbers_of_stamps: The number of time stamps to generate.\n",
        "        interval: The interval between each time stamp in seconds.\n",
        "\n",
        "    Returns:\n",
        "        A list of time stamps.\n",
        "    \"\"\"\n",
        "\n",
        "    days, hours, minutes, seconds = map(int, start_time.split(':'))\n",
        "    time_stamps = []\n",
        "    current_time =  (days * 86400) + (hours * 3600) + (minutes * 60) + seconds\n",
        "    for _ in range(numbers_of_stamps):\n",
        "        days, remainder = divmod(current_time, 86400)\n",
        "        hours, remainder = divmod(remainder, 3600)\n",
        "        minutes, seconds = divmod(remainder, 60)\n",
        "        time_stamps.append(f\"{days:03d}:{hours:02d}:{minutes:02d}:{seconds:02d}\")\n",
        "        current_time += interval\n",
        "    return time_stamps\n",
        "\n",
        "\n",
        "def insert_column_before_first(\n",
        "        csv_file_path: Path,\n",
        "        column_name: str,\n",
        "        column_values: list\n",
        "        ) -> None:\n",
        "    \"\"\"\n",
        "    Inserts a new column before the first column of an existing CSV file.\n",
        "\n",
        "    Args:\n",
        "        csv_file_path: The path to the CSV file.\n",
        "        column_name: The name of the new column to insert.\n",
        "        column_values: A list of values to insert in the new column.\n",
        "            The length of this list should match the number of rows in the CSV file.\n",
        "    \"\"\"\n",
        "\n",
        "    source_file_path = Path(csv_file_path)\n",
        "    file_name, file_type = source_file_path.name.split('.')\n",
        "    target_file_path = source_file_path.parent / f'{file_name}_timed.{file_type}'\n",
        "    with target_file_path.open('w+', newline='') as target_file:\n",
        "        with source_file_path.open('r', newline='') as csvfile:\n",
        "            reader = csv.reader(csvfile)\n",
        "            writer = csv.writer(target_file)\n",
        "            # Write header with new column name\n",
        "            header = next(reader)\n",
        "            writer.writerow([column_name] + header)\n",
        "            next(reader)\n",
        "            # Write data rows with new column values\n",
        "            for i, row in enumerate(reader):\n",
        "                writer.writerow([column_values[i]] + row)\n",
        "    print(f\"CSV file '{target_file_path}' has been created.\")\n",
        "\n",
        "days = []\n",
        "\n",
        "try:\n",
        "    logs_path.exists()\n",
        "    print(\"Path exists\")\n",
        "    for filepath in logs_path.rglob(\"*_merged_logs.txt\"):\n",
        "        # Perform your loading/processing of the file here\n",
        "        with filepath.open('r') as file:\n",
        "            content = file.read()\n",
        "            lines = content.split('\\n')\n",
        "            cpu_utilization = [ line for line in lines if line.startswith('CPU')]\n",
        "            batches = [cpu_utilization[i:i+49] for i in range(0, len(cpu_utilization), 49)]\n",
        "            averages = [batches[i][0]  for i in range(len(batches))]\n",
        "            per_cpu_utilization = [batches[i][1:] for i in range(len(batches))]\n",
        "            cpu_idle_for_all_batches = extract_cpu_idle_for_all_batches(per_cpu_utilization)\n",
        "            days.append(cpu_idle_for_all_batches)\n",
        "    converted = split_and_convert(days)\n",
        "    concatenated = concatenate_days(converted)\n",
        "    list_of_lists_to_csv(concatenated, 'all_cpus_utilization_slow_mode.csv')\n",
        "    time_stamps = generate_time_stamps('000:00:30:05', len(concatenated), 15*60)  #\n",
        "    folder_path = logs_path / 'CSVs'\n",
        "    folder_path.mkdir(parents=True, exist_ok=True)\n",
        "    file_path = folder_path / 'all_cpus_utilization_slow_mode.csv'\n",
        "    new_column_name = 'Timestamp'\n",
        "    new_column_values = time_stamps # Titles for each row\n",
        "    insert_column_before_first(file_path, new_column_name, new_column_values)\n",
        "except FileNotFoundError:\n",
        "    print(\"Path does not exist\")\n",
        "\n",
        "\n",
        "\n",
        "\n",
        "\n"
      ],
      "cell_type": "code",
      "metadata": {
        "colab": {
          "base_uri": "https://localhost:8080/"
        },
        "outputId": "b7b3ba03-eeab-47c0-d94d-5c5d62ea8967",
        "id": "KeVhdL2J8jfn"
      },
      "execution_count": 7,
      "outputs": [
        {
          "output_type": "stream",
          "name": "stdout",
          "text": [
            "Drive already mounted at /content/drive; to attempt to forcibly remount, call drive.mount(\"/content/drive\", force_remount=True).\n",
            "Path exists\n",
            "['CPU0', 'CPU1', 'CPU2', 'CPU3', 'CPU4', 'CPU5', 'CPU6', 'CPU7', 'CPU8', 'CPU9', 'CPU10', 'CPU11', 'CPU12', 'CPU13', 'CPU14', 'CPU15', 'CPU16', 'CPU17', 'CPU18', 'CPU19', 'CPU20', 'CPU21', 'CPU22', 'CPU23', 'CPU24', 'CPU25', 'CPU26', 'CPU27', 'CPU28', 'CPU29', 'CPU30', 'CPU31', 'CPU32', 'CPU33', 'CPU34', 'CPU35', 'CPU36', 'CPU37', 'CPU38', 'CPU39', 'CPU40', 'CPU41', 'CPU42', 'CPU43', 'CPU44', 'CPU45', 'CPU46', 'CPU47']\n",
            "CSV file '/content/drive/My Drive/Fortinet/CSVs/all_cpus_utilization_slow_mode.csv' has been created.\n",
            "CSV file '/content/drive/My Drive/Fortinet/CSVs/all_cpus_utilization_slow_mode_timed.csv' has been created.\n"
          ]
        }
      ]
    },
    {
      "cell_type": "code",
      "source": [],
      "metadata": {
        "id": "PU2JMrNMFfRX"
      },
      "execution_count": null,
      "outputs": []
    }
  ]
}